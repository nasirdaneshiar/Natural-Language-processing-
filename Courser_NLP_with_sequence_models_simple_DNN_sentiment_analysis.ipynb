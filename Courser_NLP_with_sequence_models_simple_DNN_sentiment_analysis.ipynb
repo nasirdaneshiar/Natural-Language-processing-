{
  "cells": [
    {
      "cell_type": "markdown",
      "metadata": {
        "id": "eM2WI45DjCVp"
      },
      "source": [
        "# Assignment 1:  Sentiment with Deep Neural Networks\n",
        "\n",
        "Welcome to the first assignment of course 3. In this assignment, you will explore sentiment analysis using deep neural networks. \n",
        "## Outline\n",
        "- [Part 1:  Import libraries and try out Trax](#1)\n",
        "- [Part 2:  Importing the data](#2)\n",
        "    - [2.1  Loading in the data](#2.1)\n",
        "    - [2.2  Building the vocabulary](#2.2)\n",
        "    - [2.3  Converting a tweet to a tensor](#2.3)\n",
        "        - [Exercise 01](#ex01)\n",
        "    - [2.4  Creating a batch generator](#2.4)\n",
        "        - [Exercise 02](#ex02)\n",
        "- [Part 3:  Defining classes](#3)\n",
        "    - [3.1  ReLU class](#3.1)\n",
        "        - [Exercise 03](#ex03)\n",
        "    - [3.2  Dense class ](#3.2)\n",
        "        - [Exercise 04](#ex04)\n",
        "    - [3.3  Model](#3.3)\n",
        "        - [Exercise 05](#ex05)\n",
        "- [Part 4:  Training](#4)\n",
        "    - [4.1  Training the model](#4.1)\n",
        "        - [Exercise 06](#ex06)\n",
        "    - [4.2  Practice Making a prediction](#4.2)\n",
        "- [Part 5:  Evaluation  ](#5)\n",
        "    - [5.1  Computing the accuracy on a batch](#5.1)\n",
        "        - [Exercise 07](#ex07)\n",
        "    - [5.2  Testing your model on Validation Data](#5.2)\n",
        "        - [Exercise 08](#ex08)\n",
        "- [Part 6:  Testing with your own input](#6)\n"
      ]
    },
    {
      "cell_type": "markdown",
      "metadata": {
        "id": "8aeCPdILgrga"
      },
      "source": [
        "In course 1, you implemented Logistic regression and Naive Bayes for sentiment analysis. However if you were to give your old models an example like:\n",
        "\n",
        "<center> <span style='color:blue'> <b>This movie was almost good.</b> </span> </center>\n",
        "\n",
        "Your model would have predicted a positive sentiment for that review. However, that sentence has a negative sentiment and indicates that the movie was not good. To solve those kinds of misclassifications, you will write a program that uses deep neural networks to identify sentiment in text. By completing this assignment, you will: \n",
        "\n",
        "- Understand how you can build/design a model using layers\n",
        "- Train a model using a training loop\n",
        "- Use a binary cross-entropy loss function\n",
        "- Compute the accuracy of your model\n",
        "- Predict using your own input\n",
        "\n",
        "As you can tell, this model follows a similar structure to the one you previously implemented in the second course of this specialization. \n",
        "- Indeed most of the deep nets you will be implementing will have a similar structure. The only thing that changes is the model architecture, the inputs, and the outputs. Before starting the assignment, we will introduce you to the Google library `trax` that we use for building and training models.\n",
        "\n",
        "\n",
        "Now we will show you how to compute the gradient of a certain function `f` by just using `  .grad(f)`. \n",
        "\n",
        "- Trax source code can be found on Github: [Trax](https://github.com/google/trax)\n",
        "- The Trax code also uses the JAX library: [JAX](https://jax.readthedocs.io/en/latest/index.html)"
      ]
    },
    {
      "cell_type": "markdown",
      "metadata": {
        "id": "IOK4n9JEjCVs"
      },
      "source": [
        "<a name=\"1\"></a>\n",
        "# Part 1:  Import libraries and try out Trax\n",
        "\n",
        "- Let's import libraries and look at an example of using the Trax library."
      ]
    },
    {
      "cell_type": "code",
      "source": [
        "!pip install trax"
      ],
      "metadata": {
        "colab": {
          "base_uri": "https://localhost:8080/"
        },
        "id": "0kY2DxHuNhOI",
        "outputId": "384eab13-5c01-4b76-89c6-cf124f8987a2"
      },
      "execution_count": null,
      "outputs": [
        {
          "output_type": "stream",
          "name": "stdout",
          "text": [
            "Looking in indexes: https://pypi.org/simple, https://us-python.pkg.dev/colab-wheels/public/simple/\n",
            "Collecting trax\n",
            "  Downloading trax-1.4.1-py2.py3-none-any.whl (637 kB)\n",
            "\u001b[K     |████████████████████████████████| 637 kB 5.2 MB/s \n",
            "\u001b[?25hRequirement already satisfied: jax in /usr/local/lib/python3.7/dist-packages (from trax) (0.3.23)\n",
            "Collecting funcsigs\n",
            "  Downloading funcsigs-1.0.2-py2.py3-none-any.whl (17 kB)\n",
            "Requirement already satisfied: gym in /usr/local/lib/python3.7/dist-packages (from trax) (0.25.2)\n",
            "Requirement already satisfied: gin-config in /usr/local/lib/python3.7/dist-packages (from trax) (0.5.0)\n",
            "Requirement already satisfied: scipy in /usr/local/lib/python3.7/dist-packages (from trax) (1.7.3)\n",
            "Requirement already satisfied: six in /usr/local/lib/python3.7/dist-packages (from trax) (1.15.0)\n",
            "Requirement already satisfied: psutil in /usr/local/lib/python3.7/dist-packages (from trax) (5.4.8)\n",
            "Requirement already satisfied: jaxlib in /usr/local/lib/python3.7/dist-packages (from trax) (0.3.22+cuda11.cudnn805)\n",
            "Requirement already satisfied: absl-py in /usr/local/lib/python3.7/dist-packages (from trax) (1.3.0)\n",
            "Requirement already satisfied: tensorflow-datasets in /usr/local/lib/python3.7/dist-packages (from trax) (4.6.0)\n",
            "Requirement already satisfied: numpy in /usr/local/lib/python3.7/dist-packages (from trax) (1.21.6)\n",
            "Collecting tensorflow-text\n",
            "  Downloading tensorflow_text-2.10.0-cp37-cp37m-manylinux_2_17_x86_64.manylinux2014_x86_64.whl (5.9 MB)\n",
            "\u001b[K     |████████████████████████████████| 5.9 MB 48.6 MB/s \n",
            "\u001b[?25hRequirement already satisfied: matplotlib in /usr/local/lib/python3.7/dist-packages (from trax) (3.2.2)\n",
            "Requirement already satisfied: cloudpickle>=1.2.0 in /usr/local/lib/python3.7/dist-packages (from gym->trax) (1.5.0)\n",
            "Requirement already satisfied: gym-notices>=0.0.4 in /usr/local/lib/python3.7/dist-packages (from gym->trax) (0.0.8)\n",
            "Requirement already satisfied: importlib-metadata>=4.8.0 in /usr/local/lib/python3.7/dist-packages (from gym->trax) (4.13.0)\n",
            "Requirement already satisfied: zipp>=0.5 in /usr/local/lib/python3.7/dist-packages (from importlib-metadata>=4.8.0->gym->trax) (3.9.0)\n",
            "Requirement already satisfied: typing-extensions>=3.6.4 in /usr/local/lib/python3.7/dist-packages (from importlib-metadata>=4.8.0->gym->trax) (4.1.1)\n",
            "Requirement already satisfied: etils[epath] in /usr/local/lib/python3.7/dist-packages (from jax->trax) (0.8.0)\n",
            "Requirement already satisfied: opt-einsum in /usr/local/lib/python3.7/dist-packages (from jax->trax) (3.3.0)\n",
            "Requirement already satisfied: importlib_resources in /usr/local/lib/python3.7/dist-packages (from etils[epath]->jax->trax) (5.10.0)\n",
            "Requirement already satisfied: python-dateutil>=2.1 in /usr/local/lib/python3.7/dist-packages (from matplotlib->trax) (2.8.2)\n",
            "Requirement already satisfied: cycler>=0.10 in /usr/local/lib/python3.7/dist-packages (from matplotlib->trax) (0.11.0)\n",
            "Requirement already satisfied: pyparsing!=2.0.4,!=2.1.2,!=2.1.6,>=2.0.1 in /usr/local/lib/python3.7/dist-packages (from matplotlib->trax) (3.0.9)\n",
            "Requirement already satisfied: kiwisolver>=1.0.1 in /usr/local/lib/python3.7/dist-packages (from matplotlib->trax) (1.4.4)\n",
            "Requirement already satisfied: tensorflow-metadata in /usr/local/lib/python3.7/dist-packages (from tensorflow-datasets->trax) (1.10.0)\n",
            "Requirement already satisfied: dill in /usr/local/lib/python3.7/dist-packages (from tensorflow-datasets->trax) (0.3.5.1)\n",
            "Requirement already satisfied: tqdm in /usr/local/lib/python3.7/dist-packages (from tensorflow-datasets->trax) (4.64.1)\n",
            "Requirement already satisfied: termcolor in /usr/local/lib/python3.7/dist-packages (from tensorflow-datasets->trax) (2.0.1)\n",
            "Requirement already satisfied: toml in /usr/local/lib/python3.7/dist-packages (from tensorflow-datasets->trax) (0.10.2)\n",
            "Requirement already satisfied: requests>=2.19.0 in /usr/local/lib/python3.7/dist-packages (from tensorflow-datasets->trax) (2.23.0)\n",
            "Requirement already satisfied: protobuf>=3.12.2 in /usr/local/lib/python3.7/dist-packages (from tensorflow-datasets->trax) (3.17.3)\n",
            "Requirement already satisfied: promise in /usr/local/lib/python3.7/dist-packages (from tensorflow-datasets->trax) (2.3)\n",
            "Requirement already satisfied: certifi>=2017.4.17 in /usr/local/lib/python3.7/dist-packages (from requests>=2.19.0->tensorflow-datasets->trax) (2022.9.24)\n",
            "Requirement already satisfied: idna<3,>=2.5 in /usr/local/lib/python3.7/dist-packages (from requests>=2.19.0->tensorflow-datasets->trax) (2.10)\n",
            "Requirement already satisfied: chardet<4,>=3.0.2 in /usr/local/lib/python3.7/dist-packages (from requests>=2.19.0->tensorflow-datasets->trax) (3.0.4)\n",
            "Requirement already satisfied: urllib3!=1.25.0,!=1.25.1,<1.26,>=1.21.1 in /usr/local/lib/python3.7/dist-packages (from requests>=2.19.0->tensorflow-datasets->trax) (1.24.3)\n",
            "Requirement already satisfied: googleapis-common-protos<2,>=1.52.0 in /usr/local/lib/python3.7/dist-packages (from tensorflow-metadata->tensorflow-datasets->trax) (1.56.4)\n",
            "Collecting tensorflow<2.11,>=2.10.0\n",
            "  Downloading tensorflow-2.10.0-cp37-cp37m-manylinux_2_17_x86_64.manylinux2014_x86_64.whl (578.0 MB)\n",
            "\u001b[K     |████████████████████████████████| 578.0 MB 15 kB/s \n",
            "\u001b[?25hRequirement already satisfied: tensorflow-hub>=0.8.0 in /usr/local/lib/python3.7/dist-packages (from tensorflow-text->trax) (0.12.0)\n",
            "Collecting flatbuffers>=2.0\n",
            "  Downloading flatbuffers-22.9.24-py2.py3-none-any.whl (26 kB)\n",
            "Requirement already satisfied: libclang>=13.0.0 in /usr/local/lib/python3.7/dist-packages (from tensorflow<2.11,>=2.10.0->tensorflow-text->trax) (14.0.6)\n",
            "Collecting tensorflow-estimator<2.11,>=2.10.0\n",
            "  Downloading tensorflow_estimator-2.10.0-py2.py3-none-any.whl (438 kB)\n",
            "\u001b[K     |████████████████████████████████| 438 kB 62.5 MB/s \n",
            "\u001b[?25hRequirement already satisfied: packaging in /usr/local/lib/python3.7/dist-packages (from tensorflow<2.11,>=2.10.0->tensorflow-text->trax) (21.3)\n",
            "Requirement already satisfied: tensorflow-io-gcs-filesystem>=0.23.1 in /usr/local/lib/python3.7/dist-packages (from tensorflow<2.11,>=2.10.0->tensorflow-text->trax) (0.27.0)\n",
            "Requirement already satisfied: gast<=0.4.0,>=0.2.1 in /usr/local/lib/python3.7/dist-packages (from tensorflow<2.11,>=2.10.0->tensorflow-text->trax) (0.4.0)\n",
            "Requirement already satisfied: grpcio<2.0,>=1.24.3 in /usr/local/lib/python3.7/dist-packages (from tensorflow<2.11,>=2.10.0->tensorflow-text->trax) (1.49.1)\n",
            "Requirement already satisfied: wrapt>=1.11.0 in /usr/local/lib/python3.7/dist-packages (from tensorflow<2.11,>=2.10.0->tensorflow-text->trax) (1.14.1)\n",
            "Requirement already satisfied: keras-preprocessing>=1.1.1 in /usr/local/lib/python3.7/dist-packages (from tensorflow<2.11,>=2.10.0->tensorflow-text->trax) (1.1.2)\n",
            "Collecting tensorboard<2.11,>=2.10\n",
            "  Downloading tensorboard-2.10.1-py3-none-any.whl (5.9 MB)\n",
            "\u001b[K     |████████████████████████████████| 5.9 MB 39.5 MB/s \n",
            "\u001b[?25hRequirement already satisfied: google-pasta>=0.1.1 in /usr/local/lib/python3.7/dist-packages (from tensorflow<2.11,>=2.10.0->tensorflow-text->trax) (0.2.0)\n",
            "Requirement already satisfied: h5py>=2.9.0 in /usr/local/lib/python3.7/dist-packages (from tensorflow<2.11,>=2.10.0->tensorflow-text->trax) (3.1.0)\n",
            "Requirement already satisfied: setuptools in /usr/local/lib/python3.7/dist-packages (from tensorflow<2.11,>=2.10.0->tensorflow-text->trax) (57.4.0)\n",
            "Collecting keras<2.11,>=2.10.0\n",
            "  Downloading keras-2.10.0-py2.py3-none-any.whl (1.7 MB)\n",
            "\u001b[K     |████████████████████████████████| 1.7 MB 59.9 MB/s \n",
            "\u001b[?25hRequirement already satisfied: astunparse>=1.6.0 in /usr/local/lib/python3.7/dist-packages (from tensorflow<2.11,>=2.10.0->tensorflow-text->trax) (1.6.3)\n",
            "Requirement already satisfied: wheel<1.0,>=0.23.0 in /usr/local/lib/python3.7/dist-packages (from astunparse>=1.6.0->tensorflow<2.11,>=2.10.0->tensorflow-text->trax) (0.37.1)\n",
            "Requirement already satisfied: cached-property in /usr/local/lib/python3.7/dist-packages (from h5py>=2.9.0->tensorflow<2.11,>=2.10.0->tensorflow-text->trax) (1.5.2)\n",
            "Requirement already satisfied: google-auth<3,>=1.6.3 in /usr/local/lib/python3.7/dist-packages (from tensorboard<2.11,>=2.10->tensorflow<2.11,>=2.10.0->tensorflow-text->trax) (1.35.0)\n",
            "Requirement already satisfied: werkzeug>=1.0.1 in /usr/local/lib/python3.7/dist-packages (from tensorboard<2.11,>=2.10->tensorflow<2.11,>=2.10.0->tensorflow-text->trax) (1.0.1)\n",
            "Requirement already satisfied: google-auth-oauthlib<0.5,>=0.4.1 in /usr/local/lib/python3.7/dist-packages (from tensorboard<2.11,>=2.10->tensorflow<2.11,>=2.10.0->tensorflow-text->trax) (0.4.6)\n",
            "Requirement already satisfied: tensorboard-plugin-wit>=1.6.0 in /usr/local/lib/python3.7/dist-packages (from tensorboard<2.11,>=2.10->tensorflow<2.11,>=2.10.0->tensorflow-text->trax) (1.8.1)\n",
            "Requirement already satisfied: tensorboard-data-server<0.7.0,>=0.6.0 in /usr/local/lib/python3.7/dist-packages (from tensorboard<2.11,>=2.10->tensorflow<2.11,>=2.10.0->tensorflow-text->trax) (0.6.1)\n",
            "Requirement already satisfied: markdown>=2.6.8 in /usr/local/lib/python3.7/dist-packages (from tensorboard<2.11,>=2.10->tensorflow<2.11,>=2.10.0->tensorflow-text->trax) (3.4.1)\n",
            "Requirement already satisfied: pyasn1-modules>=0.2.1 in /usr/local/lib/python3.7/dist-packages (from google-auth<3,>=1.6.3->tensorboard<2.11,>=2.10->tensorflow<2.11,>=2.10.0->tensorflow-text->trax) (0.2.8)\n",
            "Requirement already satisfied: rsa<5,>=3.1.4 in /usr/local/lib/python3.7/dist-packages (from google-auth<3,>=1.6.3->tensorboard<2.11,>=2.10->tensorflow<2.11,>=2.10.0->tensorflow-text->trax) (4.9)\n",
            "Requirement already satisfied: cachetools<5.0,>=2.0.0 in /usr/local/lib/python3.7/dist-packages (from google-auth<3,>=1.6.3->tensorboard<2.11,>=2.10->tensorflow<2.11,>=2.10.0->tensorflow-text->trax) (4.2.4)\n",
            "Requirement already satisfied: requests-oauthlib>=0.7.0 in /usr/local/lib/python3.7/dist-packages (from google-auth-oauthlib<0.5,>=0.4.1->tensorboard<2.11,>=2.10->tensorflow<2.11,>=2.10.0->tensorflow-text->trax) (1.3.1)\n",
            "Requirement already satisfied: pyasn1<0.5.0,>=0.4.6 in /usr/local/lib/python3.7/dist-packages (from pyasn1-modules>=0.2.1->google-auth<3,>=1.6.3->tensorboard<2.11,>=2.10->tensorflow<2.11,>=2.10.0->tensorflow-text->trax) (0.4.8)\n",
            "Requirement already satisfied: oauthlib>=3.0.0 in /usr/local/lib/python3.7/dist-packages (from requests-oauthlib>=0.7.0->google-auth-oauthlib<0.5,>=0.4.1->tensorboard<2.11,>=2.10->tensorflow<2.11,>=2.10.0->tensorflow-text->trax) (3.2.1)\n",
            "Installing collected packages: tensorflow-estimator, tensorboard, keras, flatbuffers, tensorflow, tensorflow-text, funcsigs, trax\n",
            "  Attempting uninstall: tensorflow-estimator\n",
            "    Found existing installation: tensorflow-estimator 2.9.0\n",
            "    Uninstalling tensorflow-estimator-2.9.0:\n",
            "      Successfully uninstalled tensorflow-estimator-2.9.0\n",
            "  Attempting uninstall: tensorboard\n",
            "    Found existing installation: tensorboard 2.9.1\n",
            "    Uninstalling tensorboard-2.9.1:\n",
            "      Successfully uninstalled tensorboard-2.9.1\n",
            "  Attempting uninstall: keras\n",
            "    Found existing installation: keras 2.9.0\n",
            "    Uninstalling keras-2.9.0:\n",
            "      Successfully uninstalled keras-2.9.0\n",
            "  Attempting uninstall: flatbuffers\n",
            "    Found existing installation: flatbuffers 1.12\n",
            "    Uninstalling flatbuffers-1.12:\n",
            "      Successfully uninstalled flatbuffers-1.12\n",
            "  Attempting uninstall: tensorflow\n",
            "    Found existing installation: tensorflow 2.9.2\n",
            "    Uninstalling tensorflow-2.9.2:\n",
            "      Successfully uninstalled tensorflow-2.9.2\n",
            "Successfully installed flatbuffers-22.9.24 funcsigs-1.0.2 keras-2.10.0 tensorboard-2.10.1 tensorflow-2.10.0 tensorflow-estimator-2.10.0 tensorflow-text-2.10.0 trax-1.4.1\n"
          ]
        }
      ]
    },
    {
      "cell_type": "code",
      "source": [
        "from google.colab import drive\n",
        "drive.mount('/content/drive')"
      ],
      "metadata": {
        "colab": {
          "base_uri": "https://localhost:8080/"
        },
        "id": "F9rSkP7LNyFQ",
        "outputId": "8f6c7d25-b3f2-4fc5-9f9c-ab6e2d9697b2"
      },
      "execution_count": null,
      "outputs": [
        {
          "output_type": "stream",
          "name": "stdout",
          "text": [
            "Mounted at /content/drive\n"
          ]
        }
      ]
    },
    {
      "cell_type": "code",
      "source": [
        "cd /content/drive/MyDrive/Colab Notebooks/natural_language_processing/Natural-Language-Processing-Specialization/Natural Language Processing with Sequence Models/Week 1"
      ],
      "metadata": {
        "colab": {
          "base_uri": "https://localhost:8080/"
        },
        "id": "AfM30SkwN0v7",
        "outputId": "feafd82b-e3fe-4703-be35-c77a32aac028"
      },
      "execution_count": null,
      "outputs": [
        {
          "output_type": "stream",
          "name": "stdout",
          "text": [
            "/content/drive/MyDrive/Colab Notebooks/natural_language_processing/Natural-Language-Processing-Specialization/Natural Language Processing with Sequence Models/Week 1\n"
          ]
        }
      ]
    },
    {
      "cell_type": "code",
      "execution_count": null,
      "metadata": {
        "colab": {
          "base_uri": "https://localhost:8080/"
        },
        "id": "WOTfm2P0jCVt",
        "outputId": "29956c8e-5a01-4bdf-9a16-7cc937ef882e"
      },
      "outputs": [
        {
          "output_type": "stream",
          "name": "stderr",
          "text": [
            "[nltk_data] Downloading package twitter_samples to /root/nltk_data...\n",
            "[nltk_data]   Unzipping corpora/twitter_samples.zip.\n",
            "[nltk_data] Downloading package stopwords to /root/nltk_data...\n",
            "[nltk_data]   Unzipping corpora/stopwords.zip.\n"
          ]
        }
      ],
      "source": [
        "import os \n",
        "import random as rnd\n",
        "\n",
        "# import relevant libraries\n",
        "import trax\n",
        "\n",
        "# set random seeds to make this notebook easier to replicate\n",
        "#trax.supervised.trainer_lib.init_random_number_generators(31)\n",
        "\n",
        "# import trax.fastmath.numpy\n",
        "import trax.fastmath.numpy as np\n",
        "\n",
        "# import trax.layers\n",
        "from trax import layers as tl\n",
        "\n",
        "# import Layer from the utils.py file\n",
        "from utils import Layer, load_tweets, process_tweet\n",
        "#from utils import \n"
      ]
    },
    {
      "cell_type": "code",
      "execution_count": null,
      "metadata": {
        "colab": {
          "base_uri": "https://localhost:8080/",
          "height": 126
        },
        "id": "EyMnUt38jCVw",
        "outputId": "ff0c2d7d-3888-4ef1-836e-5663234455d5"
      },
      "outputs": [
        {
          "output_type": "stream",
          "name": "stderr",
          "text": [
            "WARNING:absl:No GPU/TPU found, falling back to CPU. (Set TF_CPP_MIN_LOG_LEVEL=0 and rerun for more info.)\n"
          ]
        },
        {
          "output_type": "display_data",
          "data": {
            "text/plain": [
              "DeviceArray(5., dtype=float32, weak_type=True)"
            ]
          },
          "metadata": {}
        },
        {
          "output_type": "stream",
          "name": "stdout",
          "text": [
            "<class 'jaxlib.xla_extension.DeviceArray'>\n"
          ]
        }
      ],
      "source": [
        "# Create an array using trax.fastmath.numpy\n",
        "a = np.array(5.0)\n",
        "\n",
        "# View the returned array\n",
        "display(a)\n",
        "\n",
        "print(type(a))"
      ]
    },
    {
      "cell_type": "markdown",
      "metadata": {
        "id": "WtEWAFUIjCVz"
      },
      "source": [
        "Notice that trax.fastmath.numpy returns a DeviceArray from the jax library."
      ]
    },
    {
      "cell_type": "code",
      "execution_count": null,
      "metadata": {
        "id": "J2RUtDtrjCV0"
      },
      "outputs": [],
      "source": [
        "# Define a function that will use the trax.fastmath.numpy array\n",
        "def f(x):\n",
        "    \n",
        "    # f = x^2\n",
        "    return (x**2)"
      ]
    },
    {
      "cell_type": "code",
      "execution_count": null,
      "metadata": {
        "colab": {
          "base_uri": "https://localhost:8080/"
        },
        "id": "qvUd-xzqjCV4",
        "outputId": "595d889e-0611-4259-d79c-4de0676e010e"
      },
      "outputs": [
        {
          "output_type": "stream",
          "name": "stdout",
          "text": [
            "f(a) for a=5.0 is 25.0\n"
          ]
        }
      ],
      "source": [
        "# Call the function\n",
        "print(f\"f(a) for a={a} is {f(a)}\")"
      ]
    },
    {
      "cell_type": "markdown",
      "metadata": {
        "id": "yGKhSeasjCV7"
      },
      "source": [
        "The gradient (derivative) of function `f` with respect to its input `x` is the derivative of $x^2$.\n",
        "- The derivative of $x^2$ is $2x$.  \n",
        "- When x is 5, then $2x=10$.\n",
        "\n",
        "You can calculate the gradient of a function by using `trax.fastmath.grad(fun=)` and passing in the name of the function.\n",
        "- In this case the function you want to take the gradient of is `f`.\n",
        "- The object returned (saved in `grad_f` in this example) is a function that can calculate the gradient of f for a given trax.fastmath.numpy array."
      ]
    },
    {
      "cell_type": "code",
      "execution_count": null,
      "metadata": {
        "colab": {
          "base_uri": "https://localhost:8080/"
        },
        "id": "2Im5Hkc9jCV8",
        "outputId": "748f9d15-6eb1-4c03-d63a-93a42d794cac"
      },
      "outputs": [
        {
          "output_type": "execute_result",
          "data": {
            "text/plain": [
              "function"
            ]
          },
          "metadata": {},
          "execution_count": 9
        }
      ],
      "source": [
        "# Directly use trax.fastmath.grad to calculate the gradient (derivative) of the function\n",
        "grad_f = trax.fastmath.grad(fun=f)  # df / dx - Gradient of function f(x) with respect to x\n",
        "\n",
        "# View the type of the retuned object (it's a function)\n",
        "type(grad_f)"
      ]
    },
    {
      "cell_type": "code",
      "execution_count": null,
      "metadata": {
        "colab": {
          "base_uri": "https://localhost:8080/",
          "height": 90
        },
        "id": "0lDIVvx3jCV_",
        "outputId": "cef2da5d-7db6-463f-d062-e6630283bf13"
      },
      "outputs": [
        {
          "output_type": "display_data",
          "data": {
            "text/plain": [
              "DeviceArray(10., dtype=float32, weak_type=True)"
            ]
          },
          "metadata": {}
        }
      ],
      "source": [
        "# Call the newly created function and pass in a value for x (the DeviceArray stored in 'a')\n",
        "grad_calculation = grad_f(a)\n",
        "\n",
        "# View the result of calling the grad_f function\n",
        "display(grad_calculation)"
      ]
    },
    {
      "cell_type": "markdown",
      "metadata": {
        "id": "41l3WDBkjCWD"
      },
      "source": [
        "The function returned by trax.fastmath.grad takes in x=5 and calculates the gradient of f, which is 2*x, which is 10. The value is also stored as a DeviceArray from the jax library."
      ]
    },
    {
      "cell_type": "markdown",
      "metadata": {
        "id": "CZ8RUynQsktn"
      },
      "source": [
        "<a name=\"2\"></a>\n",
        "# Part 2:  Importing the data\n",
        "\n",
        "<a name=\"2.1\"></a>\n",
        "## 2.1  Loading in the data\n",
        "\n",
        "Import the data set.  \n",
        "- You may recognize this from earlier assignments in the specialization.\n",
        "- Details of process_tweet function are available in utils.py file"
      ]
    },
    {
      "cell_type": "code",
      "execution_count": null,
      "metadata": {
        "colab": {
          "base_uri": "https://localhost:8080/"
        },
        "id": "h5ClwIOSuLJh",
        "outputId": "3256f0a9-c857-450d-afb4-c469fb22304d"
      },
      "outputs": [
        {
          "output_type": "stream",
          "name": "stdout",
          "text": [
            "The number of positive tweets: 5000\n",
            "The number of negative tweets: 5000\n",
            "length of train_x 8000\n",
            "length of val_x 2000\n"
          ]
        }
      ],
      "source": [
        "## DO NOT EDIT THIS CELL\n",
        "\n",
        "# Import functions from the utils.py file\n",
        "\n",
        "import numpy as np\n",
        "\n",
        "# Load positive and negative tweets\n",
        "all_positive_tweets, all_negative_tweets = load_tweets()\n",
        "\n",
        "# View the total number of positive and negative tweets.\n",
        "print(f\"The number of positive tweets: {len(all_positive_tweets)}\")\n",
        "print(f\"The number of negative tweets: {len(all_negative_tweets)}\")\n",
        "\n",
        "# Split positive set into validation and training\n",
        "val_pos   = all_positive_tweets[4000:] # generating validation set for positive tweets\n",
        "train_pos  = all_positive_tweets[:4000]# generating training set for positive tweets\n",
        "\n",
        "# Split negative set into validation and training\n",
        "val_neg   = all_negative_tweets[4000:] # generating validation set for negative tweets\n",
        "train_neg  = all_negative_tweets[:4000] # generating training set for nagative tweets\n",
        "\n",
        "# Combine training data into one set\n",
        "train_x = train_pos + train_neg \n",
        "\n",
        "# Combine validation data into one set\n",
        "val_x  = val_pos + val_neg\n",
        "\n",
        "# Set the labels for the training set (1 for positive, 0 for negative)\n",
        "train_y = np.append(np.ones(len(train_pos)), np.zeros(len(train_neg)))\n",
        "\n",
        "# Set the labels for the validation set (1 for positive, 0 for negative)\n",
        "val_y  = np.append(np.ones(len(val_pos)), np.zeros(len(val_neg)))\n",
        "\n",
        "print(f\"length of train_x {len(train_x)}\")\n",
        "print(f\"length of val_x {len(val_x)}\")"
      ]
    },
    {
      "cell_type": "code",
      "source": [
        "type(all_positive_tweets)"
      ],
      "metadata": {
        "colab": {
          "base_uri": "https://localhost:8080/"
        },
        "id": "Qan1_IZeRwLc",
        "outputId": "70818c53-0e5a-4412-d98c-c6d9f5bc23bc"
      },
      "execution_count": null,
      "outputs": [
        {
          "output_type": "execute_result",
          "data": {
            "text/plain": [
              "list"
            ]
          },
          "metadata": {},
          "execution_count": 12
        }
      ]
    },
    {
      "cell_type": "markdown",
      "metadata": {
        "id": "dNQq4LmbjCWG"
      },
      "source": [
        "Now import a function that processes tweets (we've provided this in the utils.py file).\n",
        "- `process_tweets' removes unwanted characters e.g. hashtag, hyperlinks, stock tickers from tweet.\n",
        "- It also returns a list of words (it tokenizes the original string)."
      ]
    },
    {
      "cell_type": "code",
      "execution_count": null,
      "metadata": {
        "colab": {
          "base_uri": "https://localhost:8080/"
        },
        "id": "2bRX6aPDjCWH",
        "outputId": "b8a55ac5-3ef0-4086-a0ba-124c81297344"
      },
      "outputs": [
        {
          "output_type": "stream",
          "name": "stdout",
          "text": [
            "original tweet at training position 0\n",
            "#FollowFriday @France_Inte @PKuchly57 @Milipol_Paris for being top engaged members in my community this week :)\n",
            "Tweet at training position 0 after processing:\n"
          ]
        },
        {
          "output_type": "execute_result",
          "data": {
            "text/plain": [
              "['followfriday', 'top', 'engag', 'member', 'commun', 'week', ':)']"
            ]
          },
          "metadata": {},
          "execution_count": 13
        }
      ],
      "source": [
        "# Import a function that processes the tweets\n",
        "# from utils import process_tweet\n",
        "\n",
        "# Try out function that processes tweets\n",
        "print(\"original tweet at training position 0\")\n",
        "print(train_pos[0])\n",
        "\n",
        "print(\"Tweet at training position 0 after processing:\")\n",
        "process_tweet(train_pos[0])"
      ]
    },
    {
      "cell_type": "markdown",
      "metadata": {
        "id": "00XdS3LOjCWK"
      },
      "source": [
        "Notice that the function `process_tweet` keeps key words, removes the hash # symbol, and ignores usernames (words that begin with '@').  It also returns a list of the words."
      ]
    },
    {
      "cell_type": "markdown",
      "metadata": {
        "id": "ac4D5WSUAVub"
      },
      "source": [
        "<a name=\"2.2\"></a>\n",
        "## 2.2  Building the vocabulary\n",
        "\n",
        "Now build the vocabulary.\n",
        "- Map each word in each tweet to an integer (an \"index\"). \n",
        "- The following code does this for you, but please read it and understand what it's doing.\n",
        "- Note that you will build the vocabulary based on the training data. \n",
        "- To do so, you will assign an index to everyword by iterating over your training set.\n",
        "\n",
        "The vocabulary will also include some special tokens\n",
        "- `__PAD__`: padding\n",
        "- `</e>`: end of line\n",
        "- `__UNK__`: a token representing any word that is not in the vocabulary."
      ]
    },
    {
      "cell_type": "code",
      "execution_count": null,
      "metadata": {
        "colab": {
          "base_uri": "https://localhost:8080/",
          "height": 1000
        },
        "id": "rQaHKs7kAVuc",
        "outputId": "8c780530-d886-42b6-e8b0-1cadd4768250"
      },
      "outputs": [
        {
          "output_type": "stream",
          "name": "stdout",
          "text": [
            "Total words in vocab are 9089\n"
          ]
        },
        {
          "output_type": "display_data",
          "data": {
            "text/plain": [
              "{'__PAD__': 0,\n",
              " '__</e>__': 1,\n",
              " '__UNK__': 2,\n",
              " 'followfriday': 3,\n",
              " 'top': 4,\n",
              " 'engag': 5,\n",
              " 'member': 6,\n",
              " 'commun': 7,\n",
              " 'week': 8,\n",
              " ':)': 9,\n",
              " 'hey': 10,\n",
              " 'jame': 11,\n",
              " 'odd': 12,\n",
              " ':/': 13,\n",
              " 'pleas': 14,\n",
              " 'call': 15,\n",
              " 'contact': 16,\n",
              " 'centr': 17,\n",
              " '02392441234': 18,\n",
              " 'abl': 19,\n",
              " 'assist': 20,\n",
              " 'mani': 21,\n",
              " 'thank': 22,\n",
              " 'listen': 23,\n",
              " 'last': 24,\n",
              " 'night': 25,\n",
              " 'bleed': 26,\n",
              " 'amaz': 27,\n",
              " 'track': 28,\n",
              " 'scotland': 29,\n",
              " 'congrat': 30,\n",
              " 'yeaaah': 31,\n",
              " 'yipppi': 32,\n",
              " 'accnt': 33,\n",
              " 'verifi': 34,\n",
              " 'rqst': 35,\n",
              " 'succeed': 36,\n",
              " 'got': 37,\n",
              " 'blue': 38,\n",
              " 'tick': 39,\n",
              " 'mark': 40,\n",
              " 'fb': 41,\n",
              " 'profil': 42,\n",
              " '15': 43,\n",
              " 'day': 44,\n",
              " 'one': 45,\n",
              " 'irresist': 46,\n",
              " 'flipkartfashionfriday': 47,\n",
              " 'like': 48,\n",
              " 'keep': 49,\n",
              " 'love': 50,\n",
              " 'custom': 51,\n",
              " 'wait': 52,\n",
              " 'long': 53,\n",
              " 'hope': 54,\n",
              " 'enjoy': 55,\n",
              " 'happi': 56,\n",
              " 'friday': 57,\n",
              " 'lwwf': 58,\n",
              " 'second': 59,\n",
              " 'thought': 60,\n",
              " '’': 61,\n",
              " 'enough': 62,\n",
              " 'time': 63,\n",
              " 'dd': 64,\n",
              " 'new': 65,\n",
              " 'short': 66,\n",
              " 'enter': 67,\n",
              " 'system': 68,\n",
              " 'sheep': 69,\n",
              " 'must': 70,\n",
              " 'buy': 71,\n",
              " 'jgh': 72,\n",
              " 'go': 73,\n",
              " 'bayan': 74,\n",
              " ':d': 75,\n",
              " 'bye': 76,\n",
              " 'act': 77,\n",
              " 'mischiev': 78,\n",
              " 'etl': 79,\n",
              " 'layer': 80,\n",
              " 'in-hous': 81,\n",
              " 'wareh': 82,\n",
              " 'app': 83,\n",
              " 'katamari': 84,\n",
              " 'well': 85,\n",
              " '…': 86,\n",
              " 'name': 87,\n",
              " 'impli': 88,\n",
              " ':p': 89,\n",
              " 'influenc': 90,\n",
              " 'big': 91,\n",
              " '...': 92,\n",
              " 'juici': 93,\n",
              " 'selfi': 94,\n",
              " 'follow': 95,\n",
              " 'perfect': 96,\n",
              " 'alreadi': 97,\n",
              " 'know': 98,\n",
              " \"what'\": 99,\n",
              " 'great': 100,\n",
              " 'opportun': 101,\n",
              " 'junior': 102,\n",
              " 'triathlet': 103,\n",
              " 'age': 104,\n",
              " '12': 105,\n",
              " '13': 106,\n",
              " 'gatorad': 107,\n",
              " 'seri': 108,\n",
              " 'get': 109,\n",
              " 'entri': 110,\n",
              " 'lay': 111,\n",
              " 'greet': 112,\n",
              " 'card': 113,\n",
              " 'rang': 114,\n",
              " 'print': 115,\n",
              " 'today': 116,\n",
              " 'job': 117,\n",
              " ':-)': 118,\n",
              " \"friend'\": 119,\n",
              " 'lunch': 120,\n",
              " 'yummm': 121,\n",
              " 'nostalgia': 122,\n",
              " 'tb': 123,\n",
              " 'ku': 124,\n",
              " 'id': 125,\n",
              " 'conflict': 126,\n",
              " 'help': 127,\n",
              " \"here'\": 128,\n",
              " 'screenshot': 129,\n",
              " 'work': 130,\n",
              " 'hi': 131,\n",
              " 'liv': 132,\n",
              " 'hello': 133,\n",
              " 'need': 134,\n",
              " 'someth': 135,\n",
              " 'u': 136,\n",
              " 'fm': 137,\n",
              " 'twitter': 138,\n",
              " '—': 139,\n",
              " 'sure': 140,\n",
              " 'thing': 141,\n",
              " 'dm': 142,\n",
              " 'x': 143,\n",
              " \"i'v\": 144,\n",
              " 'heard': 145,\n",
              " 'four': 146,\n",
              " 'season': 147,\n",
              " 'pretti': 148,\n",
              " 'dope': 149,\n",
              " 'penthous': 150,\n",
              " 'obv': 151,\n",
              " 'gobigorgohom': 152,\n",
              " 'fun': 153,\n",
              " \"y'all\": 154,\n",
              " 'yeah': 155,\n",
              " 'suppos': 156,\n",
              " 'lol': 157,\n",
              " 'chat': 158,\n",
              " 'bit': 159,\n",
              " 'youth': 160,\n",
              " '💅🏽': 161,\n",
              " '💋': 162,\n",
              " 'seen': 163,\n",
              " 'year': 164,\n",
              " 'rest': 165,\n",
              " 'goe': 166,\n",
              " 'quickli': 167,\n",
              " 'bed': 168,\n",
              " 'music': 169,\n",
              " 'fix': 170,\n",
              " 'dream': 171,\n",
              " 'spiritu': 172,\n",
              " 'ritual': 173,\n",
              " 'festiv': 174,\n",
              " 'népal': 175,\n",
              " 'begin': 176,\n",
              " 'line-up': 177,\n",
              " 'left': 178,\n",
              " 'see': 179,\n",
              " 'sarah': 180,\n",
              " 'send': 181,\n",
              " 'us': 182,\n",
              " 'email': 183,\n",
              " 'bitsy@bitdefender.com': 184,\n",
              " \"we'll\": 185,\n",
              " 'asap': 186,\n",
              " 'kik': 187,\n",
              " 'hatessuc': 188,\n",
              " '32429': 189,\n",
              " 'kikm': 190,\n",
              " 'lgbt': 191,\n",
              " 'tinder': 192,\n",
              " 'nsfw': 193,\n",
              " 'akua': 194,\n",
              " 'cumshot': 195,\n",
              " 'come': 196,\n",
              " 'hous': 197,\n",
              " 'nsn_supplement': 198,\n",
              " 'effect': 199,\n",
              " 'press': 200,\n",
              " 'releas': 201,\n",
              " 'distribut': 202,\n",
              " 'result': 203,\n",
              " 'link': 204,\n",
              " 'remov': 205,\n",
              " 'pressreleas': 206,\n",
              " 'newsdistribut': 207,\n",
              " 'bam': 208,\n",
              " 'bestfriend': 209,\n",
              " 'lot': 210,\n",
              " 'warsaw': 211,\n",
              " '<3': 212,\n",
              " 'x46': 213,\n",
              " 'everyon': 214,\n",
              " 'watch': 215,\n",
              " 'documentari': 216,\n",
              " 'earthl': 217,\n",
              " 'youtub': 218,\n",
              " 'support': 219,\n",
              " 'buuut': 220,\n",
              " 'oh': 221,\n",
              " 'look': 222,\n",
              " 'forward': 223,\n",
              " 'visit': 224,\n",
              " 'next': 225,\n",
              " 'letsgetmessi': 226,\n",
              " 'jo': 227,\n",
              " 'make': 228,\n",
              " 'feel': 229,\n",
              " 'better': 230,\n",
              " 'never': 231,\n",
              " 'anyon': 232,\n",
              " 'kpop': 233,\n",
              " 'flesh': 234,\n",
              " 'good': 235,\n",
              " 'girl': 236,\n",
              " 'best': 237,\n",
              " 'wish': 238,\n",
              " 'reason': 239,\n",
              " 'epic': 240,\n",
              " 'soundtrack': 241,\n",
              " 'shout': 242,\n",
              " 'ad': 243,\n",
              " 'video': 244,\n",
              " 'playlist': 245,\n",
              " 'would': 246,\n",
              " 'dear': 247,\n",
              " 'jordan': 248,\n",
              " 'okay': 249,\n",
              " 'fake': 250,\n",
              " 'gameplay': 251,\n",
              " ';)': 252,\n",
              " 'haha': 253,\n",
              " 'im': 254,\n",
              " 'kid': 255,\n",
              " 'stuff': 256,\n",
              " 'exactli': 257,\n",
              " 'product': 258,\n",
              " 'line': 259,\n",
              " 'etsi': 260,\n",
              " 'shop': 261,\n",
              " 'check': 262,\n",
              " 'vacat': 263,\n",
              " 'recharg': 264,\n",
              " 'normal': 265,\n",
              " 'charger': 266,\n",
              " 'asleep': 267,\n",
              " 'talk': 268,\n",
              " 'sooo': 269,\n",
              " 'someon': 270,\n",
              " 'text': 271,\n",
              " 'ye': 272,\n",
              " 'bet': 273,\n",
              " \"he'll\": 274,\n",
              " 'fit': 275,\n",
              " 'hear': 276,\n",
              " 'speech': 277,\n",
              " 'piti': 278,\n",
              " 'green': 279,\n",
              " 'garden': 280,\n",
              " 'midnight': 281,\n",
              " 'sun': 282,\n",
              " 'beauti': 283,\n",
              " 'canal': 284,\n",
              " 'dasvidaniya': 285,\n",
              " 'till': 286,\n",
              " 'scout': 287,\n",
              " 'sg': 288,\n",
              " 'futur': 289,\n",
              " 'wlan': 290,\n",
              " 'pro': 291,\n",
              " 'confer': 292,\n",
              " 'asia': 293,\n",
              " 'chang': 294,\n",
              " 'lollipop': 295,\n",
              " '🍭': 296,\n",
              " 'nez': 297,\n",
              " 'agnezmo': 298,\n",
              " 'oley': 299,\n",
              " 'mama': 300,\n",
              " 'stand': 301,\n",
              " 'stronger': 302,\n",
              " 'god': 303,\n",
              " 'misti': 304,\n",
              " 'babi': 305,\n",
              " 'cute': 306,\n",
              " 'woohoo': 307,\n",
              " \"can't\": 308,\n",
              " 'sign': 309,\n",
              " 'yet': 310,\n",
              " 'still': 311,\n",
              " 'think': 312,\n",
              " 'mka': 313,\n",
              " 'liam': 314,\n",
              " 'access': 315,\n",
              " 'welcom': 316,\n",
              " 'stat': 317,\n",
              " 'arriv': 318,\n",
              " '1': 319,\n",
              " 'unfollow': 320,\n",
              " 'via': 321,\n",
              " 'surpris': 322,\n",
              " 'figur': 323,\n",
              " 'happybirthdayemilybett': 324,\n",
              " 'sweet': 325,\n",
              " 'talent': 326,\n",
              " '2': 327,\n",
              " 'plan': 328,\n",
              " 'drain': 329,\n",
              " 'gotta': 330,\n",
              " 'timezon': 331,\n",
              " 'parent': 332,\n",
              " 'proud': 333,\n",
              " 'least': 334,\n",
              " 'mayb': 335,\n",
              " 'sometim': 336,\n",
              " 'grade': 337,\n",
              " 'al': 338,\n",
              " 'grand': 339,\n",
              " 'manila_bro': 340,\n",
              " 'chosen': 341,\n",
              " 'let': 342,\n",
              " 'around': 343,\n",
              " '..': 344,\n",
              " 'side': 345,\n",
              " 'world': 346,\n",
              " 'eh': 347,\n",
              " 'take': 348,\n",
              " 'care': 349,\n",
              " 'final': 350,\n",
              " 'fuck': 351,\n",
              " 'weekend': 352,\n",
              " 'real': 353,\n",
              " 'x45': 354,\n",
              " 'join': 355,\n",
              " 'hushedcallwithfraydo': 356,\n",
              " 'gift': 357,\n",
              " 'yeahhh': 358,\n",
              " 'hushedpinwithsammi': 359,\n",
              " 'event': 360,\n",
              " 'might': 361,\n",
              " 'luv': 362,\n",
              " 'realli': 363,\n",
              " 'appreci': 364,\n",
              " 'share': 365,\n",
              " 'wow': 366,\n",
              " 'tom': 367,\n",
              " 'gym': 368,\n",
              " 'monday': 369,\n",
              " 'invit': 370,\n",
              " 'scope': 371,\n",
              " 'friend': 372,\n",
              " 'nude': 373,\n",
              " 'sleep': 374,\n",
              " 'birthday': 375,\n",
              " 'want': 376,\n",
              " 't-shirt': 377,\n",
              " 'cool': 378,\n",
              " 'haw': 379,\n",
              " 'phela': 380,\n",
              " 'mom': 381,\n",
              " 'obvious': 382,\n",
              " 'princ': 383,\n",
              " 'charm': 384,\n",
              " 'stage': 385,\n",
              " 'luck': 386,\n",
              " 'tyler': 387,\n",
              " 'hipster': 388,\n",
              " 'glass': 389,\n",
              " 'marti': 390,\n",
              " 'glad': 391,\n",
              " 'done': 392,\n",
              " 'afternoon': 393,\n",
              " 'read': 394,\n",
              " 'kahfi': 395,\n",
              " 'finish': 396,\n",
              " 'ohmyg': 397,\n",
              " 'yaya': 398,\n",
              " 'dub': 399,\n",
              " 'stalk': 400,\n",
              " 'ig': 401,\n",
              " 'gondooo': 402,\n",
              " 'moo': 403,\n",
              " 'tologooo': 404,\n",
              " 'becom': 405,\n",
              " 'detail': 406,\n",
              " 'zzz': 407,\n",
              " 'xx': 408,\n",
              " 'physiotherapi': 409,\n",
              " 'hashtag': 410,\n",
              " '💪': 411,\n",
              " 'monica': 412,\n",
              " 'miss': 413,\n",
              " 'sound': 414,\n",
              " 'morn': 415,\n",
              " \"that'\": 416,\n",
              " 'x43': 417,\n",
              " 'definit': 418,\n",
              " 'tri': 419,\n",
              " 'tonight': 420,\n",
              " 'took': 421,\n",
              " 'advic': 422,\n",
              " 'treviso': 423,\n",
              " 'concert': 424,\n",
              " 'citi': 425,\n",
              " 'countri': 426,\n",
              " \"i'll\": 427,\n",
              " 'start': 428,\n",
              " 'fine': 429,\n",
              " 'gorgeou': 430,\n",
              " 'xo': 431,\n",
              " 'oven': 432,\n",
              " 'roast': 433,\n",
              " 'garlic': 434,\n",
              " 'oliv': 435,\n",
              " 'oil': 436,\n",
              " 'dri': 437,\n",
              " 'tomato': 438,\n",
              " 'basil': 439,\n",
              " 'centuri': 440,\n",
              " 'tuna': 441,\n",
              " 'right': 442,\n",
              " 'back': 443,\n",
              " 'atchya': 444,\n",
              " 'even': 445,\n",
              " 'almost': 446,\n",
              " 'chanc': 447,\n",
              " 'cheer': 448,\n",
              " 'po': 449,\n",
              " 'ice': 450,\n",
              " 'cream': 451,\n",
              " 'agre': 452,\n",
              " '100': 453,\n",
              " 'heheheh': 454,\n",
              " 'that': 455,\n",
              " 'point': 456,\n",
              " 'stay': 457,\n",
              " 'home': 458,\n",
              " 'soon': 459,\n",
              " 'promis': 460,\n",
              " 'web': 461,\n",
              " 'whatsapp': 462,\n",
              " 'volta': 463,\n",
              " 'funcionar': 464,\n",
              " 'com': 465,\n",
              " 'iphon': 466,\n",
              " 'jailbroken': 467,\n",
              " 'later': 468,\n",
              " '34': 469,\n",
              " 'min': 470,\n",
              " 'leia': 471,\n",
              " 'appear': 472,\n",
              " 'hologram': 473,\n",
              " 'r2d2': 474,\n",
              " 'w': 475,\n",
              " 'messag': 476,\n",
              " 'obi': 477,\n",
              " 'wan': 478,\n",
              " 'sit': 479,\n",
              " 'luke': 480,\n",
              " 'inter': 481,\n",
              " '3': 482,\n",
              " 'ucl': 483,\n",
              " 'arsen': 484,\n",
              " 'small': 485,\n",
              " 'team': 486,\n",
              " 'pass': 487,\n",
              " '🚂': 488,\n",
              " 'dewsburi': 489,\n",
              " 'railway': 490,\n",
              " 'station': 491,\n",
              " 'dew': 492,\n",
              " 'west': 493,\n",
              " 'yorkshir': 494,\n",
              " '430': 495,\n",
              " 'smh': 496,\n",
              " '9:25': 497,\n",
              " 'live': 498,\n",
              " 'strang': 499,\n",
              " 'imagin': 500,\n",
              " 'megan': 501,\n",
              " 'masaantoday': 502,\n",
              " 'a4': 503,\n",
              " 'shweta': 504,\n",
              " 'tripathi': 505,\n",
              " '5': 506,\n",
              " '20': 507,\n",
              " 'kurta': 508,\n",
              " 'half': 509,\n",
              " 'number': 510,\n",
              " 'wsalelov': 511,\n",
              " 'ah': 512,\n",
              " 'larri': 513,\n",
              " 'anyway': 514,\n",
              " 'kinda': 515,\n",
              " 'goood': 516,\n",
              " 'life': 517,\n",
              " 'enn': 518,\n",
              " 'could': 519,\n",
              " 'warmup': 520,\n",
              " '15th': 521,\n",
              " 'bath': 522,\n",
              " 'dum': 523,\n",
              " 'andar': 524,\n",
              " 'ram': 525,\n",
              " 'sampath': 526,\n",
              " 'sona': 527,\n",
              " 'mohapatra': 528,\n",
              " 'samantha': 529,\n",
              " 'edward': 530,\n",
              " 'mein': 531,\n",
              " 'tulan': 532,\n",
              " 'razi': 533,\n",
              " 'wah': 534,\n",
              " 'josh': 535,\n",
              " 'alway': 536,\n",
              " 'smile': 537,\n",
              " 'pictur': 538,\n",
              " '16.20': 539,\n",
              " 'giveitup': 540,\n",
              " 'given': 541,\n",
              " 'ga': 542,\n",
              " 'subsidi': 543,\n",
              " 'initi': 544,\n",
              " 'propos': 545,\n",
              " 'delight': 546,\n",
              " 'yesterday': 547,\n",
              " 'x42': 548,\n",
              " 'lmaoo': 549,\n",
              " 'song': 550,\n",
              " 'ever': 551,\n",
              " 'shall': 552,\n",
              " 'littl': 553,\n",
              " 'throwback': 554,\n",
              " 'outli': 555,\n",
              " 'island': 556,\n",
              " 'cheung': 557,\n",
              " 'chau': 558,\n",
              " 'mui': 559,\n",
              " 'wo': 560,\n",
              " 'total': 561,\n",
              " 'differ': 562,\n",
              " 'kfckitchentour': 563,\n",
              " 'kitchen': 564,\n",
              " 'clean': 565,\n",
              " \"i'm\": 566,\n",
              " 'cusp': 567,\n",
              " 'test': 568,\n",
              " 'water': 569,\n",
              " 'reward': 570,\n",
              " 'arummzz': 571,\n",
              " \"let'\": 572,\n",
              " 'drive': 573,\n",
              " 'travel': 574,\n",
              " 'yogyakarta': 575,\n",
              " 'jeep': 576,\n",
              " 'indonesia': 577,\n",
              " 'instamood': 578,\n",
              " 'wanna': 579,\n",
              " 'skype': 580,\n",
              " 'may': 581,\n",
              " 'nice': 582,\n",
              " 'friendli': 583,\n",
              " 'pretend': 584,\n",
              " 'film': 585,\n",
              " 'congratul': 586,\n",
              " 'winner': 587,\n",
              " 'cheesydelight': 588,\n",
              " 'contest': 589,\n",
              " 'address': 590,\n",
              " 'guy': 591,\n",
              " 'market': 592,\n",
              " '24/7': 593,\n",
              " '14': 594,\n",
              " 'hour': 595,\n",
              " 'leav': 596,\n",
              " 'without': 597,\n",
              " 'delay': 598,\n",
              " 'actual': 599,\n",
              " 'easi': 600,\n",
              " 'guess': 601,\n",
              " 'train': 602,\n",
              " 'wd': 603,\n",
              " 'shift': 604,\n",
              " 'engin': 605,\n",
              " 'etc': 606,\n",
              " 'sunburn': 607,\n",
              " 'peel': 608,\n",
              " 'blog': 609,\n",
              " 'huge': 610,\n",
              " 'warm': 611,\n",
              " '☆': 612,\n",
              " 'complet': 613,\n",
              " 'triangl': 614,\n",
              " 'northern': 615,\n",
              " 'ireland': 616,\n",
              " 'sight': 617,\n",
              " 'smthng': 618,\n",
              " 'fr': 619,\n",
              " 'hug': 620,\n",
              " 'xoxo': 621,\n",
              " 'uu': 622,\n",
              " 'jaann': 623,\n",
              " 'topnewfollow': 624,\n",
              " 'connect': 625,\n",
              " 'wonder': 626,\n",
              " 'made': 627,\n",
              " 'fluffi': 628,\n",
              " 'insid': 629,\n",
              " 'pirouett': 630,\n",
              " 'moos': 631,\n",
              " 'trip': 632,\n",
              " 'philli': 633,\n",
              " 'decemb': 634,\n",
              " \"i'd\": 635,\n",
              " 'dude': 636,\n",
              " 'x41': 637,\n",
              " 'question': 638,\n",
              " 'flaw': 639,\n",
              " 'pain': 640,\n",
              " 'negat': 641,\n",
              " 'strength': 642,\n",
              " 'went': 643,\n",
              " 'solo': 644,\n",
              " 'move': 645,\n",
              " 'fav': 646,\n",
              " 'nirvana': 647,\n",
              " 'smell': 648,\n",
              " 'teen': 649,\n",
              " 'spirit': 650,\n",
              " 'rip': 651,\n",
              " 'ami': 652,\n",
              " 'winehous': 653,\n",
              " 'coupl': 654,\n",
              " 'tomhiddleston': 655,\n",
              " 'elizabetholsen': 656,\n",
              " 'yaytheylookgreat': 657,\n",
              " 'goodnight': 658,\n",
              " 'vid': 659,\n",
              " 'wake': 660,\n",
              " 'gonna': 661,\n",
              " 'shoot': 662,\n",
              " 'itti': 663,\n",
              " 'bitti': 664,\n",
              " 'teeni': 665,\n",
              " 'bikini': 666,\n",
              " 'much': 667,\n",
              " '4th': 668,\n",
              " 'togeth': 669,\n",
              " 'end': 670,\n",
              " 'xfile': 671,\n",
              " 'content': 672,\n",
              " 'rain': 673,\n",
              " 'fabul': 674,\n",
              " 'fantast': 675,\n",
              " '♡': 676,\n",
              " 'jb': 677,\n",
              " 'forev': 678,\n",
              " 'belieb': 679,\n",
              " 'nighti': 680,\n",
              " 'bug': 681,\n",
              " 'bite': 682,\n",
              " 'bracelet': 683,\n",
              " 'idea': 684,\n",
              " 'foundri': 685,\n",
              " 'game': 686,\n",
              " 'sens': 687,\n",
              " 'pic': 688,\n",
              " 'ef': 689,\n",
              " 'phone': 690,\n",
              " 'woot': 691,\n",
              " 'derek': 692,\n",
              " 'use': 693,\n",
              " 'parkshar': 694,\n",
              " 'gloucestershir': 695,\n",
              " 'aaaahhh': 696,\n",
              " 'man': 697,\n",
              " 'traffic': 698,\n",
              " 'stress': 699,\n",
              " 'reliev': 700,\n",
              " \"how'r\": 701,\n",
              " 'arbeloa': 702,\n",
              " 'turn': 703,\n",
              " '17': 704,\n",
              " 'omg': 705,\n",
              " 'say': 706,\n",
              " 'europ': 707,\n",
              " 'rise': 708,\n",
              " 'find': 709,\n",
              " 'hard': 710,\n",
              " 'believ': 711,\n",
              " 'uncount': 712,\n",
              " 'coz': 713,\n",
              " 'unlimit': 714,\n",
              " 'cours': 715,\n",
              " 'teamposit': 716,\n",
              " 'aldub': 717,\n",
              " '☕': 718,\n",
              " 'rita': 719,\n",
              " 'info': 720,\n",
              " \"we'd\": 721,\n",
              " 'way': 722,\n",
              " 'boy': 723,\n",
              " 'x40': 724,\n",
              " 'true': 725,\n",
              " 'sethi': 726,\n",
              " 'high': 727,\n",
              " 'exe': 728,\n",
              " 'skeem': 729,\n",
              " 'saam': 730,\n",
              " 'peopl': 731,\n",
              " 'polit': 732,\n",
              " 'izzat': 733,\n",
              " 'wese': 734,\n",
              " 'trust': 735,\n",
              " 'khawateen': 736,\n",
              " 'k': 737,\n",
              " 'sath': 738,\n",
              " 'mana': 739,\n",
              " 'kar': 740,\n",
              " 'deya': 741,\n",
              " 'sort': 742,\n",
              " 'smart': 743,\n",
              " 'hair': 744,\n",
              " 'tbh': 745,\n",
              " 'jacob': 746,\n",
              " 'g': 747,\n",
              " 'upgrad': 748,\n",
              " 'tee': 749,\n",
              " 'famili': 750,\n",
              " 'person': 751,\n",
              " 'two': 752,\n",
              " 'convers': 753,\n",
              " 'onlin': 754,\n",
              " 'mclaren': 755,\n",
              " 'fridayfeel': 756,\n",
              " 'tgif': 757,\n",
              " 'squar': 758,\n",
              " 'enix': 759,\n",
              " 'bissmillah': 760,\n",
              " 'ya': 761,\n",
              " 'allah': 762,\n",
              " \"we'r\": 763,\n",
              " 'socent': 764,\n",
              " 'startup': 765,\n",
              " 'drop': 766,\n",
              " 'your': 767,\n",
              " 'arnd': 768,\n",
              " 'town': 769,\n",
              " 'basic': 770,\n",
              " 'piss': 771,\n",
              " 'cup': 772,\n",
              " 'also': 773,\n",
              " 'terribl': 774,\n",
              " 'complic': 775,\n",
              " 'discuss': 776,\n",
              " 'snapchat': 777,\n",
              " 'lynettelow': 778,\n",
              " 'kikmenow': 779,\n",
              " 'snapm': 780,\n",
              " 'hot': 781,\n",
              " 'amazon': 782,\n",
              " 'kikmeguy': 783,\n",
              " 'defin': 784,\n",
              " 'grow': 785,\n",
              " 'sport': 786,\n",
              " 'rt': 787,\n",
              " 'rakyat': 788,\n",
              " 'write': 789,\n",
              " 'sinc': 790,\n",
              " 'mention': 791,\n",
              " 'fli': 792,\n",
              " 'fish': 793,\n",
              " 'promot': 794,\n",
              " 'post': 795,\n",
              " 'cyber': 796,\n",
              " 'ourdaughtersourprid': 797,\n",
              " 'mypapamyprid': 798,\n",
              " 'papa': 799,\n",
              " 'coach': 800,\n",
              " 'posit': 801,\n",
              " 'kha': 802,\n",
              " 'atleast': 803,\n",
              " 'x39': 804,\n",
              " 'mango': 805,\n",
              " \"lassi'\": 806,\n",
              " \"monty'\": 807,\n",
              " 'marvel': 808,\n",
              " 'though': 809,\n",
              " 'suspect': 810,\n",
              " 'meant': 811,\n",
              " '24': 812,\n",
              " 'hr': 813,\n",
              " 'touch': 814,\n",
              " 'kepler': 815,\n",
              " '452b': 816,\n",
              " 'chalna': 817,\n",
              " 'hai': 818,\n",
              " 'thankyou': 819,\n",
              " 'hazel': 820,\n",
              " 'food': 821,\n",
              " 'brooklyn': 822,\n",
              " 'pta': 823,\n",
              " 'awak': 824,\n",
              " 'okayi': 825,\n",
              " 'awww': 826,\n",
              " 'ha': 827,\n",
              " 'doc': 828,\n",
              " 'splendid': 829,\n",
              " 'spam': 830,\n",
              " 'folder': 831,\n",
              " 'amount': 832,\n",
              " 'nigeria': 833,\n",
              " 'claim': 834,\n",
              " 'rted': 835,\n",
              " 'leg': 836,\n",
              " 'hurt': 837,\n",
              " 'bad': 838,\n",
              " 'mine': 839,\n",
              " 'saturday': 840,\n",
              " 'thaaank': 841,\n",
              " 'puhon': 842,\n",
              " 'happinesss': 843,\n",
              " 'tnc': 844,\n",
              " 'prior': 845,\n",
              " 'notif': 846,\n",
              " 'fat': 847,\n",
              " 'co': 848,\n",
              " 'probabl': 849,\n",
              " 'ate': 850,\n",
              " 'yuna': 851,\n",
              " 'tamesid': 852,\n",
              " '´': 853,\n",
              " 'googl': 854,\n",
              " 'account': 855,\n",
              " 'scouser': 856,\n",
              " 'everyth': 857,\n",
              " 'zoe': 858,\n",
              " 'mate': 859,\n",
              " 'liter': 860,\n",
              " \"they'r\": 861,\n",
              " 'samee': 862,\n",
              " 'edgar': 863,\n",
              " 'updat': 864,\n",
              " 'log': 865,\n",
              " 'bring': 866,\n",
              " 'abe': 867,\n",
              " 'meet': 868,\n",
              " 'x38': 869,\n",
              " 'sigh': 870,\n",
              " 'dreamili': 871,\n",
              " 'pout': 872,\n",
              " 'eye': 873,\n",
              " 'quacketyquack': 874,\n",
              " 'funni': 875,\n",
              " 'happen': 876,\n",
              " 'phil': 877,\n",
              " 'em': 878,\n",
              " 'del': 879,\n",
              " 'rodder': 880,\n",
              " 'els': 881,\n",
              " 'play': 882,\n",
              " 'newest': 883,\n",
              " 'gamejam': 884,\n",
              " 'irish': 885,\n",
              " 'literatur': 886,\n",
              " 'inaccess': 887,\n",
              " \"kareena'\": 888,\n",
              " 'fan': 889,\n",
              " 'brain': 890,\n",
              " 'dot': 891,\n",
              " 'braindot': 892,\n",
              " 'fair': 893,\n",
              " 'rush': 894,\n",
              " 'either': 895,\n",
              " 'brandi': 896,\n",
              " '18': 897,\n",
              " 'carniv': 898,\n",
              " 'men': 899,\n",
              " 'put': 900,\n",
              " 'mask': 901,\n",
              " 'xavier': 902,\n",
              " 'forneret': 903,\n",
              " 'jennif': 904,\n",
              " 'site': 905,\n",
              " 'free': 906,\n",
              " '50.000': 907,\n",
              " '8': 908,\n",
              " 'ball': 909,\n",
              " 'pool': 910,\n",
              " 'coin': 911,\n",
              " 'edit': 912,\n",
              " 'trish': 913,\n",
              " '♥': 914,\n",
              " 'grate': 915,\n",
              " 'three': 916,\n",
              " 'comment': 917,\n",
              " 'wakeup': 918,\n",
              " 'besid': 919,\n",
              " 'dirti': 920,\n",
              " 'sex': 921,\n",
              " 'lmaooo': 922,\n",
              " '😤': 923,\n",
              " 'loui': 924,\n",
              " \"he'\": 925,\n",
              " 'throw': 926,\n",
              " 'caus': 927,\n",
              " 'inspir': 928,\n",
              " 'ff': 929,\n",
              " 'twoof': 930,\n",
              " 'gr8': 931,\n",
              " 'wkend': 932,\n",
              " 'kind': 933,\n",
              " 'exhaust': 934,\n",
              " 'word': 935,\n",
              " 'cheltenham': 936,\n",
              " 'area': 937,\n",
              " 'kale': 938,\n",
              " 'crisp': 939,\n",
              " 'ruin': 940,\n",
              " 'x37': 941,\n",
              " 'open': 942,\n",
              " 'worldwid': 943,\n",
              " 'outta': 944,\n",
              " 'sfvbeta': 945,\n",
              " 'vantast': 946,\n",
              " 'xcylin': 947,\n",
              " 'bundl': 948,\n",
              " 'show': 949,\n",
              " 'internet': 950,\n",
              " 'price': 951,\n",
              " 'realisticli': 952,\n",
              " 'pay': 953,\n",
              " 'net': 954,\n",
              " 'educ': 955,\n",
              " 'power': 956,\n",
              " 'weapon': 957,\n",
              " 'nelson': 958,\n",
              " 'mandela': 959,\n",
              " 'recent': 960,\n",
              " 'j': 961,\n",
              " 'chenab': 962,\n",
              " 'flow': 963,\n",
              " 'pakistan': 964,\n",
              " 'incredibleindia': 965,\n",
              " 'teenchoic': 966,\n",
              " 'choiceinternationalartist': 967,\n",
              " 'superjunior': 968,\n",
              " 'caught': 969,\n",
              " 'first': 970,\n",
              " 'salmon': 971,\n",
              " 'super-blend': 972,\n",
              " 'project': 973,\n",
              " 'youth@bipolaruk.org.uk': 974,\n",
              " 'awesom': 975,\n",
              " 'stream': 976,\n",
              " 'alma': 977,\n",
              " 'mater': 978,\n",
              " 'highschoolday': 979,\n",
              " 'clientvisit': 980,\n",
              " 'faith': 981,\n",
              " 'christian': 982,\n",
              " 'school': 983,\n",
              " 'lizaminnelli': 984,\n",
              " 'upcom': 985,\n",
              " 'uk': 986,\n",
              " '😄': 987,\n",
              " 'singl': 988,\n",
              " 'hill': 989,\n",
              " 'everi': 990,\n",
              " 'beat': 991,\n",
              " 'wrong': 992,\n",
              " 'readi': 993,\n",
              " 'natur': 994,\n",
              " 'pefumeri': 995,\n",
              " 'workshop': 996,\n",
              " 'neal': 997,\n",
              " 'yard': 998,\n",
              " 'covent': 999,\n",
              " ...}"
            ]
          },
          "metadata": {}
        }
      ],
      "source": [
        "# Build the vocabulary\n",
        "# Unit Test Note - There is no test set here only train/val\n",
        "\n",
        "# Include special tokens \n",
        "# started with pad, end of line and unk tokens\n",
        "Vocab = {'__PAD__': 0, '__</e>__': 1, '__UNK__': 2} \n",
        "\n",
        "# Note that we build vocab using training data\n",
        "for tweet in train_x: \n",
        "    processed_tweet = process_tweet(tweet)\n",
        "    for word in processed_tweet:\n",
        "        if word not in Vocab: \n",
        "            Vocab[word] = len(Vocab)\n",
        "    \n",
        "print(\"Total words in vocab are\",len(Vocab))\n",
        "display(Vocab)"
      ]
    },
    {
      "cell_type": "markdown",
      "metadata": {
        "id": "gP6K9qcCAVue"
      },
      "source": [
        "The dictionary `Vocab` will look like this:\n",
        "```CPP\n",
        "{'__PAD__': 0,\n",
        " '__</e>__': 1,\n",
        " '__UNK__': 2,\n",
        " 'followfriday': 3,\n",
        " 'top': 4,\n",
        " 'engag': 5,\n",
        " ...\n",
        "```\n",
        "\n",
        "- Each unique word has a unique integer associated with it.\n",
        "- The total number of words in Vocab: 9088"
      ]
    },
    {
      "cell_type": "markdown",
      "metadata": {
        "id": "0x8pND8tAVuf"
      },
      "source": [
        "<a name=\"2.3\"></a>\n",
        "## 2.3  Converting a tweet to a tensor\n",
        "\n",
        "Write a function that will convert each tweet to a tensor (a list of unique integer IDs representing the processed tweet).\n",
        "- Note, the returned data type will be a **regular Python `list()`**\n",
        "    - You won't use TensorFlow in this function\n",
        "    - You also won't use a numpy array\n",
        "    - You also won't use trax.fastmath.numpy array\n",
        "- For words in the tweet that are not in the vocabulary, set them to the unique ID for the token `__UNK__`.\n",
        "\n",
        "##### Example\n",
        "Input a tweet:\n",
        "```CPP\n",
        "'@happypuppy, is Maria happy?'\n",
        "```\n",
        "\n",
        "The tweet_to_tensor will first conver the tweet into a list of tokens (including only relevant words)\n",
        "```CPP\n",
        "['maria', 'happi']\n",
        "```\n",
        "\n",
        "Then it will convert each word into its unique integer\n",
        "\n",
        "```CPP\n",
        "[2, 56]\n",
        "```\n",
        "- Notice that the word \"maria\" is not in the vocabulary, so it is assigned the unique integer associated with the `__UNK__` token, because it is considered \"unknown.\"\n",
        "\n"
      ]
    },
    {
      "cell_type": "markdown",
      "metadata": {
        "id": "QtQhtv0kjCWQ"
      },
      "source": [
        "<a name=\"ex01\"></a>\n",
        "### Exercise 01\n",
        "**Instructions:** Write a program `tweet_to_tensor` that takes in a tweet and converts it to an array of numbers. You can use the `Vocab` dictionary you just found to help create the tensor. \n",
        "\n",
        "- Use the vocab_dict parameter and not a global variable.\n",
        "- Do not hard code the integer value for the `__UNK__` token."
      ]
    },
    {
      "cell_type": "markdown",
      "metadata": {
        "id": "sKSx1SBYjCWR"
      },
      "source": [
        "<details>    \n",
        "<summary>\n",
        "    <font size=\"3\" color=\"darkgreen\"><b>Hints</b></font>\n",
        "</summary>\n",
        "<p>\n",
        "<ul>\n",
        "    <li>Map each word in tweet to corresponding token in 'Vocab'</li>\n",
        "    <li>Use Python's Dictionary.get(key,value) so that the function returns a default value if the key is not found in the dictionary.</li>\n",
        "</ul>\n",
        "</p>\n"
      ]
    },
    {
      "cell_type": "code",
      "execution_count": null,
      "metadata": {
        "id": "Ft1zNGMaAVuf"
      },
      "outputs": [],
      "source": [
        "# UNQ_C1 (UNIQUE CELL IDENTIFIER, DO NOT EDIT)\n",
        "# GRADED FUNCTION: tweet_to_tensor\n",
        "def tweet_to_tensor(tweet, vocab_dict, unk_token='__UNK__', verbose=False):\n",
        "    '''\n",
        "    Input: \n",
        "        tweet - A string containing a tweet\n",
        "        vocab_dict - The words dictionary\n",
        "        unk_token - The special string for unknown tokens\n",
        "        verbose - Print info durign runtime\n",
        "    Output:\n",
        "        tensor_l - A python list with\n",
        "        \n",
        "    '''  \n",
        "    \n",
        "    ### START CODE HERE (Replace instances of 'None' with your code) ###\n",
        "    # Process the tweet into a list of words\n",
        "    # where only important words are kept (stop words removed)\n",
        "    word_l = process_tweet(tweet)\n",
        "    \n",
        "    if verbose:\n",
        "        print(\"List of words from the processed tweet:\")\n",
        "        print(word_l)\n",
        "        \n",
        "    # Initialize the list that will contain the unique integer IDs of each word\n",
        "    tensor_l = []\n",
        "    \n",
        "    # Get the unique integer ID of the __UNK__ token\n",
        "    unk_ID = vocab_dict[unk_token]\n",
        "    \n",
        "    if verbose:\n",
        "        print(f\"The unique integer ID for the unk_token is {unk_ID}\")\n",
        "        \n",
        "    # for each word in the list:\n",
        "    for word in word_l:\n",
        "        \n",
        "        # Get the unique integer ID.\n",
        "        # If the word doesn't exist in the vocab dictionary,\n",
        "        # use the unique ID for __UNK__ instead.\n",
        "        word_ID = vocab_dict[word] if word in vocab_dict else unk_ID\n",
        "    ### END CODE HERE ###\n",
        "        \n",
        "        # Append the unique integer ID to the tensor list.\n",
        "        tensor_l.append(word_ID) \n",
        "    \n",
        "    return tensor_l"
      ]
    },
    {
      "cell_type": "code",
      "execution_count": null,
      "metadata": {
        "colab": {
          "base_uri": "https://localhost:8080/"
        },
        "id": "ze0Zx_5UjCWU",
        "outputId": "098bb4d0-1cdf-4579-d91b-13b0a8dd6ba2"
      },
      "outputs": [
        {
          "output_type": "stream",
          "name": "stdout",
          "text": [
            "Actual tweet is\n",
            " Bro:U wan cut hair anot,ur hair long Liao bo\n",
            "Me:since ord liao,take it easy lor treat as save $ leave it longer :)\n",
            "Bro:LOL Sibei xialan\n",
            "\n",
            "Tensor of tweet:\n",
            " [1064, 136, 478, 2351, 744, 8149, 1122, 744, 53, 2, 2671, 790, 2, 2, 348, 600, 2, 3488, 1016, 596, 4558, 9, 1064, 157, 2, 2]\n"
          ]
        }
      ],
      "source": [
        "print(\"Actual tweet is\\n\", val_pos[0])\n",
        "print(\"\\nTensor of tweet:\\n\", tweet_to_tensor(val_pos[0], vocab_dict=Vocab))"
      ]
    },
    {
      "cell_type": "markdown",
      "metadata": {
        "id": "s0MbWVeijCWW"
      },
      "source": [
        "##### Expected output\n",
        "\n",
        "```CPP\n",
        "Actual tweet is\n",
        " Bro:U wan cut hair anot,ur hair long Liao bo\n",
        "Me:since ord liao,take it easy lor treat as save $ leave it longer :)\n",
        "Bro:LOL Sibei xialan\n",
        "\n",
        "Tensor of tweet:\n",
        " [1065, 136, 479, 2351, 745, 8148, 1123, 745, 53, 2, 2672, 791, 2, 2, 349, 601, 2, 3489, 1017, 597, 4559, 9, 1065, 157, 2, 2]\n",
        "```"
      ]
    },
    {
      "cell_type": "code",
      "execution_count": null,
      "metadata": {
        "id": "bMmf0pPcjCWX",
        "colab": {
          "base_uri": "https://localhost:8080/"
        },
        "outputId": "f48106d2-e513-44c3-e836-a411d4999500"
      },
      "outputs": [
        {
          "output_type": "stream",
          "name": "stdout",
          "text": [
            "[444, 2, 304, 567, 56, 9]\n",
            "[443, 2, 303, 566, 56, 9]\n",
            "The function gives bad output for val_pos[1]. Test failed\n",
            "2  Tests passed out of 3\n"
          ]
        }
      ],
      "source": [
        "# test tweet_to_tensor\n",
        "\n",
        "def test_tweet_to_tensor():\n",
        "    test_cases = [\n",
        "        \n",
        "        {\n",
        "            \"name\":\"simple_test_check\",\n",
        "            \"input\": [val_pos[1], Vocab],\n",
        "            \"expected\":[444, 2, 304, 567, 56, 9],\n",
        "            \"error\":\"The function gives bad output for val_pos[1]. Test failed\"\n",
        "        },\n",
        "        {\n",
        "            \"name\":\"datatype_check\",\n",
        "            \"input\":[val_pos[1], Vocab],\n",
        "            \"expected\":type([]),\n",
        "            \"error\":\"Datatype mismatch. Need only list not np.array\"\n",
        "        },\n",
        "        {\n",
        "            \"name\":\"without_unk_check\",\n",
        "            \"input\":[val_pos[1], Vocab],\n",
        "            \"expected\":6,\n",
        "            \"error\":\"Unk word check not done- Please check if you included mapping for unknown word\"\n",
        "        }\n",
        "    ]\n",
        "    count = 0\n",
        "    for test_case in test_cases:\n",
        "        \n",
        "        try:\n",
        "            if test_case['name'] == \"simple_test_check\":\n",
        "                print(test_case[\"expected\"])\n",
        "                print(tweet_to_tensor(*test_case['input']))\n",
        "                assert test_case[\"expected\"] == tweet_to_tensor(*test_case['input'])\n",
        "                count += 1\n",
        "            if test_case['name'] == \"datatype_check\":\n",
        "                assert isinstance(tweet_to_tensor(*test_case['input']), test_case[\"expected\"])\n",
        "                count += 1\n",
        "            if test_case['name'] == \"without_unk_check\":\n",
        "                assert None not in tweet_to_tensor(*test_case['input'])\n",
        "                count += 1\n",
        "                \n",
        "            \n",
        "            \n",
        "        except:\n",
        "            print(test_case['error'])\n",
        "    if count == 3:\n",
        "        print(\"\\033[92m All tests passed\")\n",
        "    else:\n",
        "        print(count,\" Tests passed out of 3\")\n",
        "test_tweet_to_tensor()            "
      ]
    },
    {
      "cell_type": "markdown",
      "metadata": {
        "id": "rwAZZIYYAVuj"
      },
      "source": [
        "<a name=\"2.4\"></a>\n",
        "## 2.4  Creating a batch generator\n",
        "\n",
        "Most of the time in Natural Language Processing, and AI in general we use batches when training our data sets. \n",
        "- If instead of training with batches of examples, you were to train a model with one example at a time, it would take a very long time to train the model. \n",
        "- You will now build a data generator that takes in the positive/negative tweets and returns a batch of training examples. It returns the model inputs, the targets (positive or negative labels) and the weight for each target (ex: this allows us to can treat some examples as more important to get right than others, but commonly this will all be 1.0). \n",
        "\n",
        "Once you create the generator, you could include it in a for loop\n",
        "\n",
        "```CPP\n",
        "for batch_inputs, batch_targets, batch_example_weights in data_generator:\n",
        "    ...\n",
        "```\n",
        "\n",
        "You can also get a single batch like this:\n",
        "\n",
        "```CPP\n",
        "batch_inputs, batch_targets, batch_example_weights = next(data_generator)\n",
        "```\n",
        "The generator returns the next batch each time it's called. \n",
        "- This generator returns the data in a format (tensors) that you could directly use in your model.\n",
        "- It returns a triple: the inputs, targets, and loss weights:\n",
        "-- Inputs is a tensor that contains the batch of tweets we put into the model.\n",
        "-- Targets is the corresponding batch of labels that we train to generate.\n",
        "-- Loss weights here are just 1s with same shape as targets. Next week, you will use it to mask input padding."
      ]
    },
    {
      "cell_type": "markdown",
      "metadata": {
        "id": "sR-sF_o0jCWa"
      },
      "source": [
        "<a name=\"ex02\"></a>\n",
        "### Exercise 02\n",
        "Implement `data_generator`."
      ]
    },
    {
      "cell_type": "code",
      "execution_count": null,
      "metadata": {
        "id": "fPd9HNT7AVuk"
      },
      "outputs": [],
      "source": [
        "# UNQ_C2 (UNIQUE CELL IDENTIFIER, DO NOT EDIT)\n",
        "# GRADED: Data generator\n",
        "def data_generator(data_pos, data_neg, batch_size, loop, vocab_dict, shuffle=False):\n",
        "    '''\n",
        "    Input: \n",
        "        data_pos - Set of posstive examples\n",
        "        data_neg - Set of negative examples\n",
        "        batch_size - number of samples per batch. Must be even\n",
        "        loop - True or False\n",
        "        vocab_dict - The words dictionary\n",
        "        shuffle - Shuffle the data order\n",
        "    Yield:\n",
        "        inputs - Subset of positive and negative examples\n",
        "        targets - The corresponding labels for the subset\n",
        "        example_weights - An array specifying the importance of each example\n",
        "        \n",
        "    '''     \n",
        "### START GIVEN CODE ###\n",
        "    # make sure the batch size is an even number\n",
        "    # to allow an equal number of positive and negative samples\n",
        "    assert batch_size % 2 == 0\n",
        "    \n",
        "    # Number of positive examples in each batch is half of the batch size\n",
        "    # same with number of negative examples in each batch\n",
        "    n_to_take = batch_size // 2\n",
        "    \n",
        "    # Use pos_index to walk through the data_pos array\n",
        "    # same with neg_index and data_neg\n",
        "    pos_index = 0\n",
        "    neg_index = 0\n",
        "    \n",
        "    len_data_pos = len(data_pos)\n",
        "    len_data_neg = len(data_neg)\n",
        "    \n",
        "    # Get and array with the data indexes\n",
        "    pos_index_lines = list(range(len_data_pos))\n",
        "    neg_index_lines = list(range(len_data_neg))\n",
        "    \n",
        "    # shuffle lines if shuffle is set to True\n",
        "    if shuffle:\n",
        "        rnd.shuffle(pos_index_lines)\n",
        "        rnd.shuffle(neg_index_lines)\n",
        "        \n",
        "    stop = False\n",
        "    \n",
        "    # Loop indefinitely\n",
        "    while not stop:  \n",
        "        \n",
        "        # create a batch with positive and negative examples\n",
        "        batch = []\n",
        "        \n",
        "        # First part: Pack n_to_take positive examples\n",
        "        \n",
        "        # Start from pos_index and increment i up to n_to_take\n",
        "        for i in range(n_to_take):\n",
        "                    \n",
        "            # If the positive index goes past the positive dataset lenght,\n",
        "            if pos_index >= len_data_pos: \n",
        "                \n",
        "                # If loop is set to False, break once we reach the end of the dataset\n",
        "                if not loop:\n",
        "                    stop = True;\n",
        "                    break;\n",
        "                \n",
        "                # If user wants to keep re-using the data, reset the index\n",
        "                pos_index = 0\n",
        "                \n",
        "                if shuffle:\n",
        "                    # Shuffle the index of the positive sample\n",
        "                    rnd.shuffle(pos_index_lines)\n",
        "                    \n",
        "            # get the tweet as pos_index\n",
        "            tweet = data_pos[pos_index_lines[pos_index]]\n",
        "            \n",
        "            # convert the tweet into tensors of integers representing the processed words\n",
        "            tensor = tweet_to_tensor(tweet, vocab_dict)\n",
        "            \n",
        "            # append the tensor to the batch list\n",
        "            batch.append(tensor)\n",
        "            \n",
        "            # Increment pos_index by one\n",
        "            pos_index = pos_index + 1\n",
        "\n",
        "### END GIVEN CODE ###\n",
        "            \n",
        "### START CODE HERE (Replace instances of 'None' with your code) ###\n",
        "\n",
        "        # Second part: Pack n_to_take negative examples\n",
        "    \n",
        "        # Using the same batch list, start from neg_index and increment i up to n_to_take\n",
        "        for i in range(n_to_take):\n",
        "            \n",
        "            # If the negative index goes past the negative dataset length,\n",
        "            if neg_index >= len_data_neg:\n",
        "                \n",
        "                # If loop is set to False, break once we reach the end of the dataset\n",
        "                if not loop:\n",
        "                    stop = True;\n",
        "                    break;\n",
        "                    \n",
        "                # If user wants to keep re-using the data, reset the index\n",
        "                neg_index = 0\n",
        "                \n",
        "                if shuffle:\n",
        "                    # Shuffle the index of the negative sample\n",
        "                    rnd.shuffle(neg_index_lines)\n",
        "            # get the tweet as pos_index\n",
        "            tweet = data_neg[neg_index_lines[neg_index]]\n",
        "            \n",
        "            # convert the tweet into tensors of integers representing the processed words\n",
        "            tensor = tweet_to_tensor(tweet, vocab_dict)\n",
        "            \n",
        "            # append the tensor to the batch list\n",
        "            batch.append(tensor)\n",
        "            \n",
        "            # Increment neg_index by one\n",
        "            neg_index += 1\n",
        "\n",
        "### END CODE HERE ###         \n",
        "\n",
        "### START GIVEN CODE ###\n",
        "        if stop:\n",
        "            break;\n",
        "\n",
        "        # Update the start index for positive data \n",
        "        # so that it's n_to_take positions after the current pos_index\n",
        "        pos_index += n_to_take\n",
        "        \n",
        "        # Update the start index for negative data \n",
        "        # so that it's n_to_take positions after the current neg_index\n",
        "        neg_index += n_to_take\n",
        "        \n",
        "        # Get the max tweet length (the length of the longest tweet) \n",
        "        # (you will pad all shorter tweets to have this length)\n",
        "        max_len = max([len(t) for t in batch]) \n",
        "        \n",
        "        \n",
        "        # Initialize the input_l, which will \n",
        "        # store the padded versions of the tensors\n",
        "        tensor_pad_l = []\n",
        "        # Pad shorter tweets with zeros\n",
        "        for tensor in batch:\n",
        "### END GIVEN CODE ###\n",
        "\n",
        "### START CODE HERE (Replace instances of 'None' with your code) ###\n",
        "            # Get the number of positions to pad for this tensor so that it will be max_len long\n",
        "            n_pad = max_len - len(tensor)\n",
        "            \n",
        "            # Generate a list of zeros, with length n_pad\n",
        "            pad_l = [0]*n_pad\n",
        "            \n",
        "            # concatenate the tensor and the list of padded zeros\n",
        "            tensor_pad = tensor + pad_l\n",
        "            \n",
        "            # append the padded tensor to the list of padded tensors\n",
        "            tensor_pad_l.append(tensor_pad)\n",
        "\n",
        "        # convert the list of padded tensors to a numpy array\n",
        "        # and store this as the model inputs\n",
        "        inputs = np.array(tensor_pad_l)\n",
        "  \n",
        "        # Generate the list of targets for the positive examples (a list of ones)\n",
        "        # The length is the number of positive examples in the batch\n",
        "        target_pos = [1]*n_to_take\n",
        "        \n",
        "        # Generate the list of targets for the negative examples (a list of ones)\n",
        "        # The length is the number of negative examples in the batch\n",
        "        target_neg = [0]*n_to_take\n",
        "        \n",
        "        # Concatenate the positve and negative targets\n",
        "        target_l = target_pos + target_neg\n",
        "        \n",
        "        # Convert the target list into a numpy array\n",
        "        targets = np.array(target_l)\n",
        "\n",
        "        # Example weights: Treat all examples equally importantly.\n",
        "        example_weights = np.ones_like(targets)\n",
        "        \n",
        "\n",
        "### END CODE HERE ###\n",
        "\n",
        "### GIVEN CODE ###\n",
        "        # note we use yield and not return\n",
        "        yield inputs, targets, example_weights"
      ]
    },
    {
      "cell_type": "markdown",
      "metadata": {
        "id": "kI9gEdqpjCWd"
      },
      "source": [
        "Now you can use your data generator to create a data generator for the training data, and another data generator for the validation data.\n",
        "\n",
        "We will create a third data generator that does not loop, for testing the final accuracy of the model."
      ]
    },
    {
      "cell_type": "code",
      "execution_count": null,
      "metadata": {
        "id": "iIwM4YHtAVum",
        "colab": {
          "base_uri": "https://localhost:8080/"
        },
        "outputId": "3ae7e7a7-49ed-4090-eb34-b1fcea4aab8b"
      },
      "outputs": [
        {
          "output_type": "stream",
          "name": "stdout",
          "text": [
            "Inputs: [[2005 4450 3200    9    0    0    0    0    0    0    0]\n",
            " [4953  566 2000 1453 5173 3498  141 3498  130  458    9]\n",
            " [3760  109  136  582 2929 3968    0    0    0    0    0]\n",
            " [ 249 3760    0    0    0    0    0    0    0    0    0]]\n",
            "Targets: [1 1 0 0]\n",
            "Example Weights: [1 1 1 1]\n"
          ]
        }
      ],
      "source": [
        "# Set the random number generator for the shuffle procedure\n",
        "rnd.seed(30) \n",
        "\n",
        "# Create the training data generator\n",
        "def train_generator(batch_size, shuffle = False):\n",
        "    return data_generator(train_pos, train_neg, batch_size, True, Vocab, shuffle)\n",
        "\n",
        "# Create the validation data generator\n",
        "def val_generator(batch_size, shuffle = False):\n",
        "    return data_generator(val_pos, val_neg, batch_size, True, Vocab, shuffle)\n",
        "\n",
        "# Create the validation data generator\n",
        "def test_generator(batch_size, shuffle = False):\n",
        "    return data_generator(val_pos, val_neg, batch_size, False, Vocab, shuffle)\n",
        "\n",
        "# Get a batch from the train_generator and inspect.\n",
        "inputs, targets, example_weights = next(train_generator(4, shuffle=True))\n",
        "\n",
        "# this will print a list of 4 tensors padded with zeros\n",
        "print(f'Inputs: {inputs}')\n",
        "print(f'Targets: {targets}')\n",
        "print(f'Example Weights: {example_weights}')"
      ]
    },
    {
      "cell_type": "code",
      "execution_count": null,
      "metadata": {
        "id": "mcDOyrx9jCWh",
        "colab": {
          "base_uri": "https://localhost:8080/"
        },
        "outputId": "6d3b9813-bc85-421e-b290-33cee90874b4"
      },
      "outputs": [
        {
          "output_type": "stream",
          "name": "stdout",
          "text": [
            "The inputs shape is (4, 14)\n",
            "The targets shape is (4,)\n",
            "The example weights shape is (4,)\n",
            "input tensor: [3 4 5 6 7 8 9 0 0 0 0 0 0 0]; target 1; example weights 1\n",
            "input tensor: [10 11 12 13 14 15 16 17 18 19 20  9 21 22]; target 1; example weights 1\n",
            "input tensor: [5737 2900 3760    0    0    0    0    0    0    0    0    0    0    0]; target 0; example weights 1\n",
            "input tensor: [ 857  255 3651 5738  306 4457  566 1229 2766  327 1201 3760    0    0]; target 0; example weights 1\n"
          ]
        }
      ],
      "source": [
        "# Test the train_generator\n",
        "\n",
        "# Create a data generator for training data,\n",
        "# which produces batches of size 4 (for tensors and their respective targets)\n",
        "tmp_data_gen = train_generator(batch_size = 4)\n",
        "\n",
        "# Call the data generator to get one batch and its targets\n",
        "tmp_inputs, tmp_targets, tmp_example_weights = next(tmp_data_gen)\n",
        "\n",
        "print(f\"The inputs shape is {tmp_inputs.shape}\")\n",
        "print(f\"The targets shape is {tmp_targets.shape}\")\n",
        "print(f\"The example weights shape is {tmp_example_weights.shape}\")\n",
        "\n",
        "for i,t in enumerate(tmp_inputs):\n",
        "    print(f\"input tensor: {t}; target {tmp_targets[i]}; example weights {tmp_example_weights[i]}\")"
      ]
    },
    {
      "cell_type": "markdown",
      "metadata": {
        "id": "cCTl7w1kjCWj"
      },
      "source": [
        "##### Expected output\n",
        "\n",
        "```CPP\n",
        "The inputs shape is (4, 14)\n",
        "The targets shape is (4,)\n",
        "The example weights shape is (4,)\n",
        "input tensor: [3 4 5 6 7 8 9 0 0 0 0 0 0 0]; target 1; example weights 1\n",
        "input tensor: [10 11 12 13 14 15 16 17 18 19 20  9 21 22]; target 1; example weights 1\n",
        "input tensor: [5738 2901 3761    0    0    0    0    0    0    0    0    0    0    0]; target 0; example weights 1\n",
        "input tensor: [ 858  256 3652 5739  307 4458  567 1230 2767  328 1202 3761    0    0]; target 0; example weights 1\n",
        "```"
      ]
    },
    {
      "cell_type": "markdown",
      "metadata": {
        "id": "J3HrgcJmAVup"
      },
      "source": [
        "Now that you have your train/val generators, you can just call them and they will return tensors which correspond to your tweets in the first column and their corresponding labels in the second column. Now you can go ahead and start building your neural network. "
      ]
    },
    {
      "cell_type": "markdown",
      "metadata": {
        "id": "X591GrH_stXq"
      },
      "source": [
        "<a name=\"3\"></a>\n",
        "# Part 3:  Defining classes\n",
        "\n",
        "In this part, you will write your own library of layers. It will be very similar\n",
        "to the one used in Trax and also in Keras and PyTorch. Writing your own small\n",
        "framework will help you understand how they all work and use them effectively\n",
        "in the future.\n",
        "\n",
        "Your framework will be based on the following `Layer` class from utils.py.\n",
        "\n",
        "```CPP\n",
        "class Layer(object):\n",
        "    \"\"\" Base class for layers.\n",
        "    \"\"\"\n",
        "      \n",
        "    # Constructor\n",
        "    def __init__(self):\n",
        "        # set weights to None\n",
        "        self.weights = None\n",
        "\n",
        "    # The forward propagation should be implemented\n",
        "    # by subclasses of this Layer class\n",
        "    def forward(self, x):\n",
        "        raise NotImplementedError\n",
        "\n",
        "    # This function initializes the weights\n",
        "    # based on the input signature and random key,\n",
        "    # should be implemented by subclasses of this Layer class\n",
        "    def init_weights_and_state(self, input_signature, random_key):\n",
        "        pass\n",
        "\n",
        "    # This initializes and returns the weights, do not override.\n",
        "    def init(self, input_signature, random_key):\n",
        "        self.init_weights_and_state(input_signature, random_key)\n",
        "        return self.weights\n",
        " \n",
        "    # __call__ allows an object of this class\n",
        "    # to be called like it's a function.\n",
        "    def __call__(self, x):\n",
        "        # When this layer object is called, \n",
        "        # it calls its forward propagation function\n",
        "        return self.forward(x)\n",
        "```"
      ]
    },
    {
      "cell_type": "markdown",
      "metadata": {
        "id": "TcWUXFaPzS-m"
      },
      "source": [
        "<a name=\"3.1\"></a>\n",
        "## 3.1  ReLU class\n",
        "You will now implement the ReLU activation function in a class below. The ReLU function looks as follows: \n",
        "<img src = \"relu.jpg\" style=\"width:300px;height:150px;\"/>\n",
        "\n",
        "$$ \\mathrm{ReLU}(x) = \\mathrm{max}(0,x) $$\n"
      ]
    },
    {
      "cell_type": "markdown",
      "metadata": {
        "id": "KVVRVuhjjCWl"
      },
      "source": [
        "<a name=\"ex03\"></a>\n",
        "### Exercise 03\n",
        "**Instructions:** Implement the ReLU activation function below. Your function should take in a matrix or vector and it should transform all the negative numbers into 0 while keeping all the positive numbers intact. "
      ]
    },
    {
      "cell_type": "markdown",
      "metadata": {
        "id": "dPH_EVcHjCWl"
      },
      "source": [
        "<details>    \n",
        "<summary>\n",
        "    <font size=\"3\" color=\"darkgreen\"><b>Hints</b></font>\n",
        "</summary>\n",
        "<p>\n",
        "<ul>\n",
        "    <li>Please use numpy.maximum(A,k) to find the maximum between each element in A and a scalar k</li>\n",
        "</ul>\n",
        "</p>\n"
      ]
    },
    {
      "cell_type": "code",
      "execution_count": null,
      "metadata": {
        "id": "VGE5zZ5mzF9x"
      },
      "outputs": [],
      "source": [
        "# UNQ_C3 (UNIQUE CELL IDENTIFIER, DO NOT EDIT)\n",
        "# GRADED FUNCTION: Relu\n",
        "class Relu(Layer):\n",
        "    \"\"\"Relu activation function implementation\"\"\"\n",
        "    def forward(self, x):\n",
        "        '''\n",
        "        Input: \n",
        "            - x (a numpy array): the input\n",
        "        Output:\n",
        "            - activation (numpy array): all positive or 0 version of x\n",
        "        '''\n",
        "        ### START CODE HERE (Replace instances of 'None' with your code) ###\n",
        "        \n",
        "        activation = np.maximum(x,0)\n",
        "\n",
        "        ### END CODE HERE ###\n",
        "        \n",
        "        return activation"
      ]
    },
    {
      "cell_type": "code",
      "execution_count": null,
      "metadata": {
        "id": "hVQ3YtoZ1uYP",
        "colab": {
          "base_uri": "https://localhost:8080/"
        },
        "outputId": "1a694c32-7ac5-408c-d0d8-8db17ae2f03d"
      },
      "outputs": [
        {
          "output_type": "stream",
          "name": "stdout",
          "text": [
            "Test data is:\n",
            "[[-2. -1.  0.]\n",
            " [ 0.  1.  2.]]\n",
            "Output of Relu is:\n",
            "[[0. 0. 0.]\n",
            " [0. 1. 2.]]\n"
          ]
        }
      ],
      "source": [
        "# Test your relu function\n",
        "x = np.array([[-2.0, -1.0, 0.0], [0.0, 1.0, 2.0]], dtype=float)\n",
        "relu_layer = Relu()\n",
        "print(\"Test data is:\")\n",
        "print(x)\n",
        "print(\"Output of Relu is:\")\n",
        "print(relu_layer(x))"
      ]
    },
    {
      "cell_type": "markdown",
      "metadata": {
        "id": "niL6mIuBAVuu"
      },
      "source": [
        "##### Expected Outout\n",
        "```CPP\n",
        "Test data is:\n",
        "[[-2. -1.  0.]\n",
        " [ 0.  1.  2.]]\n",
        "Output of Relu is:\n",
        "[[0. 0. 0.]\n",
        " [0. 1. 2.]]\n",
        "```"
      ]
    },
    {
      "cell_type": "markdown",
      "metadata": {
        "id": "XepjDxCQ1G8p"
      },
      "source": [
        "<a name=\"3.2\"></a>\n",
        "## 3.2  Dense class \n",
        "\n",
        "### Exercise\n",
        "\n",
        "Implement the forward function of the Dense class. \n",
        "- The forward function multiplies the input to the layer (`x`) by the weight matrix (`W`)\n",
        "\n",
        "$$\\mathrm{forward}(\\mathbf{x},\\mathbf{W}) = \\mathbf{xW} $$\n",
        "\n",
        "- You can use `numpy.dot` to perform the matrix multiplication.\n",
        "\n",
        "Note that for more efficient code execution, you will use the trax version of `math`, which includes a trax version of `numpy` and also `random`.\n",
        "\n",
        "Implement the weight initializer `new_weights` function\n",
        "- Weights are initialized with a random key.\n",
        "- The second parameter is a tuple for the desired shape of the weights (num_rows, num_cols)\n",
        "- The num of rows for weights should equal the number of columns in x, because for forward propagation, you will multiply x times weights.\n",
        "\n",
        "Please use `trax.fastmath.random.normal(key, shape, dtype=tf.float32)` to generate random values for the weight matrix. The key difference between this function\n",
        "and the standard `numpy` randomness is the explicit use of random keys, which\n",
        "need to be passed. While it can look tedious at the first sight to pass the random key everywhere, you will learn in Course 4 why this is very helpful when\n",
        "implementing some advanced models.\n",
        "- `key` can be generated by calling `random.get_prng(seed=)` and passing in a number for the `seed`.\n",
        "- `shape` is a tuple with the desired shape of the weight matrix.\n",
        "    - The number of rows in the weight matrix should equal the number of columns in the variable `x`.  Since `x` may have 2 dimensions if it reprsents a single training example (row, col), or three dimensions (batch_size, row, col), get the last dimension from the tuple that holds the dimensions of x.\n",
        "    - The number of columns in the weight matrix is the number of units chosen for that dense layer.  Look at the `__init__` function to see which variable stores the number of units.\n",
        "- `dtype` is the data type of the values in the generated matrix; keep the default of `tf.float32`. In this case, don't explicitly set the dtype (just let it use the default value).\n",
        "\n",
        "Set the standard deviation of the random values to 0.1\n",
        "- The values generated have a mean of 0 and standard deviation of 1.\n",
        "- Set the default standard deviation `stdev` to be 0.1 by multiplying the standard deviation to each of the values in the weight matrix."
      ]
    },
    {
      "cell_type": "code",
      "execution_count": null,
      "metadata": {
        "id": "cJqiv5KnjCWr"
      },
      "outputs": [],
      "source": [
        "# use the fastmath module within trax\n",
        "from trax import fastmath\n",
        "\n",
        "# use the numpy module from trax\n",
        "np = fastmath.numpy\n",
        "\n",
        "# use the fastmath.random module from trax\n",
        "random = fastmath.random"
      ]
    },
    {
      "cell_type": "code",
      "execution_count": null,
      "metadata": {
        "id": "6reTe6asjCWt",
        "colab": {
          "base_uri": "https://localhost:8080/",
          "height": 428
        },
        "outputId": "87f9974b-3197-4b7a-b8fd-27d2f8bb940b"
      },
      "outputs": [
        {
          "output_type": "stream",
          "name": "stdout",
          "text": [
            "The random seed generated by random.get_prng\n"
          ]
        },
        {
          "output_type": "display_data",
          "data": {
            "text/plain": [
              "DeviceArray([0, 1], dtype=uint32)"
            ]
          },
          "metadata": {}
        },
        {
          "output_type": "stream",
          "name": "stdout",
          "text": [
            "choose a matrix with 2 rows and 3 columns\n"
          ]
        },
        {
          "output_type": "display_data",
          "data": {
            "text/plain": [
              "(2, 3)"
            ]
          },
          "metadata": {}
        },
        {
          "output_type": "stream",
          "name": "stdout",
          "text": [
            "Weight matrix generated with a normal distribution with mean 0 and stdev of 1\n"
          ]
        },
        {
          "output_type": "display_data",
          "data": {
            "text/plain": [
              "DeviceArray([[ 0.95730704, -0.9699289 ,  1.0070665 ],\n",
              "             [ 0.3661903 ,  0.1729483 ,  0.29092234]], dtype=float32)"
            ]
          },
          "metadata": {}
        }
      ],
      "source": [
        "# See how the fastmath.trax.random.normal function works\n",
        "tmp_key = random.get_prng(seed=1)\n",
        "print(\"The random seed generated by random.get_prng\")\n",
        "display(tmp_key)\n",
        "\n",
        "print(\"choose a matrix with 2 rows and 3 columns\")\n",
        "tmp_shape=(2,3)\n",
        "display(tmp_shape)\n",
        "\n",
        "# Generate a weight matrix\n",
        "# Note that you'll get an error if you try to set dtype to tf.float32, where tf is tensorflow\n",
        "# Just avoid setting the dtype and allow it to use the default data type\n",
        "tmp_weight = trax.fastmath.random.normal(key=tmp_key, shape=tmp_shape)\n",
        "\n",
        "print(\"Weight matrix generated with a normal distribution with mean 0 and stdev of 1\")\n",
        "display(tmp_weight)"
      ]
    },
    {
      "cell_type": "markdown",
      "metadata": {
        "id": "IpiJ87L9jCWw"
      },
      "source": [
        "<a name=\"ex04\"></a>\n",
        "### Exercise 04\n",
        "\n",
        "Implement the `Dense` class."
      ]
    },
    {
      "cell_type": "code",
      "execution_count": null,
      "metadata": {
        "id": "783FfWt70660"
      },
      "outputs": [],
      "source": [
        "# UNQ_C4 (UNIQUE CELL IDENTIFIER, DO NOT EDIT)\n",
        "# GRADED FUNCTION: Dense\n",
        "\n",
        "class Dense(Layer):\n",
        "    \"\"\"\n",
        "    A dense (fully-connected) layer.\n",
        "    \"\"\"\n",
        "\n",
        "    # __init__ is implemented for you\n",
        "    def __init__(self, n_units, init_stdev=0.1):\n",
        "        \n",
        "        # Set the number of units in this layer\n",
        "        self._n_units = n_units\n",
        "        self._init_stdev = init_stdev\n",
        "\n",
        "    # Please implement 'forward()'\n",
        "    def forward(self, x):\n",
        "\n",
        "### START CODE HERE (Replace instances of 'None' with your code) ###\n",
        "\n",
        "        # Matrix multiply x and the weight matrix\n",
        "        dense = np.dot(x,self.weights)\n",
        "        \n",
        "### END CODE HERE ###\n",
        "        return dense\n",
        "\n",
        "    # init_weights\n",
        "    def init_weights_and_state(self, input_signature, random_key):\n",
        "        \n",
        "### START CODE HERE (Replace instances of 'None' with your code) ###\n",
        "        # The input_signature has a .shape attribute that gives the shape as a tuple\n",
        "        input_shape = input_signature.shape\n",
        "\n",
        "        # Generate the weight matrix from a normal distribution, \n",
        "        # and standard deviation of 'stdev'        \n",
        "        w = self._init_stdev*random.normal(key= random_key, shape = (input_shape[-1],self._n_units))\n",
        "        \n",
        "### END CODE HERE ###     \n",
        "        self.weights = w\n",
        "        return self.weights"
      ]
    },
    {
      "cell_type": "code",
      "execution_count": null,
      "metadata": {
        "id": "vw-z6n8SAVuy",
        "colab": {
          "base_uri": "https://localhost:8080/"
        },
        "outputId": "fe8503f6-c12e-486b-b151-6b5104e4b2eb"
      },
      "outputs": [
        {
          "output_type": "stream",
          "name": "stdout",
          "text": [
            "Weights are\n",
            "  [[-0.02837107  0.09368163 -0.10050073  0.14165013  0.10543301  0.09108127\n",
            "  -0.04265671  0.0986188  -0.05575324  0.0015325 ]\n",
            " [-0.2078568   0.05548371  0.09142365  0.05744596  0.07227863  0.01210618\n",
            "  -0.03237354  0.16234998  0.02450039 -0.13809781]\n",
            " [-0.06111237  0.01403725  0.08410043 -0.10943579 -0.1077502  -0.11396457\n",
            "  -0.0593338  -0.01557651 -0.03832145 -0.11144515]]\n",
            "Foward function output is  [[-3.0395489   0.9266805   2.5414748  -2.0504727  -1.9769386  -2.5822086\n",
            "  -1.7952733   0.94427466 -0.89803994 -3.7497485 ]]\n"
          ]
        }
      ],
      "source": [
        "# Testing your Dense layer \n",
        "dense_layer = Dense(n_units=10)  #sets  number of units in dense layer\n",
        "random_key = random.get_prng(seed=0)  # sets random seed\n",
        "z = np.array([[2.0, 7.0, 25.0]]) # input array \n",
        "\n",
        "dense_layer.init(z, random_key)\n",
        "print(\"Weights are\\n \",dense_layer.weights) #Returns randomly generated weights\n",
        "print(\"Foward function output is \", dense_layer(z)) # Returns multiplied values of units and weights"
      ]
    },
    {
      "cell_type": "markdown",
      "metadata": {
        "id": "Q0dNQg51NMef"
      },
      "source": [
        "##### Expected Outout\n",
        "```CPP\n",
        "Weights are\n",
        "  [[-0.02837108  0.09368162 -0.10050076  0.14165013  0.10543301  0.09108126\n",
        "  -0.04265672  0.0986188  -0.05575325  0.00153249]\n",
        " [-0.20785688  0.0554837   0.09142365  0.05744595  0.07227863  0.01210617\n",
        "  -0.03237354  0.16234995  0.02450038 -0.13809784]\n",
        " [-0.06111237  0.01403724  0.08410042 -0.1094358  -0.10775021 -0.11396459\n",
        "  -0.05933381 -0.01557652 -0.03832145 -0.11144515]]\n",
        "Foward function output is  [[-3.0395496   0.9266802   2.5414743  -2.050473   -1.9769388  -2.582209\n",
        "  -1.7952735   0.94427425 -0.8980402  -3.7497487 ]]\n",
        "```"
      ]
    },
    {
      "cell_type": "markdown",
      "metadata": {
        "id": "eZEY8vBCgrgy"
      },
      "source": [
        "<a name=\"3.3\"></a>\n",
        "## 3.3  Model\n",
        "\n",
        "Now you will implement a classifier using neural networks. Here is the model architecture you will be implementing. \n",
        "\n",
        "<img src = \"nn.jpg\" style=\"width:400px;height:250px;\"/>\n",
        "\n",
        "For the model implementation, you will use the Trax layers library `tl`.\n",
        "Note that the second character of `tl` is the lowercase of letter `L`, not the number 1. Trax layers are very similar to the ones you implemented above,\n",
        "but in addition to trainable weights also have a non-trainable state.\n",
        "State is used in layers like batch normalization and for inference, you will learn more about it in course 4.\n",
        "\n",
        "First, look at the code of the Trax Dense layer and compare to your implementation above.\n",
        "- [tl.Dense](https://github.com/google/trax/blob/master/trax/layers/core.py#L29): Trax Dense layer implementation\n",
        "\n",
        "One other important layer that you will use a lot is one that allows to execute one layer after another in sequence.\n",
        "- [tl.Serial](https://github.com/google/trax/blob/master/trax/layers/combinators.py#L26): Combinator that applies layers serially.  \n",
        "    - You can pass in the layers as arguments to `Serial`, separated by commas. \n",
        "    - For example: `tl.Serial(tl.Embeddings(...), tl.Mean(...), tl.Dense(...), tl.LogSoftmax(...))`\n",
        "\n",
        "Please use the `help` function to view documentation for each layer."
      ]
    },
    {
      "cell_type": "code",
      "execution_count": null,
      "metadata": {
        "id": "RpbiDzN9jCW2",
        "colab": {
          "base_uri": "https://localhost:8080/"
        },
        "outputId": "d47a5f6c-b5cc-4837-dfad-0e746fc92876"
      },
      "outputs": [
        {
          "output_type": "stream",
          "name": "stdout",
          "text": [
            "Help on class Dense in module trax.layers.core:\n",
            "\n",
            "class Dense(trax.layers.base.Layer)\n",
            " |  Dense(n_units, kernel_initializer=<function ScaledInitializer.<locals>.Init at 0x7fdfe9684ef0>, bias_initializer=<function RandomNormalInitializer.<locals>.<lambda> at 0x7fdfe9684f80>, use_bias=True, use_bfloat16=False)\n",
            " |  \n",
            " |  A dense (a.k.a. fully-connected, affine) layer.\n",
            " |  \n",
            " |  Dense layers are the prototypical example of a trainable layer, i.e., a layer\n",
            " |  with trainable weights. Each node in a dense layer computes a weighted sum of\n",
            " |  all node values from the preceding layer and adds to that sum a node-specific\n",
            " |  bias term. The full layer computation is expressed compactly in linear\n",
            " |  algebra as an affine map `y = Wx + b`, where `W` is a matrix and `y`, `x`,\n",
            " |  and `b` are vectors. The layer is trained, or \"learns\", by updating the\n",
            " |  values in `W` and `b`.\n",
            " |  \n",
            " |  Less commonly, a dense layer can omit the bias term and be a pure linear map:\n",
            " |  `y = Wx`.\n",
            " |  \n",
            " |  Method resolution order:\n",
            " |      Dense\n",
            " |      trax.layers.base.Layer\n",
            " |      builtins.object\n",
            " |  \n",
            " |  Methods defined here:\n",
            " |  \n",
            " |  __init__(self, n_units, kernel_initializer=<function ScaledInitializer.<locals>.Init at 0x7fdfe9684ef0>, bias_initializer=<function RandomNormalInitializer.<locals>.<lambda> at 0x7fdfe9684f80>, use_bias=True, use_bfloat16=False)\n",
            " |      Returns a dense (fully connected) layer of width `n_units`.\n",
            " |      \n",
            " |      A dense layer maps collections of `R^m` vectors to `R^n`, where `n`\n",
            " |      (`= n_units`) is fixed at layer creation time, and `m` is set at layer\n",
            " |      initialization time.\n",
            " |      \n",
            " |      Args:\n",
            " |        n_units: Number of nodes in the layer, also known as the width of the\n",
            " |            layer.\n",
            " |        kernel_initializer: Function that creates a matrix of (random) initial\n",
            " |            connection weights `W` for the layer.\n",
            " |        bias_initializer: Function that creates a vector of (random) initial\n",
            " |            bias weights `b` for the layer.\n",
            " |        use_bias: If `True`, compute an affine map `y = Wx + b`; else compute\n",
            " |            a linear map `y = Wx`.\n",
            " |        use_bfloat16: If `True`, use bfloat16 weights instead of the default\n",
            " |          float32; this can save memory but may (rarely) lead to numerical issues.\n",
            " |  \n",
            " |  forward(self, x)\n",
            " |      Executes this layer as part of a forward pass through the model.\n",
            " |      \n",
            " |      Args:\n",
            " |        x: Tensor of same shape and dtype as the input signature used to\n",
            " |            initialize this layer.\n",
            " |      \n",
            " |      Returns:\n",
            " |        Tensor of same shape and dtype as the input, except the final dimension\n",
            " |        is the layer's `n_units` value.\n",
            " |  \n",
            " |  init_weights_and_state(self, input_signature)\n",
            " |      Randomly initializes this layer's weights.\n",
            " |      \n",
            " |      Weights are a `(w, b)` tuple for layers created with `use_bias=True` (the\n",
            " |      default case), or a `w` tensor for layers created with `use_bias=False`.\n",
            " |      \n",
            " |      Args:\n",
            " |        input_signature: `ShapeDtype` instance characterizing the input this layer\n",
            " |            should compute on.\n",
            " |  \n",
            " |  ----------------------------------------------------------------------\n",
            " |  Methods inherited from trax.layers.base.Layer:\n",
            " |  \n",
            " |  __call__(self, x, weights=None, state=None, rng=None)\n",
            " |      Makes layers callable; for use in tests or interactive settings.\n",
            " |      \n",
            " |      This convenience method helps library users play with, test, or otherwise\n",
            " |      probe the behavior of layers outside of a full training environment. It\n",
            " |      presents the layer as callable function from inputs to outputs, with the\n",
            " |      option of manually specifying weights and non-parameter state per individual\n",
            " |      call. For convenience, weights and non-parameter state are cached per layer\n",
            " |      instance, starting from default values of `EMPTY_WEIGHTS` and `EMPTY_STATE`,\n",
            " |      and acquiring non-empty values either by initialization or from values\n",
            " |      explicitly provided via the weights and state keyword arguments, in which\n",
            " |      case the old weights will be preserved, and the state will be updated.\n",
            " |      \n",
            " |      Args:\n",
            " |        x: Zero or more input tensors, packaged as described in the `Layer` class\n",
            " |            docstring.\n",
            " |        weights: Weights or `None`; if `None`, use self's cached weights value.\n",
            " |        state: State or `None`; if `None`, use self's cached state value.\n",
            " |        rng: Single-use random number generator (JAX PRNG key), or `None`;\n",
            " |            if `None`, use a default computed from an integer 0 seed.\n",
            " |      \n",
            " |      Returns:\n",
            " |        Zero or more output tensors, packaged as described in the `Layer` class\n",
            " |        docstring.\n",
            " |  \n",
            " |  __repr__(self)\n",
            " |      Renders this layer as a medium-detailed string, to help in debugging.\n",
            " |      \n",
            " |      Subclasses should aim for high-signal/low-noise when overriding this\n",
            " |      method.\n",
            " |      \n",
            " |      Returns:\n",
            " |        A high signal-to-noise string representing this layer.\n",
            " |  \n",
            " |  __setattr__(self, attr, value)\n",
            " |      Sets class attributes and protects from typos.\n",
            " |      \n",
            " |      In Trax layers, we only allow to set the following public attributes::\n",
            " |      \n",
            " |        - weights\n",
            " |        - state\n",
            " |        - rng\n",
            " |      \n",
            " |      This function prevents from setting other public attributes to avoid typos,\n",
            " |      for example, this is not possible and would be without this function::\n",
            " |      \n",
            " |        [typo]   layer.weighs = some_tensor\n",
            " |      \n",
            " |      If you need to set other public attributes in a derived class (which we\n",
            " |      do not recommend as in almost all cases it suffices to use a private\n",
            " |      attribute), override self._settable_attrs to include the attribute name.\n",
            " |      \n",
            " |      Args:\n",
            " |        attr: Name of the attribute to be set.\n",
            " |        value: Value to be assigned to the attribute.\n",
            " |  \n",
            " |  backward(self, inputs, output, grad, weights, state, new_state, rng)\n",
            " |      Custom backward pass to propagate gradients in a custom way.\n",
            " |      \n",
            " |      Args:\n",
            " |        inputs: Input tensors; can be a (possibly nested) tuple.\n",
            " |        output: The result of running this layer on inputs.\n",
            " |        grad: Gradient signal computed based on subsequent layers; its structure\n",
            " |            and shape must match output.\n",
            " |        weights: This layer's weights.\n",
            " |        state: This layer's state prior to the current forward pass.\n",
            " |        new_state: This layer's state after the current forward pass.\n",
            " |        rng: Single-use random number generator (JAX PRNG key).\n",
            " |      \n",
            " |      Returns:\n",
            " |        The custom gradient signal for the input. Note that we need to return\n",
            " |        a gradient for each argument of forward, so it will usually be a tuple\n",
            " |        of signals: the gradient for inputs and weights.\n",
            " |  \n",
            " |  init(self, input_signature, rng=None, use_cache=False)\n",
            " |      Initializes weights/state of this layer and its sublayers recursively.\n",
            " |      \n",
            " |      Initialization creates layer weights and state, for layers that use them.\n",
            " |      It derives the necessary array shapes and data types from the layer's input\n",
            " |      signature, which is itself just shape and data type information.\n",
            " |      \n",
            " |      For layers without weights or state, this method safely does nothing.\n",
            " |      \n",
            " |      This method is designed to create weights/state only once for each layer\n",
            " |      instance, even if the same layer instance occurs in multiple places in the\n",
            " |      network. This enables weight sharing to be implemented as layer sharing.\n",
            " |      \n",
            " |      Args:\n",
            " |        input_signature: `ShapeDtype` instance (if this layer takes one input)\n",
            " |            or list/tuple of `ShapeDtype` instances.\n",
            " |        rng: Single-use random number generator (JAX PRNG key), or `None`;\n",
            " |            if `None`, use a default computed from an integer 0 seed.\n",
            " |        use_cache: If `True`, and if this layer instance has already been\n",
            " |            initialized elsewhere in the network, then return special marker\n",
            " |            values -- tuple `(GET_WEIGHTS_FROM_CACHE, GET_STATE_FROM_CACHE)`.\n",
            " |            Else return this layer's newly initialized weights and state.\n",
            " |      \n",
            " |      Returns:\n",
            " |        A `(weights, state)` tuple.\n",
            " |  \n",
            " |  init_from_file(self, file_name, weights_only=False, input_signature=None)\n",
            " |      Initializes this layer and its sublayers from a pickled checkpoint.\n",
            " |      \n",
            " |      In the common case (`weights_only=False`), the file must be a gziped pickled\n",
            " |      dictionary containing items with keys `'flat_weights', `'flat_state'` and\n",
            " |      `'input_signature'`, which are used to initialize this layer.\n",
            " |      If `input_signature` is specified, it's used instead of the one in the file.\n",
            " |      If `weights_only` is `True`, the dictionary does not need to have the\n",
            " |      `'flat_state'` item and the state it not restored either.\n",
            " |      \n",
            " |      Args:\n",
            " |        file_name: Name/path of the pickled weights/state file.\n",
            " |        weights_only: If `True`, initialize only the layer's weights. Else\n",
            " |            initialize both weights and state.\n",
            " |        input_signature: Input signature to be used instead of the one from file.\n",
            " |      \n",
            " |      Returns:\n",
            " |        A `(weights, state)` tuple.\n",
            " |  \n",
            " |  output_signature(self, input_signature)\n",
            " |      Returns output signature this layer would give for `input_signature`.\n",
            " |  \n",
            " |  pure_fn(self, x, weights, state, rng, use_cache=False)\n",
            " |      Applies this layer as a pure function with no optional args.\n",
            " |      \n",
            " |      This method exposes the layer's computation as a pure function. This is\n",
            " |      especially useful for JIT compilation. Do not override, use `forward`\n",
            " |      instead.\n",
            " |      \n",
            " |      Args:\n",
            " |        x: Zero or more input tensors, packaged as described in the `Layer` class\n",
            " |            docstring.\n",
            " |        weights: A tuple or list of trainable weights, with one element for this\n",
            " |            layer if this layer has no sublayers, or one for each sublayer if\n",
            " |            this layer has sublayers. If a layer (or sublayer) has no trainable\n",
            " |            weights, the corresponding weights element is an empty tuple.\n",
            " |        state: Layer-specific non-parameter state that can update between batches.\n",
            " |        rng: Single-use random number generator (JAX PRNG key).\n",
            " |        use_cache: if `True`, cache weights and state in the layer object; used\n",
            " |          to implement layer sharing in combinators.\n",
            " |      \n",
            " |      Returns:\n",
            " |        A tuple of `(tensors, state)`. The tensors match the number (`n_out`)\n",
            " |        promised by this layer, and are packaged as described in the `Layer`\n",
            " |        class docstring.\n",
            " |  \n",
            " |  save_to_file(self, file_name, weights_only=False, input_signature=None)\n",
            " |      Saves this layer and its sublayers to a pickled checkpoint.\n",
            " |      \n",
            " |      Args:\n",
            " |        file_name: Name/path of the pickled weights/state file.\n",
            " |        weights_only: If `True`, save only the layer's weights. Else\n",
            " |            save both weights and state.\n",
            " |        input_signature: Input signature to be used.\n",
            " |  \n",
            " |  weights_and_state_signature(self, input_signature, unsafe=False)\n",
            " |      Return a pair containing the signatures of weights and state.\n",
            " |  \n",
            " |  ----------------------------------------------------------------------\n",
            " |  Data descriptors inherited from trax.layers.base.Layer:\n",
            " |  \n",
            " |  __dict__\n",
            " |      dictionary for instance variables (if defined)\n",
            " |  \n",
            " |  __weakref__\n",
            " |      list of weak references to the object (if defined)\n",
            " |  \n",
            " |  has_backward\n",
            " |      Returns `True` if this layer provides its own custom backward pass code.\n",
            " |      \n",
            " |      A layer subclass that provides custom backward pass code (for custom\n",
            " |      gradients) must override this method to return `True`.\n",
            " |  \n",
            " |  n_in\n",
            " |      Returns how many tensors this layer expects as input.\n",
            " |  \n",
            " |  n_out\n",
            " |      Returns how many tensors this layer promises as output.\n",
            " |  \n",
            " |  name\n",
            " |      Returns the name of this layer.\n",
            " |  \n",
            " |  rng\n",
            " |      Returns this layer's current single-use random number generator.\n",
            " |      \n",
            " |      Code that wants to base random samples on this generator must explicitly\n",
            " |      split off new generators from it. (See, for example, the `rng` setter code\n",
            " |      below.)\n",
            " |  \n",
            " |  state\n",
            " |      Returns a tuple containing this layer's state; may be empty.\n",
            " |      \n",
            " |      If the layer has sublayers, the state by convention will be\n",
            " |      a tuple of length `len(sublayers)` containing sublayer states.\n",
            " |      Note that in this case self._state only marks which ones are shared.\n",
            " |  \n",
            " |  sublayers\n",
            " |      Returns a tuple containing this layer's sublayers; may be empty.\n",
            " |  \n",
            " |  weights\n",
            " |      Returns this layer's weights.\n",
            " |      \n",
            " |      Depending on the layer, the weights can be in the form of:\n",
            " |      \n",
            " |        - an empty tuple\n",
            " |        - a tensor (ndarray)\n",
            " |        - a nested structure of tuples and tensors\n",
            " |      \n",
            " |      If the layer has sublayers, the weights by convention will be\n",
            " |      a tuple of length `len(sublayers)` containing the weights of sublayers.\n",
            " |      Note that in this case self._weights only marks which ones are shared.\n",
            "\n"
          ]
        }
      ],
      "source": [
        "# View documentation on tl.Dense\n",
        "help(tl.Dense)"
      ]
    },
    {
      "cell_type": "code",
      "execution_count": null,
      "metadata": {
        "id": "Hrblw_uJ4zmF",
        "colab": {
          "base_uri": "https://localhost:8080/"
        },
        "outputId": "81eabf52-b30e-409d-b92a-730988d4f2c8"
      },
      "outputs": [
        {
          "output_type": "stream",
          "name": "stdout",
          "text": [
            "Help on class Serial in module trax.layers.combinators:\n",
            "\n",
            "class Serial(trax.layers.base.Layer)\n",
            " |  Serial(*sublayers, name=None, sublayers_to_print=None)\n",
            " |  \n",
            " |  Combinator that applies layers serially (by function composition).\n",
            " |  \n",
            " |  This combinator is commonly used to construct deep networks, e.g., like this::\n",
            " |  \n",
            " |      mlp = tl.Serial(\n",
            " |        tl.Dense(128),\n",
            " |        tl.Relu(),\n",
            " |        tl.Dense(10),\n",
            " |      )\n",
            " |  \n",
            " |  A Serial combinator uses stack semantics to manage data for its sublayers.\n",
            " |  Each sublayer sees only the inputs it needs and returns only the outputs it\n",
            " |  has generated. The sublayers interact via the data stack. For instance, a\n",
            " |  sublayer k, following sublayer j, gets called with the data stack in the\n",
            " |  state left after layer j has applied. The Serial combinator then:\n",
            " |  \n",
            " |    - takes n_in items off the top of the stack (n_in = k.n_in) and calls\n",
            " |      layer k, passing those items as arguments; and\n",
            " |  \n",
            " |    - takes layer k's n_out return values (n_out = k.n_out) and pushes\n",
            " |      them onto the data stack.\n",
            " |  \n",
            " |  A Serial instance with no sublayers acts as a special-case (but useful)\n",
            " |  1-input 1-output no-op.\n",
            " |  \n",
            " |  Method resolution order:\n",
            " |      Serial\n",
            " |      trax.layers.base.Layer\n",
            " |      builtins.object\n",
            " |  \n",
            " |  Methods defined here:\n",
            " |  \n",
            " |  __init__(self, *sublayers, name=None, sublayers_to_print=None)\n",
            " |      Creates a partially initialized, unconnected layer instance.\n",
            " |      \n",
            " |      Args:\n",
            " |        n_in: Number of inputs expected by this layer.\n",
            " |        n_out: Number of outputs promised by this layer.\n",
            " |        name: Class-like name for this layer; for use when printing this layer.\n",
            " |        sublayers_to_print: Sublayers to display when printing out this layer;\n",
            " |          if None (the default), display all sublayers.\n",
            " |  \n",
            " |  forward(self, xs)\n",
            " |      Executes this layer as part of a forward pass through the model.\n",
            " |  \n",
            " |  init_weights_and_state(self, input_signature)\n",
            " |      Initializes weights and state for inputs with the given signature.\n",
            " |  \n",
            " |  ----------------------------------------------------------------------\n",
            " |  Methods inherited from trax.layers.base.Layer:\n",
            " |  \n",
            " |  __call__(self, x, weights=None, state=None, rng=None)\n",
            " |      Makes layers callable; for use in tests or interactive settings.\n",
            " |      \n",
            " |      This convenience method helps library users play with, test, or otherwise\n",
            " |      probe the behavior of layers outside of a full training environment. It\n",
            " |      presents the layer as callable function from inputs to outputs, with the\n",
            " |      option of manually specifying weights and non-parameter state per individual\n",
            " |      call. For convenience, weights and non-parameter state are cached per layer\n",
            " |      instance, starting from default values of `EMPTY_WEIGHTS` and `EMPTY_STATE`,\n",
            " |      and acquiring non-empty values either by initialization or from values\n",
            " |      explicitly provided via the weights and state keyword arguments, in which\n",
            " |      case the old weights will be preserved, and the state will be updated.\n",
            " |      \n",
            " |      Args:\n",
            " |        x: Zero or more input tensors, packaged as described in the `Layer` class\n",
            " |            docstring.\n",
            " |        weights: Weights or `None`; if `None`, use self's cached weights value.\n",
            " |        state: State or `None`; if `None`, use self's cached state value.\n",
            " |        rng: Single-use random number generator (JAX PRNG key), or `None`;\n",
            " |            if `None`, use a default computed from an integer 0 seed.\n",
            " |      \n",
            " |      Returns:\n",
            " |        Zero or more output tensors, packaged as described in the `Layer` class\n",
            " |        docstring.\n",
            " |  \n",
            " |  __repr__(self)\n",
            " |      Renders this layer as a medium-detailed string, to help in debugging.\n",
            " |      \n",
            " |      Subclasses should aim for high-signal/low-noise when overriding this\n",
            " |      method.\n",
            " |      \n",
            " |      Returns:\n",
            " |        A high signal-to-noise string representing this layer.\n",
            " |  \n",
            " |  __setattr__(self, attr, value)\n",
            " |      Sets class attributes and protects from typos.\n",
            " |      \n",
            " |      In Trax layers, we only allow to set the following public attributes::\n",
            " |      \n",
            " |        - weights\n",
            " |        - state\n",
            " |        - rng\n",
            " |      \n",
            " |      This function prevents from setting other public attributes to avoid typos,\n",
            " |      for example, this is not possible and would be without this function::\n",
            " |      \n",
            " |        [typo]   layer.weighs = some_tensor\n",
            " |      \n",
            " |      If you need to set other public attributes in a derived class (which we\n",
            " |      do not recommend as in almost all cases it suffices to use a private\n",
            " |      attribute), override self._settable_attrs to include the attribute name.\n",
            " |      \n",
            " |      Args:\n",
            " |        attr: Name of the attribute to be set.\n",
            " |        value: Value to be assigned to the attribute.\n",
            " |  \n",
            " |  backward(self, inputs, output, grad, weights, state, new_state, rng)\n",
            " |      Custom backward pass to propagate gradients in a custom way.\n",
            " |      \n",
            " |      Args:\n",
            " |        inputs: Input tensors; can be a (possibly nested) tuple.\n",
            " |        output: The result of running this layer on inputs.\n",
            " |        grad: Gradient signal computed based on subsequent layers; its structure\n",
            " |            and shape must match output.\n",
            " |        weights: This layer's weights.\n",
            " |        state: This layer's state prior to the current forward pass.\n",
            " |        new_state: This layer's state after the current forward pass.\n",
            " |        rng: Single-use random number generator (JAX PRNG key).\n",
            " |      \n",
            " |      Returns:\n",
            " |        The custom gradient signal for the input. Note that we need to return\n",
            " |        a gradient for each argument of forward, so it will usually be a tuple\n",
            " |        of signals: the gradient for inputs and weights.\n",
            " |  \n",
            " |  init(self, input_signature, rng=None, use_cache=False)\n",
            " |      Initializes weights/state of this layer and its sublayers recursively.\n",
            " |      \n",
            " |      Initialization creates layer weights and state, for layers that use them.\n",
            " |      It derives the necessary array shapes and data types from the layer's input\n",
            " |      signature, which is itself just shape and data type information.\n",
            " |      \n",
            " |      For layers without weights or state, this method safely does nothing.\n",
            " |      \n",
            " |      This method is designed to create weights/state only once for each layer\n",
            " |      instance, even if the same layer instance occurs in multiple places in the\n",
            " |      network. This enables weight sharing to be implemented as layer sharing.\n",
            " |      \n",
            " |      Args:\n",
            " |        input_signature: `ShapeDtype` instance (if this layer takes one input)\n",
            " |            or list/tuple of `ShapeDtype` instances.\n",
            " |        rng: Single-use random number generator (JAX PRNG key), or `None`;\n",
            " |            if `None`, use a default computed from an integer 0 seed.\n",
            " |        use_cache: If `True`, and if this layer instance has already been\n",
            " |            initialized elsewhere in the network, then return special marker\n",
            " |            values -- tuple `(GET_WEIGHTS_FROM_CACHE, GET_STATE_FROM_CACHE)`.\n",
            " |            Else return this layer's newly initialized weights and state.\n",
            " |      \n",
            " |      Returns:\n",
            " |        A `(weights, state)` tuple.\n",
            " |  \n",
            " |  init_from_file(self, file_name, weights_only=False, input_signature=None)\n",
            " |      Initializes this layer and its sublayers from a pickled checkpoint.\n",
            " |      \n",
            " |      In the common case (`weights_only=False`), the file must be a gziped pickled\n",
            " |      dictionary containing items with keys `'flat_weights', `'flat_state'` and\n",
            " |      `'input_signature'`, which are used to initialize this layer.\n",
            " |      If `input_signature` is specified, it's used instead of the one in the file.\n",
            " |      If `weights_only` is `True`, the dictionary does not need to have the\n",
            " |      `'flat_state'` item and the state it not restored either.\n",
            " |      \n",
            " |      Args:\n",
            " |        file_name: Name/path of the pickled weights/state file.\n",
            " |        weights_only: If `True`, initialize only the layer's weights. Else\n",
            " |            initialize both weights and state.\n",
            " |        input_signature: Input signature to be used instead of the one from file.\n",
            " |      \n",
            " |      Returns:\n",
            " |        A `(weights, state)` tuple.\n",
            " |  \n",
            " |  output_signature(self, input_signature)\n",
            " |      Returns output signature this layer would give for `input_signature`.\n",
            " |  \n",
            " |  pure_fn(self, x, weights, state, rng, use_cache=False)\n",
            " |      Applies this layer as a pure function with no optional args.\n",
            " |      \n",
            " |      This method exposes the layer's computation as a pure function. This is\n",
            " |      especially useful for JIT compilation. Do not override, use `forward`\n",
            " |      instead.\n",
            " |      \n",
            " |      Args:\n",
            " |        x: Zero or more input tensors, packaged as described in the `Layer` class\n",
            " |            docstring.\n",
            " |        weights: A tuple or list of trainable weights, with one element for this\n",
            " |            layer if this layer has no sublayers, or one for each sublayer if\n",
            " |            this layer has sublayers. If a layer (or sublayer) has no trainable\n",
            " |            weights, the corresponding weights element is an empty tuple.\n",
            " |        state: Layer-specific non-parameter state that can update between batches.\n",
            " |        rng: Single-use random number generator (JAX PRNG key).\n",
            " |        use_cache: if `True`, cache weights and state in the layer object; used\n",
            " |          to implement layer sharing in combinators.\n",
            " |      \n",
            " |      Returns:\n",
            " |        A tuple of `(tensors, state)`. The tensors match the number (`n_out`)\n",
            " |        promised by this layer, and are packaged as described in the `Layer`\n",
            " |        class docstring.\n",
            " |  \n",
            " |  save_to_file(self, file_name, weights_only=False, input_signature=None)\n",
            " |      Saves this layer and its sublayers to a pickled checkpoint.\n",
            " |      \n",
            " |      Args:\n",
            " |        file_name: Name/path of the pickled weights/state file.\n",
            " |        weights_only: If `True`, save only the layer's weights. Else\n",
            " |            save both weights and state.\n",
            " |        input_signature: Input signature to be used.\n",
            " |  \n",
            " |  weights_and_state_signature(self, input_signature, unsafe=False)\n",
            " |      Return a pair containing the signatures of weights and state.\n",
            " |  \n",
            " |  ----------------------------------------------------------------------\n",
            " |  Data descriptors inherited from trax.layers.base.Layer:\n",
            " |  \n",
            " |  __dict__\n",
            " |      dictionary for instance variables (if defined)\n",
            " |  \n",
            " |  __weakref__\n",
            " |      list of weak references to the object (if defined)\n",
            " |  \n",
            " |  has_backward\n",
            " |      Returns `True` if this layer provides its own custom backward pass code.\n",
            " |      \n",
            " |      A layer subclass that provides custom backward pass code (for custom\n",
            " |      gradients) must override this method to return `True`.\n",
            " |  \n",
            " |  n_in\n",
            " |      Returns how many tensors this layer expects as input.\n",
            " |  \n",
            " |  n_out\n",
            " |      Returns how many tensors this layer promises as output.\n",
            " |  \n",
            " |  name\n",
            " |      Returns the name of this layer.\n",
            " |  \n",
            " |  rng\n",
            " |      Returns this layer's current single-use random number generator.\n",
            " |      \n",
            " |      Code that wants to base random samples on this generator must explicitly\n",
            " |      split off new generators from it. (See, for example, the `rng` setter code\n",
            " |      below.)\n",
            " |  \n",
            " |  state\n",
            " |      Returns a tuple containing this layer's state; may be empty.\n",
            " |      \n",
            " |      If the layer has sublayers, the state by convention will be\n",
            " |      a tuple of length `len(sublayers)` containing sublayer states.\n",
            " |      Note that in this case self._state only marks which ones are shared.\n",
            " |  \n",
            " |  sublayers\n",
            " |      Returns a tuple containing this layer's sublayers; may be empty.\n",
            " |  \n",
            " |  weights\n",
            " |      Returns this layer's weights.\n",
            " |      \n",
            " |      Depending on the layer, the weights can be in the form of:\n",
            " |      \n",
            " |        - an empty tuple\n",
            " |        - a tensor (ndarray)\n",
            " |        - a nested structure of tuples and tensors\n",
            " |      \n",
            " |      If the layer has sublayers, the weights by convention will be\n",
            " |      a tuple of length `len(sublayers)` containing the weights of sublayers.\n",
            " |      Note that in this case self._weights only marks which ones are shared.\n",
            "\n"
          ]
        }
      ],
      "source": [
        "# View documentation on tl.Serial\n",
        "help(tl.Serial)"
      ]
    },
    {
      "cell_type": "markdown",
      "metadata": {
        "id": "n6PptsvwjCW3"
      },
      "source": [
        "- [tl.Embedding](https://github.com/google/trax/blob/1372b903bb66b0daccee19fd0b1fdf44f659330b/trax/layers/core.py#L113): Layer constructor function for an embedding layer.  \n",
        "    - `tl.Embedding(vocab_size, d_feature)`.\n",
        "    - `vocab_size` is the number of unique words in the given vocabulary.\n",
        "    - `d_feature` is the number of elements in the word embedding (some choices for a word embedding size range from 150 to 300, for example)."
      ]
    },
    {
      "cell_type": "code",
      "execution_count": null,
      "metadata": {
        "id": "Y5FAphBWjCW4",
        "colab": {
          "base_uri": "https://localhost:8080/"
        },
        "outputId": "742cf135-683c-4908-d6bd-8333810387f8"
      },
      "outputs": [
        {
          "output_type": "stream",
          "name": "stdout",
          "text": [
            "Help on class Embedding in module trax.layers.core:\n",
            "\n",
            "class Embedding(trax.layers.base.Layer)\n",
            " |  Embedding(vocab_size, d_feature, use_bfloat16=False, kernel_initializer=<function ScaledInitializer.<locals>.Init at 0x7fdfe969d320>)\n",
            " |  \n",
            " |  Trainable layer that maps discrete tokens/IDs to vectors.\n",
            " |  \n",
            " |  Embedding layers are commonly used to map discrete data, like words in NLP,\n",
            " |  into vectors. Here is a canonical example::\n",
            " |  \n",
            " |      vocab_size = 5\n",
            " |      word_ids = np.array([1, 2, 3, 4], dtype=np.int32)  # word_ids < vocab_size\n",
            " |      embedding_layer = tl.Embedding(vocab_size, 32)\n",
            " |      embedding_layer.init(trax.shapes.signature(word_ids))\n",
            " |      embedded = embedding_layer(word_ids)  # embedded.shape = (4, 32)\n",
            " |  \n",
            " |  Method resolution order:\n",
            " |      Embedding\n",
            " |      trax.layers.base.Layer\n",
            " |      builtins.object\n",
            " |  \n",
            " |  Methods defined here:\n",
            " |  \n",
            " |  __init__(self, vocab_size, d_feature, use_bfloat16=False, kernel_initializer=<function ScaledInitializer.<locals>.Init at 0x7fdfe969d320>)\n",
            " |      Returns an embedding layer with given vocabulary size and vector size.\n",
            " |      \n",
            " |      The layer clips input values (token IDs) to the range `[0, vocab_size)`.\n",
            " |      That is, negative token IDs all clip to `0` before being mapped to a\n",
            " |      vector, and token IDs with value `vocab_size` or greater all clip to\n",
            " |      `vocab_size - 1` before being mapped to a vector.\n",
            " |      \n",
            " |      Args:\n",
            " |        vocab_size: Size of the input vocabulary. The layer will assign a unique\n",
            " |          vector to each id in `range(vocab_size)`.\n",
            " |        d_feature: Dimensionality/depth of the output vectors.\n",
            " |        use_bfloat16: If `True`, use bfloat16 weights instead of the default\n",
            " |          float32; this can save memory but may (rarely) lead to numerical issues.\n",
            " |        kernel_initializer: Function that creates (random) initial vectors for\n",
            " |          the embedding.\n",
            " |  \n",
            " |  forward(self, x)\n",
            " |      Returns embedding vectors corresponding to input token IDs.\n",
            " |      \n",
            " |      Args:\n",
            " |        x: Tensor of token IDs.\n",
            " |      \n",
            " |      Returns:\n",
            " |        Tensor of embedding vectors.\n",
            " |  \n",
            " |  init_weights_and_state(self, input_signature)\n",
            " |      Randomly initializes this layer's weights.\n",
            " |  \n",
            " |  ----------------------------------------------------------------------\n",
            " |  Methods inherited from trax.layers.base.Layer:\n",
            " |  \n",
            " |  __call__(self, x, weights=None, state=None, rng=None)\n",
            " |      Makes layers callable; for use in tests or interactive settings.\n",
            " |      \n",
            " |      This convenience method helps library users play with, test, or otherwise\n",
            " |      probe the behavior of layers outside of a full training environment. It\n",
            " |      presents the layer as callable function from inputs to outputs, with the\n",
            " |      option of manually specifying weights and non-parameter state per individual\n",
            " |      call. For convenience, weights and non-parameter state are cached per layer\n",
            " |      instance, starting from default values of `EMPTY_WEIGHTS` and `EMPTY_STATE`,\n",
            " |      and acquiring non-empty values either by initialization or from values\n",
            " |      explicitly provided via the weights and state keyword arguments, in which\n",
            " |      case the old weights will be preserved, and the state will be updated.\n",
            " |      \n",
            " |      Args:\n",
            " |        x: Zero or more input tensors, packaged as described in the `Layer` class\n",
            " |            docstring.\n",
            " |        weights: Weights or `None`; if `None`, use self's cached weights value.\n",
            " |        state: State or `None`; if `None`, use self's cached state value.\n",
            " |        rng: Single-use random number generator (JAX PRNG key), or `None`;\n",
            " |            if `None`, use a default computed from an integer 0 seed.\n",
            " |      \n",
            " |      Returns:\n",
            " |        Zero or more output tensors, packaged as described in the `Layer` class\n",
            " |        docstring.\n",
            " |  \n",
            " |  __repr__(self)\n",
            " |      Renders this layer as a medium-detailed string, to help in debugging.\n",
            " |      \n",
            " |      Subclasses should aim for high-signal/low-noise when overriding this\n",
            " |      method.\n",
            " |      \n",
            " |      Returns:\n",
            " |        A high signal-to-noise string representing this layer.\n",
            " |  \n",
            " |  __setattr__(self, attr, value)\n",
            " |      Sets class attributes and protects from typos.\n",
            " |      \n",
            " |      In Trax layers, we only allow to set the following public attributes::\n",
            " |      \n",
            " |        - weights\n",
            " |        - state\n",
            " |        - rng\n",
            " |      \n",
            " |      This function prevents from setting other public attributes to avoid typos,\n",
            " |      for example, this is not possible and would be without this function::\n",
            " |      \n",
            " |        [typo]   layer.weighs = some_tensor\n",
            " |      \n",
            " |      If you need to set other public attributes in a derived class (which we\n",
            " |      do not recommend as in almost all cases it suffices to use a private\n",
            " |      attribute), override self._settable_attrs to include the attribute name.\n",
            " |      \n",
            " |      Args:\n",
            " |        attr: Name of the attribute to be set.\n",
            " |        value: Value to be assigned to the attribute.\n",
            " |  \n",
            " |  backward(self, inputs, output, grad, weights, state, new_state, rng)\n",
            " |      Custom backward pass to propagate gradients in a custom way.\n",
            " |      \n",
            " |      Args:\n",
            " |        inputs: Input tensors; can be a (possibly nested) tuple.\n",
            " |        output: The result of running this layer on inputs.\n",
            " |        grad: Gradient signal computed based on subsequent layers; its structure\n",
            " |            and shape must match output.\n",
            " |        weights: This layer's weights.\n",
            " |        state: This layer's state prior to the current forward pass.\n",
            " |        new_state: This layer's state after the current forward pass.\n",
            " |        rng: Single-use random number generator (JAX PRNG key).\n",
            " |      \n",
            " |      Returns:\n",
            " |        The custom gradient signal for the input. Note that we need to return\n",
            " |        a gradient for each argument of forward, so it will usually be a tuple\n",
            " |        of signals: the gradient for inputs and weights.\n",
            " |  \n",
            " |  init(self, input_signature, rng=None, use_cache=False)\n",
            " |      Initializes weights/state of this layer and its sublayers recursively.\n",
            " |      \n",
            " |      Initialization creates layer weights and state, for layers that use them.\n",
            " |      It derives the necessary array shapes and data types from the layer's input\n",
            " |      signature, which is itself just shape and data type information.\n",
            " |      \n",
            " |      For layers without weights or state, this method safely does nothing.\n",
            " |      \n",
            " |      This method is designed to create weights/state only once for each layer\n",
            " |      instance, even if the same layer instance occurs in multiple places in the\n",
            " |      network. This enables weight sharing to be implemented as layer sharing.\n",
            " |      \n",
            " |      Args:\n",
            " |        input_signature: `ShapeDtype` instance (if this layer takes one input)\n",
            " |            or list/tuple of `ShapeDtype` instances.\n",
            " |        rng: Single-use random number generator (JAX PRNG key), or `None`;\n",
            " |            if `None`, use a default computed from an integer 0 seed.\n",
            " |        use_cache: If `True`, and if this layer instance has already been\n",
            " |            initialized elsewhere in the network, then return special marker\n",
            " |            values -- tuple `(GET_WEIGHTS_FROM_CACHE, GET_STATE_FROM_CACHE)`.\n",
            " |            Else return this layer's newly initialized weights and state.\n",
            " |      \n",
            " |      Returns:\n",
            " |        A `(weights, state)` tuple.\n",
            " |  \n",
            " |  init_from_file(self, file_name, weights_only=False, input_signature=None)\n",
            " |      Initializes this layer and its sublayers from a pickled checkpoint.\n",
            " |      \n",
            " |      In the common case (`weights_only=False`), the file must be a gziped pickled\n",
            " |      dictionary containing items with keys `'flat_weights', `'flat_state'` and\n",
            " |      `'input_signature'`, which are used to initialize this layer.\n",
            " |      If `input_signature` is specified, it's used instead of the one in the file.\n",
            " |      If `weights_only` is `True`, the dictionary does not need to have the\n",
            " |      `'flat_state'` item and the state it not restored either.\n",
            " |      \n",
            " |      Args:\n",
            " |        file_name: Name/path of the pickled weights/state file.\n",
            " |        weights_only: If `True`, initialize only the layer's weights. Else\n",
            " |            initialize both weights and state.\n",
            " |        input_signature: Input signature to be used instead of the one from file.\n",
            " |      \n",
            " |      Returns:\n",
            " |        A `(weights, state)` tuple.\n",
            " |  \n",
            " |  output_signature(self, input_signature)\n",
            " |      Returns output signature this layer would give for `input_signature`.\n",
            " |  \n",
            " |  pure_fn(self, x, weights, state, rng, use_cache=False)\n",
            " |      Applies this layer as a pure function with no optional args.\n",
            " |      \n",
            " |      This method exposes the layer's computation as a pure function. This is\n",
            " |      especially useful for JIT compilation. Do not override, use `forward`\n",
            " |      instead.\n",
            " |      \n",
            " |      Args:\n",
            " |        x: Zero or more input tensors, packaged as described in the `Layer` class\n",
            " |            docstring.\n",
            " |        weights: A tuple or list of trainable weights, with one element for this\n",
            " |            layer if this layer has no sublayers, or one for each sublayer if\n",
            " |            this layer has sublayers. If a layer (or sublayer) has no trainable\n",
            " |            weights, the corresponding weights element is an empty tuple.\n",
            " |        state: Layer-specific non-parameter state that can update between batches.\n",
            " |        rng: Single-use random number generator (JAX PRNG key).\n",
            " |        use_cache: if `True`, cache weights and state in the layer object; used\n",
            " |          to implement layer sharing in combinators.\n",
            " |      \n",
            " |      Returns:\n",
            " |        A tuple of `(tensors, state)`. The tensors match the number (`n_out`)\n",
            " |        promised by this layer, and are packaged as described in the `Layer`\n",
            " |        class docstring.\n",
            " |  \n",
            " |  save_to_file(self, file_name, weights_only=False, input_signature=None)\n",
            " |      Saves this layer and its sublayers to a pickled checkpoint.\n",
            " |      \n",
            " |      Args:\n",
            " |        file_name: Name/path of the pickled weights/state file.\n",
            " |        weights_only: If `True`, save only the layer's weights. Else\n",
            " |            save both weights and state.\n",
            " |        input_signature: Input signature to be used.\n",
            " |  \n",
            " |  weights_and_state_signature(self, input_signature, unsafe=False)\n",
            " |      Return a pair containing the signatures of weights and state.\n",
            " |  \n",
            " |  ----------------------------------------------------------------------\n",
            " |  Data descriptors inherited from trax.layers.base.Layer:\n",
            " |  \n",
            " |  __dict__\n",
            " |      dictionary for instance variables (if defined)\n",
            " |  \n",
            " |  __weakref__\n",
            " |      list of weak references to the object (if defined)\n",
            " |  \n",
            " |  has_backward\n",
            " |      Returns `True` if this layer provides its own custom backward pass code.\n",
            " |      \n",
            " |      A layer subclass that provides custom backward pass code (for custom\n",
            " |      gradients) must override this method to return `True`.\n",
            " |  \n",
            " |  n_in\n",
            " |      Returns how many tensors this layer expects as input.\n",
            " |  \n",
            " |  n_out\n",
            " |      Returns how many tensors this layer promises as output.\n",
            " |  \n",
            " |  name\n",
            " |      Returns the name of this layer.\n",
            " |  \n",
            " |  rng\n",
            " |      Returns this layer's current single-use random number generator.\n",
            " |      \n",
            " |      Code that wants to base random samples on this generator must explicitly\n",
            " |      split off new generators from it. (See, for example, the `rng` setter code\n",
            " |      below.)\n",
            " |  \n",
            " |  state\n",
            " |      Returns a tuple containing this layer's state; may be empty.\n",
            " |      \n",
            " |      If the layer has sublayers, the state by convention will be\n",
            " |      a tuple of length `len(sublayers)` containing sublayer states.\n",
            " |      Note that in this case self._state only marks which ones are shared.\n",
            " |  \n",
            " |  sublayers\n",
            " |      Returns a tuple containing this layer's sublayers; may be empty.\n",
            " |  \n",
            " |  weights\n",
            " |      Returns this layer's weights.\n",
            " |      \n",
            " |      Depending on the layer, the weights can be in the form of:\n",
            " |      \n",
            " |        - an empty tuple\n",
            " |        - a tensor (ndarray)\n",
            " |        - a nested structure of tuples and tensors\n",
            " |      \n",
            " |      If the layer has sublayers, the weights by convention will be\n",
            " |      a tuple of length `len(sublayers)` containing the weights of sublayers.\n",
            " |      Note that in this case self._weights only marks which ones are shared.\n",
            "\n"
          ]
        }
      ],
      "source": [
        "# View documentation for tl.Embedding\n",
        "help(tl.Embedding)"
      ]
    },
    {
      "cell_type": "code",
      "execution_count": null,
      "metadata": {
        "id": "Bi4OhkZbjCW6",
        "colab": {
          "base_uri": "https://localhost:8080/",
          "height": 55
        },
        "outputId": "623e7acb-982b-4337-dd93-d0d00e17cb51"
      },
      "outputs": [
        {
          "output_type": "display_data",
          "data": {
            "text/plain": [
              "Embedding_3_2"
            ]
          },
          "metadata": {}
        }
      ],
      "source": [
        "tmp_embed = tl.Embedding(vocab_size=3, d_feature=2)\n",
        "display(tmp_embed)"
      ]
    },
    {
      "cell_type": "markdown",
      "metadata": {
        "id": "OD0XVH5jjCW8"
      },
      "source": [
        "- [tl.Mean](https://github.com/google/trax/blob/1372b903bb66b0daccee19fd0b1fdf44f659330b/trax/layers/core.py#L276): Calculates means across an axis.  In this case, please choose axis = 1 to get an average embedding vector (an embedding vector that is an average of all words in the vocabulary).  \n",
        "- For example, if the embedding matrix is 300 elements and vocab size is 10,000 words, taking the mean of the embedding matrix along axis=1 will yield a vector of 300 elements."
      ]
    },
    {
      "cell_type": "code",
      "execution_count": null,
      "metadata": {
        "id": "CO0uMOOmjCW8",
        "colab": {
          "base_uri": "https://localhost:8080/"
        },
        "outputId": "116afc2f-9a4c-4ebb-c48a-dc3e1f45bc64"
      },
      "outputs": [
        {
          "output_type": "stream",
          "name": "stdout",
          "text": [
            "Help on function Mean in module trax.layers.core:\n",
            "\n",
            "Mean(axis=-1, keepdims=False)\n",
            "    Returns a layer that computes mean values using one tensor axis.\n",
            "    \n",
            "    `Mean` uses one tensor axis to form groups of values and replaces each group\n",
            "    with the mean value of that group. The resulting values can either remain\n",
            "    in their own size 1 axis (`keepdims=True`), or that axis can be removed from\n",
            "    the overall tensor (default `keepdims=False`), lowering the rank of the\n",
            "    tensor by one.\n",
            "    \n",
            "    Args:\n",
            "      axis: Axis along which values are grouped for computing a mean.\n",
            "      keepdims: If `True`, keep the resulting size 1 axis as a separate tensor\n",
            "          axis; else, remove that axis.\n",
            "\n"
          ]
        }
      ],
      "source": [
        "# view the documentation for tl.mean\n",
        "help(tl.Mean)"
      ]
    },
    {
      "cell_type": "code",
      "execution_count": null,
      "metadata": {
        "id": "eSS-_d38jCW-",
        "colab": {
          "base_uri": "https://localhost:8080/",
          "height": 197
        },
        "outputId": "cc1ba0c1-9136-4718-f00b-fdb6310e178f"
      },
      "outputs": [
        {
          "output_type": "stream",
          "name": "stdout",
          "text": [
            "The mean along axis 0 creates a vector whose length equals the vocabulary size\n"
          ]
        },
        {
          "output_type": "display_data",
          "data": {
            "text/plain": [
              "DeviceArray([2.5, 3.5, 4.5], dtype=float32)"
            ]
          },
          "metadata": {}
        },
        {
          "output_type": "stream",
          "name": "stdout",
          "text": [
            "The mean along axis 1 creates a vector whose length equals the number of elements in a word embedding\n"
          ]
        },
        {
          "output_type": "display_data",
          "data": {
            "text/plain": [
              "DeviceArray([2., 5.], dtype=float32)"
            ]
          },
          "metadata": {}
        }
      ],
      "source": [
        "# Pretend the embedding matrix uses \n",
        "# 2 elements for embedding the meaning of a word\n",
        "# and has a vocabulary size of 3\n",
        "# So it has shape (2,3)\n",
        "tmp_embed = np.array([[1,2,3,],\n",
        "                    [4,5,6]\n",
        "                   ])\n",
        "\n",
        "# take the mean along axis 0\n",
        "print(\"The mean along axis 0 creates a vector whose length equals the vocabulary size\")\n",
        "display(np.mean(tmp_embed,axis=0))\n",
        "\n",
        "print(\"The mean along axis 1 creates a vector whose length equals the number of elements in a word embedding\")\n",
        "display(np.mean(tmp_embed,axis=1))"
      ]
    },
    {
      "cell_type": "markdown",
      "metadata": {
        "id": "08G5yUa_jCXE"
      },
      "source": [
        "- [tl.LogSoftmax](https://github.com/google/trax/blob/1372b903bb66b0daccee19fd0b1fdf44f659330b/trax/layers/core.py#L242): Implements log softmax function\n",
        "- Here, you don't need to set any parameters for `LogSoftMax()`."
      ]
    },
    {
      "cell_type": "code",
      "execution_count": null,
      "metadata": {
        "id": "0UsQjFrAjCXF",
        "colab": {
          "base_uri": "https://localhost:8080/"
        },
        "outputId": "46534e3d-e681-4f55-a826-8f0e0ffe9bb6"
      },
      "outputs": [
        {
          "output_type": "stream",
          "name": "stdout",
          "text": [
            "Help on function LogSoftmax in module trax.layers.core:\n",
            "\n",
            "LogSoftmax(axis=-1)\n",
            "    Returns a layer that applies log softmax along one tensor axis.\n",
            "    \n",
            "    Note that the implementation actually computes x - LogSumExp(x),\n",
            "    which is mathematically equal to LogSoftmax(x).\n",
            "    \n",
            "    `LogSoftmax` acts on a group of values and normalizes them to look like a set\n",
            "    of log probability values. (Probability values must be non-negative, and as\n",
            "    a set must sum to 1. A group of log probability values can be seen as the\n",
            "    natural logarithm function applied to a set of probability values.)\n",
            "    \n",
            "    Args:\n",
            "      axis: Axis along which values are grouped for computing log softmax.\n",
            "\n"
          ]
        }
      ],
      "source": [
        "help(tl.LogSoftmax)"
      ]
    },
    {
      "cell_type": "markdown",
      "metadata": {
        "id": "O-MoeKUqNMek"
      },
      "source": [
        "**Online documentation**\n",
        "\n",
        "- [tl.Dense](https://trax-ml.readthedocs.io/en/latest/trax.layers.html#trax.layers.core.Dense)\n",
        "\n",
        "- [tl.Serial](https://trax-ml.readthedocs.io/en/latest/trax.layers.html#module-trax.layers.combinators)\n",
        "\n",
        "- [tl.Embedding](https://trax-ml.readthedocs.io/en/latest/trax.layers.html#trax.layers.core.Embedding)\n",
        "\n",
        "- [tl.Mean](https://trax-ml.readthedocs.io/en/latest/trax.layers.html#trax.layers.core.Mean)\n",
        "\n",
        "- [tl.LogSoftmax](https://trax-ml.readthedocs.io/en/latest/trax.layers.html#trax.layers.core.LogSoftmax)"
      ]
    },
    {
      "cell_type": "markdown",
      "metadata": {
        "id": "W8ONXnJsjCXH"
      },
      "source": [
        "<a name=\"ex05\"></a>\n",
        "### Exercise 05\n",
        "Implement the classifier function. "
      ]
    },
    {
      "cell_type": "code",
      "execution_count": null,
      "metadata": {
        "id": "Wh33Hk8lgrgz"
      },
      "outputs": [],
      "source": [
        "# UNQ_C5 (UNIQUE CELL IDENTIFIER, DO NOT EDIT)\n",
        "# GRADED FUNCTION: classifier\n",
        "def classifier(vocab_size=len(Vocab), embedding_dim=256, output_dim=2, mode='train'):\n",
        "        \n",
        "### START CODE HERE (Replace instances of 'None' with your code) ###\n",
        "    # create embedding layer\n",
        "    embed_layer = tl.Embedding(\n",
        "        vocab_size=vocab_size, # Size of the vocabulary\n",
        "        d_feature=embedding_dim)  # Embedding dimension\n",
        "    \n",
        "    # Create a mean layer, to create an \"average\" word embedding\n",
        "    mean_layer = trax.layers.core.Mean(axis=1, keepdims=False)\n",
        "    \n",
        "    # Create a dense layer, one unit for each output\n",
        "    dense_output_layer = tl.Dense(n_units = output_dim)\n",
        "\n",
        "    \n",
        "    # Create the log softmax layer (no parameters needed)\n",
        "    log_softmax_layer = tl.LogSoftmax()\n",
        "    \n",
        "    # Use tl.Serial to combine all layers\n",
        "    # and create the classifier\n",
        "    # of type trax.layers.combinators.Serial\n",
        "    model = tl.Serial(\n",
        "      embed_layer, # embedding layer\n",
        "      mean_layer, # mean layer\n",
        "      dense_output_layer, # dense output layer \n",
        "      log_softmax_layer # log softmax layer\n",
        "    )\n",
        "### END CODE HERE ###     \n",
        "    \n",
        "    # return the model of type\n",
        "    return model"
      ]
    },
    {
      "cell_type": "code",
      "execution_count": null,
      "metadata": {
        "id": "OwJCu3e9jCXK"
      },
      "outputs": [],
      "source": [
        "tmp_model = classifier()"
      ]
    },
    {
      "cell_type": "code",
      "execution_count": null,
      "metadata": {
        "id": "ZsMzvK8YjCXM",
        "colab": {
          "base_uri": "https://localhost:8080/",
          "height": 233
        },
        "outputId": "b442d88e-7cba-4c72-e3d2-5dbdd82c0e7c"
      },
      "outputs": [
        {
          "output_type": "stream",
          "name": "stdout",
          "text": [
            "<class 'trax.layers.combinators.Serial'>\n"
          ]
        },
        {
          "output_type": "display_data",
          "data": {
            "text/plain": [
              "Serial[\n",
              "  Embedding_9089_256\n",
              "  Mean\n",
              "  Dense_2\n",
              "  LogSoftmax\n",
              "]"
            ]
          },
          "metadata": {}
        }
      ],
      "source": [
        "print(type(tmp_model))\n",
        "display(tmp_model)"
      ]
    },
    {
      "cell_type": "markdown",
      "metadata": {
        "id": "DV0LEuRVjCXO"
      },
      "source": [
        "##### Expected Outout\n",
        "```CPP\n",
        "<class 'trax.layers.combinators.Serial'>\n",
        "Serial[\n",
        "  Embedding_9088_256\n",
        "  Mean\n",
        "  Dense_2\n",
        "  LogSoftmax\n",
        "]\n",
        "```"
      ]
    },
    {
      "cell_type": "markdown",
      "metadata": {
        "id": "1FaugA_7grg6"
      },
      "source": [
        "<a name=\"4\"></a>\n",
        "# Part 4:  Training\n",
        "\n",
        "To train a model on a task, Trax defines an abstraction [`trax.supervised.training.TrainTask`](https://trax-ml.readthedocs.io/en/latest/trax.supervised.html#trax.supervised.training.TrainTask) which packages the train data, loss and optimizer (among other things) together into an object.\n",
        "\n",
        "Similarly to evaluate a model, Trax defines an abstraction [`trax.supervised.training.EvalTask`](https://trax-ml.readthedocs.io/en/latest/trax.supervised.html#trax.supervised.training.EvalTask) which packages the eval data and metrics (among other things) into another object.\n",
        "\n",
        "The final piece tying things together is the [`trax.supervised.training.Loop`](https://trax-ml.readthedocs.io/en/latest/trax.supervised.html#trax.supervised.training.Loop) abstraction that is a very simple and flexible way to put everything together and train the model, all the while evaluating it and saving checkpoints.\n",
        "Using `Loop` will save you a lot of code compared to always writing the training loop by hand, like you did in courses 1 and 2. More importantly, you are less likely to have a bug in that code that would ruin your training."
      ]
    },
    {
      "cell_type": "code",
      "execution_count": null,
      "metadata": {
        "id": "UGgKw03jjCXP",
        "scrolled": true
      },
      "outputs": [],
      "source": [
        "\n",
        "# View documentation for trax.supervised.training.TrainTask\n",
        "help(trax.supervised.training.TrainTask)"
      ]
    },
    {
      "cell_type": "code",
      "execution_count": null,
      "metadata": {
        "id": "Tr2MmdWDn6hV"
      },
      "outputs": [],
      "source": [
        "# View documentation for trax.supervised.training.EvalTask\n",
        "help(trax.supervised.training.EvalTask)"
      ]
    },
    {
      "cell_type": "code",
      "execution_count": null,
      "metadata": {
        "id": "XkUVMzVXn_8f"
      },
      "outputs": [],
      "source": [
        "# View documentation for trax.supervised.training.Loop\n",
        "help(trax.supervised.training.Loop)"
      ]
    },
    {
      "cell_type": "code",
      "execution_count": null,
      "metadata": {
        "id": "Ooekq1F305bt"
      },
      "outputs": [],
      "source": [
        "# View optimizers that you could choose from\n",
        "help(trax.optimizers)"
      ]
    },
    {
      "cell_type": "markdown",
      "metadata": {
        "id": "OmR3BhV41Cxs"
      },
      "source": [
        "Notice some available optimizers include:\n",
        "```CPP\n",
        "    adafactor\n",
        "    adam\n",
        "    momentum\n",
        "    rms_prop\n",
        "    sm3\n",
        "```"
      ]
    },
    {
      "cell_type": "markdown",
      "metadata": {
        "id": "HA01H6K7grg_"
      },
      "source": [
        "<a name=\"4.1\"></a>\n",
        "## 4.1  Training the model\n",
        "\n",
        "Now you are going to train your model. \n",
        "\n",
        "Let's define the `TrainTask`, `EvalTask` and `Loop` in preparation to train the model."
      ]
    },
    {
      "cell_type": "code",
      "execution_count": null,
      "metadata": {
        "id": "ogMtJgHSoiZj"
      },
      "outputs": [],
      "source": [
        "from trax.supervised import training\n",
        "\n",
        "batch_size = 16\n",
        "rnd.seed(271)\n",
        "\n",
        "train_task = training.TrainTask(\n",
        "    labeled_data=train_generator(batch_size=batch_size, shuffle=True),\n",
        "    loss_layer=tl.CrossEntropyLoss(),\n",
        "    optimizer=trax.optimizers.Adam(0.01),\n",
        "    n_steps_per_checkpoint=10,\n",
        ")\n",
        "\n",
        "eval_task = training.EvalTask(\n",
        "    labeled_data=val_generator(batch_size=batch_size, shuffle=True),\n",
        "    metrics=[tl.CrossEntropyLoss(), tl.Accuracy()],\n",
        ")\n",
        "\n",
        "model = classifier()"
      ]
    },
    {
      "cell_type": "markdown",
      "metadata": {
        "id": "R_sw8EGd0Sjk"
      },
      "source": [
        "This defines a model trained using [`tl.CrossEntropyLoss`](https://trax-ml.readthedocs.io/en/latest/trax.layers.html#trax.layers.metrics.CrossEntropyLoss) optimized with the [`trax.optimizers.Adam`](https://trax-ml.readthedocs.io/en/latest/trax.optimizers.html#trax.optimizers.adam.Adam) optimizer, all the while tracking the accuracy using [`tl.Accuracy`](https://trax-ml.readthedocs.io/en/latest/trax.layers.html#trax.layers.metrics.Accuracy) metric. We also track `tl.CrossEntropyLoss` on the validation set."
      ]
    },
    {
      "cell_type": "markdown",
      "metadata": {
        "id": "yB78IIUerIVG"
      },
      "source": [
        "Now let's make an output directory and train the model."
      ]
    },
    {
      "cell_type": "code",
      "execution_count": null,
      "metadata": {
        "id": "CNx4LnP9rMsO",
        "colab": {
          "base_uri": "https://localhost:8080/"
        },
        "outputId": "5db1ae08-fd76-405c-db3f-b61f372103f9"
      },
      "outputs": [
        {
          "output_type": "stream",
          "name": "stdout",
          "text": [
            "/root/model/\n"
          ]
        }
      ],
      "source": [
        "output_dir = '~/model/'\n",
        "output_dir_expand = os.path.expanduser(output_dir)\n",
        "print(output_dir_expand)"
      ]
    },
    {
      "cell_type": "markdown",
      "metadata": {
        "id": "e4R4EHUcrwqe"
      },
      "source": [
        "<a name=\"ex06\"></a>\n",
        "### Exercise 06\n",
        "**Instructions:** Implement `train_model` to train the model (`classifier` that you wrote earlier) for the given number of training steps (`n_steps`) using `TrainTask`, `EvalTask` and `Loop`."
      ]
    },
    {
      "cell_type": "code",
      "execution_count": null,
      "metadata": {
        "id": "tolygrj7rpFX"
      },
      "outputs": [],
      "source": [
        "# UNQ_C6 (UNIQUE CELL IDENTIFIER, DO NOT EDIT)\n",
        "# GRADED FUNCTION: train_model\n",
        "def train_model(classifier, train_task, eval_task, n_steps, output_dir):\n",
        "    '''\n",
        "    Input: \n",
        "        classifier - the model you are building\n",
        "        train_task - Training task\n",
        "        eval_task - Evaluation task\n",
        "        n_steps - the evaluation steps\n",
        "        output_dir - folder to save your files\n",
        "    Output:\n",
        "        trainer -  trax trainer\n",
        "    '''\n",
        "### START CODE HERE (Replace instances of 'None' with your code) ###\n",
        "    training_loop = training.Loop(\n",
        "                                tmp_model, # The learning model\n",
        "                                train_task, # The training task\n",
        "                                eval_tasks = eval_task, # The evaluation task\n",
        "                                output_dir = output_dir) # The output directory\n",
        "\n",
        "    training_loop.run(n_steps = n_steps)\n",
        "### END CODE HERE ###\n",
        "\n",
        "    # Return the training_loop, since it has the model.\n",
        "    return training_loop"
      ]
    },
    {
      "cell_type": "code",
      "execution_count": null,
      "metadata": {
        "id": "d-AtiqAYs_rH",
        "colab": {
          "base_uri": "https://localhost:8080/"
        },
        "outputId": "600fc5ee-c99a-4980-d295-bf76f330f891"
      },
      "outputs": [
        {
          "output_type": "stream",
          "name": "stderr",
          "text": [
            "/usr/local/lib/python3.7/dist-packages/jax/_src/lib/xla_bridge.py:558: UserWarning: jax.host_count has been renamed to jax.process_count. This alias will eventually be removed; please update your code.\n",
            "  \"jax.host_count has been renamed to jax.process_count. This alias \"\n"
          ]
        },
        {
          "output_type": "stream",
          "name": "stdout",
          "text": [
            "\n",
            "Step      1: Total number of trainable weights: 2327298\n",
            "Step      1: Ran 1 train steps in 1.33 secs\n",
            "Step      1: train CrossEntropyLoss |  0.69416755\n",
            "Step      1: eval  CrossEntropyLoss |  0.67968547\n",
            "Step      1: eval          Accuracy |  0.56250000\n",
            "\n",
            "Step     10: Ran 9 train steps in 4.26 secs\n",
            "Step     10: train CrossEntropyLoss |  0.63878763\n",
            "Step     10: eval  CrossEntropyLoss |  0.58523566\n",
            "Step     10: eval          Accuracy |  0.68750000\n",
            "\n",
            "Step     20: Ran 10 train steps in 2.58 secs\n",
            "Step     20: train CrossEntropyLoss |  0.43270269\n",
            "Step     20: eval  CrossEntropyLoss |  0.26512608\n",
            "Step     20: eval          Accuracy |  1.00000000\n",
            "\n",
            "Step     30: Ran 10 train steps in 2.05 secs\n",
            "Step     30: train CrossEntropyLoss |  0.21155831\n",
            "Step     30: eval  CrossEntropyLoss |  0.13143605\n",
            "Step     30: eval          Accuracy |  1.00000000\n",
            "\n",
            "Step     40: Ran 10 train steps in 1.56 secs\n",
            "Step     40: train CrossEntropyLoss |  0.14225218\n",
            "Step     40: eval  CrossEntropyLoss |  0.09926607\n",
            "Step     40: eval          Accuracy |  1.00000000\n",
            "\n",
            "Step     50: Ran 10 train steps in 1.00 secs\n",
            "Step     50: train CrossEntropyLoss |  0.05220751\n",
            "Step     50: eval  CrossEntropyLoss |  0.11580636\n",
            "Step     50: eval          Accuracy |  0.93750000\n",
            "\n",
            "Step     60: Ran 10 train steps in 1.57 secs\n",
            "Step     60: train CrossEntropyLoss |  0.06728415\n",
            "Step     60: eval  CrossEntropyLoss |  0.02446042\n",
            "Step     60: eval          Accuracy |  1.00000000\n",
            "\n",
            "Step     70: Ran 10 train steps in 1.02 secs\n",
            "Step     70: train CrossEntropyLoss |  0.04635468\n",
            "Step     70: eval  CrossEntropyLoss |  0.00602017\n",
            "Step     70: eval          Accuracy |  1.00000000\n",
            "\n",
            "Step     80: Ran 10 train steps in 1.05 secs\n",
            "Step     80: train CrossEntropyLoss |  0.05150698\n",
            "Step     80: eval  CrossEntropyLoss |  0.00243139\n",
            "Step     80: eval          Accuracy |  1.00000000\n",
            "\n",
            "Step     90: Ran 10 train steps in 1.07 secs\n",
            "Step     90: train CrossEntropyLoss |  0.02594832\n",
            "Step     90: eval  CrossEntropyLoss |  0.00071669\n",
            "Step     90: eval          Accuracy |  1.00000000\n",
            "\n",
            "Step    100: Ran 10 train steps in 1.10 secs\n",
            "Step    100: train CrossEntropyLoss |  0.01028152\n",
            "Step    100: eval  CrossEntropyLoss |  0.00007072\n",
            "Step    100: eval          Accuracy |  1.00000000\n"
          ]
        }
      ],
      "source": [
        "training_loop = train_model(model, train_task, eval_task, 100, output_dir_expand)"
      ]
    },
    {
      "cell_type": "markdown",
      "metadata": {
        "id": "Wxn24gyx1Xpd"
      },
      "source": [
        "##### Expected output (Approximately)\n",
        "```CPP\n",
        "Step      1: train CrossEntropyLoss |  0.88939196\n",
        "Step      1: eval  CrossEntropyLoss |  0.68833977\n",
        "Step      1: eval          Accuracy |  0.50000000\n",
        "Step     10: train CrossEntropyLoss |  0.61036736\n",
        "Step     10: eval  CrossEntropyLoss |  0.52182281\n",
        "Step     10: eval          Accuracy |  0.68750000\n",
        "Step     20: train CrossEntropyLoss |  0.34137666\n",
        "Step     20: eval  CrossEntropyLoss |  0.20654774\n",
        "Step     20: eval          Accuracy |  1.00000000\n",
        "Step     30: train CrossEntropyLoss |  0.20208922\n",
        "Step     30: eval  CrossEntropyLoss |  0.21594886\n",
        "Step     30: eval          Accuracy |  0.93750000\n",
        "Step     40: train CrossEntropyLoss |  0.19611198\n",
        "Step     40: eval  CrossEntropyLoss |  0.17582777\n",
        "Step     40: eval          Accuracy |  1.00000000\n",
        "Step     50: train CrossEntropyLoss |  0.11203773\n",
        "Step     50: eval  CrossEntropyLoss |  0.07589275\n",
        "Step     50: eval          Accuracy |  1.00000000\n",
        "Step     60: train CrossEntropyLoss |  0.09375446\n",
        "Step     60: eval  CrossEntropyLoss |  0.09290724\n",
        "Step     60: eval          Accuracy |  1.00000000\n",
        "Step     70: train CrossEntropyLoss |  0.08785903\n",
        "Step     70: eval  CrossEntropyLoss |  0.09610598\n",
        "Step     70: eval          Accuracy |  1.00000000\n",
        "Step     80: train CrossEntropyLoss |  0.08858261\n",
        "Step     80: eval  CrossEntropyLoss |  0.02319432\n",
        "Step     80: eval          Accuracy |  1.00000000\n",
        "Step     90: train CrossEntropyLoss |  0.05699894\n",
        "Step     90: eval  CrossEntropyLoss |  0.01778970\n",
        "Step     90: eval          Accuracy |  1.00000000\n",
        "Step    100: train CrossEntropyLoss |  0.03663783\n",
        "Step    100: eval  CrossEntropyLoss |  0.00210550\n",
        "Step    100: eval          Accuracy |  1.00000000\n",
        "```"
      ]
    },
    {
      "cell_type": "markdown",
      "metadata": {
        "id": "KVMcsw2kjCX9"
      },
      "source": [
        "<a name=\"4.2\"></a>\n",
        "## 4.2  Practice Making a prediction\n",
        "\n",
        "Now that you have trained a model, you can access it as `training_loop.model` object. We will actually use `training_loop.eval_model` and in the next weeks you will learn why we sometimes use a different model for evaluation, e.g., one without dropout. For now, make predictions with your model.\n",
        "\n",
        "Use the training data just to see how the prediction process works.  \n",
        "- Later, you will use validation data to evaluate your model's performance.\n"
      ]
    },
    {
      "cell_type": "code",
      "execution_count": null,
      "metadata": {
        "id": "WAMgXWY4jCX-",
        "colab": {
          "base_uri": "https://localhost:8080/"
        },
        "outputId": "82c3e7ee-6d8c-4c07-861b-b54815ef2baa"
      },
      "outputs": [
        {
          "output_type": "stream",
          "name": "stdout",
          "text": [
            "The batch is a tuple of length 3 because position 0 contains the tweets, and position 1 contains the targets.\n",
            "The shape of the tweet tensors is (16, 15) (num of examples, length of tweet tensors)\n",
            "The shape of the labels is (16,), which is the batch size.\n",
            "The shape of the example_weights is (16,), which is the same as inputs/targets size.\n"
          ]
        }
      ],
      "source": [
        "# Create a generator object\n",
        "tmp_train_generator = train_generator(16)\n",
        "\n",
        "# get one batch\n",
        "tmp_batch = next(tmp_train_generator)\n",
        "\n",
        "# Position 0 has the model inputs (tweets as tensors)\n",
        "# position 1 has the targets (the actual labels)\n",
        "tmp_inputs, tmp_targets, tmp_example_weights = tmp_batch\n",
        "\n",
        "print(f\"The batch is a tuple of length {len(tmp_batch)} because position 0 contains the tweets, and position 1 contains the targets.\") \n",
        "print(f\"The shape of the tweet tensors is {tmp_inputs.shape} (num of examples, length of tweet tensors)\")\n",
        "print(f\"The shape of the labels is {tmp_targets.shape}, which is the batch size.\")\n",
        "print(f\"The shape of the example_weights is {tmp_example_weights.shape}, which is the same as inputs/targets size.\")"
      ]
    },
    {
      "cell_type": "code",
      "execution_count": null,
      "metadata": {
        "id": "5XoxD6u5jCX_",
        "colab": {
          "base_uri": "https://localhost:8080/"
        },
        "outputId": "e7177674-dea1-4923-904c-c0181c7340c3"
      },
      "outputs": [
        {
          "output_type": "stream",
          "name": "stdout",
          "text": [
            "The prediction shape is (16, 2), num of tensor_tweets as rows\n",
            "Column 0 is the probability of a negative sentiment (class 0)\n",
            "Column 1 is the probability of a positive sentiment (class 1)\n",
            "\n",
            "View the prediction array\n"
          ]
        },
        {
          "output_type": "execute_result",
          "data": {
            "text/plain": [
              "DeviceArray([[-8.4210329e+00, -2.2029877e-04],\n",
              "             [-9.3979092e+00, -8.2969666e-05],\n",
              "             [-8.4330921e+00, -2.1743774e-04],\n",
              "             [-8.4674730e+00, -2.1028519e-04],\n",
              "             [-6.2396340e+00, -1.9524097e-03],\n",
              "             [-7.7542934e+00, -4.2891502e-04],\n",
              "             [-8.7089996e+00, -1.6498566e-04],\n",
              "             [-5.1348877e+00, -5.9051514e-03],\n",
              "             [-2.1095276e-03, -6.1623936e+00],\n",
              "             [-2.7861595e-03, -5.8844867e+00],\n",
              "             [-4.1294098e-04, -7.7925215e+00],\n",
              "             [-4.7683716e-07, -1.4782640e+01],\n",
              "             [-9.0737343e-03, -4.7068968e+00],\n",
              "             [-1.1041164e-03, -6.8092375e+00],\n",
              "             [-2.2165775e-03, -6.1129394e+00],\n",
              "             [-6.6494942e-04, -7.3160663e+00]], dtype=float32)"
            ]
          },
          "metadata": {},
          "execution_count": 42
        }
      ],
      "source": [
        "# feed the tweet tensors into the model to get a prediction\n",
        "tmp_pred = training_loop.eval_model(tmp_inputs)\n",
        "print(f\"The prediction shape is {tmp_pred.shape}, num of tensor_tweets as rows\")\n",
        "print(\"Column 0 is the probability of a negative sentiment (class 0)\")\n",
        "print(\"Column 1 is the probability of a positive sentiment (class 1)\")\n",
        "print()\n",
        "print(\"View the prediction array\")\n",
        "tmp_pred"
      ]
    },
    {
      "cell_type": "markdown",
      "metadata": {
        "id": "0aJpFcyljCYB"
      },
      "source": [
        "To turn these probabilities into categories (negative or positive sentiment prediction), for each row:\n",
        "- Compare the probabilities in each column.\n",
        "- If column 1 has a value greater than column 0, classify that as a positive tweet.\n",
        "- Otherwise if column 1 is less than or equal to column 0, classify that example as a negative tweet."
      ]
    },
    {
      "cell_type": "code",
      "execution_count": null,
      "metadata": {
        "id": "6wJHv0TNjCYC",
        "colab": {
          "base_uri": "https://localhost:8080/"
        },
        "outputId": "0ac309c3-5568-4824-8b2e-05fc854eecc5"
      },
      "outputs": [
        {
          "output_type": "stream",
          "name": "stdout",
          "text": [
            "Neg log prob -8.4210\tPos log prob -0.0002\t is positive? True\t actual 1\n",
            "Neg log prob -9.3979\tPos log prob -0.0001\t is positive? True\t actual 1\n",
            "Neg log prob -8.4331\tPos log prob -0.0002\t is positive? True\t actual 1\n",
            "Neg log prob -8.4675\tPos log prob -0.0002\t is positive? True\t actual 1\n",
            "Neg log prob -6.2396\tPos log prob -0.0020\t is positive? True\t actual 1\n",
            "Neg log prob -7.7543\tPos log prob -0.0004\t is positive? True\t actual 1\n",
            "Neg log prob -8.7090\tPos log prob -0.0002\t is positive? True\t actual 1\n",
            "Neg log prob -5.1349\tPos log prob -0.0059\t is positive? True\t actual 1\n",
            "Neg log prob -0.0021\tPos log prob -6.1624\t is positive? False\t actual 0\n",
            "Neg log prob -0.0028\tPos log prob -5.8845\t is positive? False\t actual 0\n",
            "Neg log prob -0.0004\tPos log prob -7.7925\t is positive? False\t actual 0\n",
            "Neg log prob -0.0000\tPos log prob -14.7826\t is positive? False\t actual 0\n",
            "Neg log prob -0.0091\tPos log prob -4.7069\t is positive? False\t actual 0\n",
            "Neg log prob -0.0011\tPos log prob -6.8092\t is positive? False\t actual 0\n",
            "Neg log prob -0.0022\tPos log prob -6.1129\t is positive? False\t actual 0\n",
            "Neg log prob -0.0007\tPos log prob -7.3161\t is positive? False\t actual 0\n"
          ]
        }
      ],
      "source": [
        "# turn probabilites into category predictions\n",
        "tmp_is_positive = tmp_pred[:,1] > tmp_pred[:,0]\n",
        "for i, p in enumerate(tmp_is_positive):\n",
        "    print(f\"Neg log prob {tmp_pred[i,0]:.4f}\\tPos log prob {tmp_pred[i,1]:.4f}\\t is positive? {p}\\t actual {tmp_targets[i]}\")"
      ]
    },
    {
      "cell_type": "markdown",
      "metadata": {
        "id": "TywSi02cjCYF"
      },
      "source": [
        "Notice that since you are making a prediction using a training batch, it's more likely that the model's predictions match the actual targets (labels).  \n",
        "- Every prediction that the tweet is positive is also matching the actual target of 1 (positive sentiment).\n",
        "- Similarly, all predictions that the sentiment is not positive matches the actual target of 0 (negative sentiment)"
      ]
    },
    {
      "cell_type": "markdown",
      "metadata": {
        "id": "N6X_0K_EjCYF"
      },
      "source": [
        "One more useful thing to know is how to compare if the prediction is matching the actual target (label).  \n",
        "- The result of calculation `is_positive` is a boolean.\n",
        "- The target is a type trax.fastmath.numpy.int32\n",
        "- If you expect to be doing division, you may prefer to work with decimal numbers with the data type type trax.fastmath.numpy.int32"
      ]
    },
    {
      "cell_type": "code",
      "execution_count": null,
      "metadata": {
        "id": "CQgx_ar9jCYG",
        "colab": {
          "base_uri": "https://localhost:8080/",
          "height": 159
        },
        "outputId": "79e6f1e7-6b5d-464d-9da4-10c4c5290fbd"
      },
      "outputs": [
        {
          "output_type": "stream",
          "name": "stdout",
          "text": [
            "Array of booleans\n"
          ]
        },
        {
          "output_type": "display_data",
          "data": {
            "text/plain": [
              "DeviceArray([ True,  True,  True,  True,  True,  True,  True,  True,\n",
              "             False, False, False, False, False, False, False, False],            dtype=bool)"
            ]
          },
          "metadata": {}
        },
        {
          "output_type": "stream",
          "name": "stdout",
          "text": [
            "Array of integers\n"
          ]
        },
        {
          "output_type": "display_data",
          "data": {
            "text/plain": [
              "DeviceArray([1, 1, 1, 1, 1, 1, 1, 1, 0, 0, 0, 0, 0, 0, 0, 0], dtype=int32)"
            ]
          },
          "metadata": {}
        },
        {
          "output_type": "stream",
          "name": "stdout",
          "text": [
            "Array of floats\n"
          ]
        },
        {
          "output_type": "display_data",
          "data": {
            "text/plain": [
              "DeviceArray([1., 1., 1., 1., 1., 1., 1., 1., 0., 0., 0., 0., 0., 0., 0.,\n",
              "             0.], dtype=float32)"
            ]
          },
          "metadata": {}
        }
      ],
      "source": [
        "# View the array of booleans\n",
        "print(\"Array of booleans\")\n",
        "display(tmp_is_positive)\n",
        "\n",
        "# convert boolean to type int32\n",
        "# True is converted to 1\n",
        "# False is converted to 0\n",
        "tmp_is_positive_int = tmp_is_positive.astype(np.int32)\n",
        "\n",
        "\n",
        "# View the array of integers\n",
        "print(\"Array of integers\")\n",
        "display(tmp_is_positive_int)\n",
        "\n",
        "# convert boolean to type float32\n",
        "tmp_is_positive_float = tmp_is_positive.astype(np.float32)\n",
        "\n",
        "# View the array of floats\n",
        "print(\"Array of floats\")\n",
        "display(tmp_is_positive_float)"
      ]
    },
    {
      "cell_type": "code",
      "execution_count": null,
      "metadata": {
        "id": "O_GmTvaTjCYH",
        "colab": {
          "base_uri": "https://localhost:8080/"
        },
        "outputId": "c23fc7e2-4a26-4d22-daad-8787fdb95ef5"
      },
      "outputs": [
        {
          "output_type": "execute_result",
          "data": {
            "text/plain": [
              "(16, 2)"
            ]
          },
          "metadata": {},
          "execution_count": 45
        }
      ],
      "source": [
        "tmp_pred.shape"
      ]
    },
    {
      "cell_type": "markdown",
      "metadata": {
        "id": "8gJ3n4UljCYJ"
      },
      "source": [
        "Note that Python usually does type conversion for you when you compare a boolean to an integer\n",
        "- True compared to 1 is True, otherwise any other integer is False.\n",
        "- False compared to 0 is True, otherwise any ohter integer is False."
      ]
    },
    {
      "cell_type": "code",
      "execution_count": null,
      "metadata": {
        "id": "GbKFCf0njCYJ",
        "colab": {
          "base_uri": "https://localhost:8080/"
        },
        "outputId": "2fabef70-a04f-4735-f84b-67530378a089"
      },
      "outputs": [
        {
          "output_type": "stream",
          "name": "stdout",
          "text": [
            "True == 1: True\n",
            "True == 2: False\n",
            "False == 0: True\n",
            "False == 2: False\n"
          ]
        }
      ],
      "source": [
        "print(f\"True == 1: {True == 1}\")\n",
        "print(f\"True == 2: {True == 2}\")\n",
        "print(f\"False == 0: {False == 0}\")\n",
        "print(f\"False == 2: {False == 2}\")"
      ]
    },
    {
      "cell_type": "markdown",
      "metadata": {
        "id": "Jh5XfviCjCYK"
      },
      "source": [
        "However, we recommend that you keep track of the data type of your variables to avoid unexpected outcomes.  So it helps to convert the booleans into integers\n",
        "- Compare 1 to 1 rather than comparing True to 1."
      ]
    },
    {
      "cell_type": "markdown",
      "metadata": {
        "id": "37PNk6IzjCYL"
      },
      "source": [
        "Hopefully you are now familiar with what kinds of inputs and outputs the model uses when making a prediction.\n",
        "- This will help you implement a function that estimates the accuracy of the model's predictions."
      ]
    },
    {
      "cell_type": "markdown",
      "metadata": {
        "id": "fRRrgOHJgrhI"
      },
      "source": [
        "<a name=\"5\"></a>\n",
        "# Part 5:  Evaluation  \n",
        "\n",
        "<a name=\"5.1\"></a>\n",
        "## 5.1  Computing the accuracy on a batch\n",
        "\n",
        "You will now write a function that evaluates your model on the validation set and returns the accuracy. \n",
        "- `preds` contains the predictions.\n",
        "    - Its dimensions are `(batch_size, output_dim)`.  `output_dim` is two in this case.  Column 0 contains the probability that the tweet belongs to class 0 (negative sentiment). Column 1 contains probability that it belongs to class 1 (positive sentiment).\n",
        "    - If the probability in column 1 is greater than the probability in column 0, then interpret this as the model's prediction that the example has label 1 (positive sentiment).  \n",
        "    - Otherwise, if the probabilities are equal or the probability in column 0 is higher, the model's prediction is 0 (negative sentiment).\n",
        "- `y` contains the actual labels.\n",
        "- `y_weights` contains the weights to give to predictions."
      ]
    },
    {
      "cell_type": "markdown",
      "metadata": {
        "id": "2hdfk3LEjCYL"
      },
      "source": [
        "<a name=\"ex07\"></a>\n",
        "### Exercise 07\n",
        "Implement `compute_accuracy`."
      ]
    },
    {
      "cell_type": "code",
      "execution_count": null,
      "metadata": {
        "id": "WBqaN5f9grhJ"
      },
      "outputs": [],
      "source": [
        "# UNQ_C7 (UNIQUE CELL IDENTIFIER, DO NOT EDIT)\n",
        "# GRADED FUNCTION: compute_accuracy\n",
        "\n",
        "def compute_accuracy(preds, y, y_weights):\n",
        "    \"\"\"\n",
        "    Input: \n",
        "        preds: a tensor of shape (dim_batch, output_dim) \n",
        "        y: a tensor of shape (dim_batch, output_dim) with the true labels\n",
        "        y_weights: a n.ndarray with the a weight for each example\n",
        "    Output: \n",
        "        accuracy: a float between 0-1 \n",
        "        weighted_num_correct (np.float32): Sum of the weighted correct predictions\n",
        "        sum_weights (np.float32): Sum of the weights\n",
        "    \"\"\"\n",
        "    ### START CODE HERE (Replace instances of 'None' with your code) ###\n",
        "    # Create an array of booleans, \n",
        "    # True if the probability of positive sentiment is greater than\n",
        "    # the probability of negative sentiment\n",
        "    # else False\n",
        "    is_pos =  preds[:,1] > preds[:,0]\n",
        "\n",
        "    # convert the array of booleans into an array of np.int32\n",
        "    is_pos_int = is_pos.astype(np.int32)\n",
        "    \n",
        "    # compare the array of predictions (as int32) with the target (labels) of type int32\n",
        "    correct = is_pos_int==y\n",
        "\n",
        "    # Count the sum of the weights.\n",
        "    sum_weights = np.sum(y_weights)\n",
        "    \n",
        "    # convert the array of correct predictions (boolean) into an arrayof np.float32\n",
        "    correct_float = correct.astype(np.float32)\n",
        "    \n",
        "    # Multiply each prediction with its corresponding weight.\n",
        "    weighted_correct_float = correct_float * y_weights\n",
        "\n",
        "    # Sum up the weighted correct predictions (of type np.float32), to go in the\n",
        "    # denominator.\n",
        "    weighted_num_correct = np.sum(weighted_correct_float)\n",
        " \n",
        "    # Divide the number of weighted correct predictions by the sum of the\n",
        "    # weights.\n",
        "    accuracy = weighted_num_correct / sum_weights\n",
        "\n",
        "    ### END CODE HERE ###\n",
        "    return accuracy, weighted_num_correct, sum_weights"
      ]
    },
    {
      "cell_type": "code",
      "execution_count": null,
      "metadata": {
        "id": "1c7ZOeO0jCYN",
        "colab": {
          "base_uri": "https://localhost:8080/"
        },
        "outputId": "ea865cf3-65f5-4834-833b-ba8d43ecafd8"
      },
      "outputs": [
        {
          "output_type": "stream",
          "name": "stdout",
          "text": [
            "Model's prediction accuracy on a single training batch is: 100.0%\n",
            "Weighted number of correct predictions 64.0; weighted number of total observations predicted 64\n"
          ]
        }
      ],
      "source": [
        "# test your function\n",
        "tmp_val_generator = val_generator(64)\n",
        "\n",
        "# get one batch\n",
        "tmp_batch = next(tmp_val_generator)\n",
        "\n",
        "# Position 0 has the model inputs (tweets as tensors)\n",
        "# position 1 has the targets (the actual labels)\n",
        "tmp_inputs, tmp_targets, tmp_example_weights = tmp_batch\n",
        "\n",
        "# feed the tweet tensors into the model to get a prediction\n",
        "tmp_pred = training_loop.eval_model(tmp_inputs)\n",
        "\n",
        "tmp_acc, tmp_num_correct, tmp_num_predictions = compute_accuracy(preds=tmp_pred, y=tmp_targets, y_weights=tmp_example_weights)\n",
        "\n",
        "print(f\"Model's prediction accuracy on a single training batch is: {100 * tmp_acc}%\")\n",
        "print(f\"Weighted number of correct predictions {tmp_num_correct}; weighted number of total observations predicted {tmp_num_predictions}\")"
      ]
    },
    {
      "cell_type": "markdown",
      "metadata": {
        "id": "h2ep7nNejCYP"
      },
      "source": [
        "##### Expected output (Approximately)\n",
        "\n",
        "```\n",
        "Model's prediction accuracy on a single training batch is: 100.0%\n",
        "Weighted number of correct predictions 64.0; weighted number of total observations predicted 64\n",
        "```"
      ]
    },
    {
      "cell_type": "markdown",
      "metadata": {
        "id": "dqle69F1grhM"
      },
      "source": [
        "<a name=\"5.2\"></a>\n",
        "## 5.2  Testing your model on Validation Data\n",
        "\n",
        "Now you will write test your model's prediction accuracy on validation data. \n",
        "\n",
        "This program will take in a data generator and your model. \n",
        "- The generator allows you to get batches of data. You can use it with a `for` loop:\n",
        "\n",
        "```\n",
        "for batch in iterator: \n",
        "   # do something with that batch\n",
        "```\n",
        "\n",
        "`batch` has dimensions `(X, Y, weights)`. \n",
        "- Column 0 corresponds to the tweet as a tensor (input).\n",
        "- Column 1 corresponds to its target (actual label, positive or negative sentiment).\n",
        "- Column 2 corresponds to the weights associated (example weights)\n",
        "- You can feed the tweet into model and it will return the predictions for the batch. \n"
      ]
    },
    {
      "cell_type": "markdown",
      "metadata": {
        "id": "1zwYl_f9jCYP"
      },
      "source": [
        "<a name=\"ex08\"></a>\n",
        "### Exercise 08\n",
        "\n",
        "**Instructions:** \n",
        "- Compute the accuracy over all the batches in the validation iterator. \n",
        "- Make use of `compute_accuracy`, which you recently implemented, and return the overall accuracy."
      ]
    },
    {
      "cell_type": "code",
      "execution_count": null,
      "metadata": {
        "id": "HKoTad4ggrhN"
      },
      "outputs": [],
      "source": [
        "# UNQ_C8 (UNIQUE CELL IDENTIFIER, DO NOT EDIT)\n",
        "# GRADED FUNCTION: test_model\n",
        "def test_model(generator, model):\n",
        "    '''\n",
        "    Input: \n",
        "        generator: an iterator instance that provides batches of inputs and targets\n",
        "        model: a model instance \n",
        "    Output: \n",
        "        accuracy: float corresponding to the accuracy\n",
        "    '''\n",
        "    \n",
        "    accuracy = 0.\n",
        "    total_num_correct = 0\n",
        "    total_num_pred = 0\n",
        "    \n",
        "    ### START CODE HERE (Replace instances of 'None' with your code) ###\n",
        "    for batch in generator: \n",
        "        \n",
        "        # Retrieve the inputs from the batch\n",
        "        #tmp_inputs, tmp_targets, tmp_example_weights\n",
        "        inputs = batch[0]\n",
        "        \n",
        "        # Retrieve the targets (actual labels) from the batch\n",
        "        targets = batch[1]\n",
        "        \n",
        "        # Retrieve the example weight.\n",
        "        example_weight = batch[2]\n",
        "\n",
        "        # Make predictions using the inputs\n",
        "        pred = model.eval_model(inputs)\n",
        "        \n",
        "        # Calculate accuracy for the batch by comparing its predictions and targets\n",
        "        batch_accuracy, batch_num_correct, batch_num_pred = compute_accuracy(pred, targets, example_weight)\n",
        "        \n",
        "        # Update the total number of correct predictions\n",
        "        # by adding the number of correct predictions from this batch\n",
        "        total_num_correct += batch_num_correct\n",
        "        \n",
        "        # Update the total number of predictions \n",
        "        # by adding the number of predictions made for the batch\n",
        "        total_num_pred += batch_num_pred\n",
        "\n",
        "    # Calculate accuracy over all examples\n",
        "    accuracy = total_num_correct/total_num_pred\n",
        "    \n",
        "    ### END CODE HERE ###\n",
        "    return accuracy"
      ]
    },
    {
      "cell_type": "code",
      "execution_count": null,
      "metadata": {
        "id": "1Rm_k21XgrhQ",
        "colab": {
          "base_uri": "https://localhost:8080/"
        },
        "outputId": "2c47ea6a-abf8-4aea-b1b2-030951015676"
      },
      "outputs": [
        {
          "output_type": "stream",
          "name": "stdout",
          "text": [
            "The accuracy of your model on the validation set is 0.9950\n"
          ]
        }
      ],
      "source": [
        "# DO NOT EDIT THIS CELL\n",
        "# testing the accuracy of your model: this takes around 20 seconds\n",
        "model = training_loop\n",
        "accuracy = test_model(test_generator(16), model)\n",
        "\n",
        "print(f'The accuracy of your model on the validation set is {accuracy:.4f}', )"
      ]
    },
    {
      "cell_type": "markdown",
      "metadata": {
        "id": "esUJRMQPgrhS"
      },
      "source": [
        "##### Expected Output (Approximately)\n",
        "\n",
        "```CPP\n",
        "The accuracy of your model on the validation set is 0.9931\n",
        "```"
      ]
    },
    {
      "cell_type": "markdown",
      "metadata": {
        "id": "Mct4P9QZgrhT"
      },
      "source": [
        "<a name=\"6\"></a>\n",
        "# Part 6:  Testing with your own input\n",
        "\n",
        "Finally you will test with your own input. You will see that deepnets are more powerful than the older methods you have used before. Although you go close to 100% accuracy on the first two assignments, the task was way easier. "
      ]
    },
    {
      "cell_type": "code",
      "execution_count": null,
      "metadata": {
        "id": "SUq5cw-xgrhU"
      },
      "outputs": [],
      "source": [
        "# this is used to predict on your own sentnece\n",
        "def predict(sentence):\n",
        "    inputs = np.array(tweet_to_tensor(sentence, vocab_dict=Vocab))\n",
        "    \n",
        "    # Batch size 1, add dimension for batch, to work with the model\n",
        "    inputs = inputs[None, :]  \n",
        "    \n",
        "    # predict with the model\n",
        "    preds_probs = model.eval_model(inputs)\n",
        "    \n",
        "    # Turn probabilities into categories\n",
        "    preds = int(preds_probs[0, 1] > preds_probs[0, 0])\n",
        "    \n",
        "    sentiment = \"negative\"\n",
        "    if preds == 1:\n",
        "        sentiment = 'positive'\n",
        "\n",
        "    return preds, sentiment\n"
      ]
    },
    {
      "cell_type": "code",
      "execution_count": null,
      "metadata": {
        "id": "3RJntC57grhX",
        "colab": {
          "base_uri": "https://localhost:8080/"
        },
        "outputId": "d0edbd54-5f70-425f-9c92-6ed564e7baa7"
      },
      "outputs": [
        {
          "output_type": "stream",
          "name": "stdout",
          "text": [
            "The sentiment of the sentence \n",
            "***\n",
            "\"It's such a nice day, think i'll be taking Sid to Ramsgate fish and chips for lunch at Peter's fish factory and then the beach maybe\"\n",
            "***\n",
            "is positive.\n",
            "\n",
            "The sentiment of the sentence \n",
            "***\n",
            "\"I hated my day, it was the worst, I'm so sad.\"\n",
            "***\n",
            "is negative.\n",
            "The sentiment of the sentence \n",
            "***\n",
            "\"I hated such a lovely day!, I can't stand it\"\n",
            "***\n",
            "is negative.\n"
          ]
        }
      ],
      "source": [
        "# try a positive sentence\n",
        "sentence = \"It's such a nice day, think i'll be taking Sid to Ramsgate fish and chips for lunch at Peter's fish factory and then the beach maybe\"\n",
        "tmp_pred, tmp_sentiment = predict(sentence)\n",
        "print(f\"The sentiment of the sentence \\n***\\n\\\"{sentence}\\\"\\n***\\nis {tmp_sentiment}.\")\n",
        "\n",
        "print()\n",
        "# try a negative sentence\n",
        "sentence = \"I hated my day, it was the worst, I'm so sad.\"\n",
        "tmp_pred, tmp_sentiment = predict(sentence)\n",
        "print(f\"The sentiment of the sentence \\n***\\n\\\"{sentence}\\\"\\n***\\nis {tmp_sentiment}.\")\n",
        "\n",
        "sentence = \"I hated such a lovely day!, I can't stand it\"\n",
        "tmp_pred, tmp_sentiment = predict(sentence)\n",
        "print(f\"The sentiment of the sentence \\n***\\n\\\"{sentence}\\\"\\n***\\nis {tmp_sentiment}.\")"
      ]
    },
    {
      "cell_type": "markdown",
      "metadata": {
        "id": "nZmGCheXjCYX"
      },
      "source": [
        "Notice that the model works well even for complex sentences."
      ]
    },
    {
      "cell_type": "markdown",
      "metadata": {
        "id": "mNg0fAYIgrhd"
      },
      "source": [
        "### On Deep Nets\n",
        "\n",
        "Deep nets allow you to understand and capture dependencies that you would have not been able to capture with a simple linear regression, or logistic regression. \n",
        "- It also allows you to better use pre-trained embeddings for classification and tends to generalize better."
      ]
    }
  ],
  "metadata": {
    "colab": {
      "collapsed_sections": [
        "IOK4n9JEjCVs",
        "CZ8RUynQsktn",
        "ac4D5WSUAVub",
        "0x8pND8tAVuf",
        "QtQhtv0kjCWQ",
        "s0MbWVeijCWW",
        "sR-sF_o0jCWa",
        "cCTl7w1kjCWj",
        "X591GrH_stXq",
        "TcWUXFaPzS-m",
        "niL6mIuBAVuu",
        "XepjDxCQ1G8p",
        "Q0dNQg51NMef",
        "eZEY8vBCgrgy",
        "DV0LEuRVjCXO",
        "Wxn24gyx1Xpd",
        "h2ep7nNejCYP",
        "esUJRMQPgrhS",
        "mNg0fAYIgrhd"
      ],
      "provenance": []
    },
    "coursera": {
      "schema_names": [
        "NLPC3-1A"
      ]
    },
    "kernelspec": {
      "display_name": "Python 3",
      "language": "python",
      "name": "python3"
    },
    "language_info": {
      "codemirror_mode": {
        "name": "ipython",
        "version": 3
      },
      "file_extension": ".py",
      "mimetype": "text/x-python",
      "name": "python",
      "nbconvert_exporter": "python",
      "pygments_lexer": "ipython3",
      "version": "3.7.1"
    }
  },
  "nbformat": 4,
  "nbformat_minor": 0
}