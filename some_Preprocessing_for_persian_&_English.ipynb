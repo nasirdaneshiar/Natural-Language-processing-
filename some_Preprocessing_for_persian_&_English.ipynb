{
  "nbformat": 4,
  "nbformat_minor": 0,
  "metadata": {
    "colab": {
      "provenance": []
    },
    "kernelspec": {
      "name": "python3",
      "display_name": "Python 3"
    },
    "language_info": {
      "name": "python"
    }
  },
  "cells": [
    {
      "cell_type": "code",
      "source": [
        "from nltk.corpus import stopwords\n",
        "import nltk\n",
        "nltk.download('stopwords')"
      ],
      "metadata": {
        "colab": {
          "base_uri": "https://localhost:8080/"
        },
        "id": "RnZ0yYwkI1HU",
        "outputId": "b668a99d-59c3-43dd-8047-257ca1463af2"
      },
      "execution_count": null,
      "outputs": [
        {
          "output_type": "stream",
          "name": "stderr",
          "text": [
            "[nltk_data] Downloading package stopwords to /root/nltk_data...\n",
            "[nltk_data]   Unzipping corpora/stopwords.zip.\n"
          ]
        },
        {
          "output_type": "execute_result",
          "data": {
            "text/plain": [
              "True"
            ]
          },
          "metadata": {},
          "execution_count": 1
        }
      ]
    },
    {
      "cell_type": "code",
      "source": [
        "!pip install hazm"
      ],
      "metadata": {
        "colab": {
          "base_uri": "https://localhost:8080/",
          "height": 559
        },
        "id": "nxkZRt5aKk1V",
        "outputId": "a9002c8d-74a0-48f6-a541-b42323aa044d"
      },
      "execution_count": null,
      "outputs": [
        {
          "output_type": "stream",
          "name": "stdout",
          "text": [
            "Looking in indexes: https://pypi.org/simple, https://us-python.pkg.dev/colab-wheels/public/simple/\n",
            "Collecting hazm\n",
            "  Downloading hazm-0.7.0-py3-none-any.whl (316 kB)\n",
            "\u001b[K     |████████████████████████████████| 316 kB 4.8 MB/s \n",
            "\u001b[?25hCollecting nltk==3.3\n",
            "  Downloading nltk-3.3.0.zip (1.4 MB)\n",
            "\u001b[K     |████████████████████████████████| 1.4 MB 36.3 MB/s \n",
            "\u001b[?25hCollecting libwapiti>=0.2.1\n",
            "  Downloading libwapiti-0.2.1.tar.gz (233 kB)\n",
            "\u001b[K     |████████████████████████████████| 233 kB 34.7 MB/s \n",
            "\u001b[?25hRequirement already satisfied: six in /usr/local/lib/python3.7/dist-packages (from nltk==3.3->hazm) (1.15.0)\n",
            "Building wheels for collected packages: nltk, libwapiti\n",
            "  Building wheel for nltk (setup.py) ... \u001b[?25l\u001b[?25hdone\n",
            "  Created wheel for nltk: filename=nltk-3.3-py3-none-any.whl size=1394487 sha256=056e49b02304066ba5a90b5a66b45a934dabc5a9272fe0c9a0f28760899fc8fc\n",
            "  Stored in directory: /root/.cache/pip/wheels/9b/fd/0c/d92302c876e5de87ebd7fc0979d82edb93e2d8d768bf71fac4\n",
            "  Building wheel for libwapiti (setup.py) ... \u001b[?25l\u001b[?25hdone\n",
            "  Created wheel for libwapiti: filename=libwapiti-0.2.1-cp37-cp37m-linux_x86_64.whl size=153941 sha256=639445068ed3677400427ed0488c6e3be2a9d7b6bce52d5657a1949e5944ef35\n",
            "  Stored in directory: /root/.cache/pip/wheels/ab/b2/5b/0fe4b8f5c0e65341e8ea7bb3f4a6ebabfe8b1ac31322392dbf\n",
            "Successfully built nltk libwapiti\n",
            "Installing collected packages: nltk, libwapiti, hazm\n",
            "  Attempting uninstall: nltk\n",
            "    Found existing installation: nltk 3.7\n",
            "    Uninstalling nltk-3.7:\n",
            "      Successfully uninstalled nltk-3.7\n",
            "Successfully installed hazm-0.7.0 libwapiti-0.2.1 nltk-3.3\n"
          ]
        },
        {
          "output_type": "display_data",
          "data": {
            "application/vnd.colab-display-data+json": {
              "pip_warning": {
                "packages": [
                  "nltk"
                ]
              }
            }
          },
          "metadata": {}
        }
      ]
    },
    {
      "cell_type": "code",
      "execution_count": null,
      "metadata": {
        "id": "6AXIbziKIuA-"
      },
      "outputs": [],
      "source": [
        "tweet1 =\"\"\"Remember to keep your quote short enough to fit easily into 140 characters (or type only a portion of the quote in the body of the tweet and use ellipses).\n",
        "Quote tweets do not bring the same engagement when you abbreviate words in the body of the tweet.\"\"\"\n"
      ]
    },
    {
      "cell_type": "code",
      "source": [
        "stop_words = stopwords.words(\"english\")"
      ],
      "metadata": {
        "id": "L24_G8biI_T1"
      },
      "execution_count": null,
      "outputs": []
    },
    {
      "cell_type": "code",
      "source": [
        "tweet = tweet1.lower().split()\n",
        "tweet_no_stop_words = [word for word in tweet if word not in stop_words]\n",
        "print(\"\".join(tweet))\n",
        "print(\"\".join(tweet_no_stop_words))"
      ],
      "metadata": {
        "colab": {
          "base_uri": "https://localhost:8080/"
        },
        "id": "jV6RzQ7GMI8s",
        "outputId": "d63938a9-dd69-4b6a-bd2a-337369219317"
      },
      "execution_count": null,
      "outputs": [
        {
          "output_type": "stream",
          "name": "stdout",
          "text": [
            "remembertokeepyourquoteshortenoughtofiteasilyinto140characters(ortypeonlyaportionofthequoteinthebodyofthetweetanduseellipses).quotetweetsdonotbringthesameengagementwhenyouabbreviatewordsinthebodyofthetweet.\n",
            "rememberkeepquoteshortenoughfiteasily140characters(ortypeportionquotebodytweetuseellipses).quotetweetsbringengagementabbreviatewordsbodytweet.\n"
          ]
        }
      ]
    },
    {
      "cell_type": "code",
      "source": [
        "from hazm import stopwords_list"
      ],
      "metadata": {
        "id": "bG135XihNQuP"
      },
      "execution_count": null,
      "outputs": []
    },
    {
      "cell_type": "code",
      "source": [
        "far_stop_words = stopwords_list()\n",
        "print(far_stop_words[:10])"
      ],
      "metadata": {
        "colab": {
          "base_uri": "https://localhost:8080/"
        },
        "id": "IqIre2ebOstm",
        "outputId": "07500515-4f25-46dc-eb60-ca9105212090"
      },
      "execution_count": null,
      "outputs": [
        {
          "output_type": "stream",
          "name": "stdout",
          "text": [
            "['و', 'در', 'به', 'از', 'که', 'این', 'را', 'با', 'است', 'برای']\n"
          ]
        }
      ]
    },
    {
      "cell_type": "code",
      "source": [
        "tweet2 = \"\"\"یک پژوهش که در سال ۱۳۹۰ به‌طور مشخص در مورد ویکی‌پدیای فارسی انجام شد نشان داد که انگیزه‌های مالی نقشی در همکاری کاربران با ویکی‌پدیا ندارند. قوی‌ترین انگیزه برای آغاز همکاری کاربران تازه‌وارد، انگیزه‌های فردی از جمله کنجکاوی و یافتن اطلاعات مشخص شد.\"\"\"\n",
        "tweet2 = tweet2.split()\n",
        "tweet2_no_stop_words = [word for word in tweet2 if word not in far_stop_words]\n",
        "print(\"\".join(tweet2))\n",
        "print(\"\".join(tweet2_no_stop_words))\n",
        "print(tweet2)\n",
        "print(tweet2_no_stop_words)"
      ],
      "metadata": {
        "colab": {
          "base_uri": "https://localhost:8080/"
        },
        "id": "1XevDfy0N2Ge",
        "outputId": "912ea719-8ecf-4150-b110-8d50033cd836"
      },
      "execution_count": null,
      "outputs": [
        {
          "output_type": "stream",
          "name": "stdout",
          "text": [
            "یکپژوهشکهدرسال۱۳۹۰به‌طورمشخصدرموردویکی‌پدیایفارسیانجامشدنشاندادکهانگیزه‌هایمالینقشیدرهمکاریکاربرانباویکی‌پدیاندارند.قوی‌ترینانگیزهبرایآغازهمکاریکاربرانتازه‌وارد،انگیزه‌هایفردیازجملهکنجکاویویافتناطلاعاتمشخصشد.\n",
            "پژوهشسال۱۳۹۰به‌طورویکی‌پدیایفارسیانجامنشانانگیزه‌هایمالینقشیهمکاریکاربرانویکی‌پدیاندارند.قوی‌ترینانگیزهآغازهمکاریکاربرانتازه‌وارد،انگیزه‌هایجملهکنجکاوییافتناطلاعاتشد.\n",
            "['یک', 'پژوهش', 'که', 'در', 'سال', '۱۳۹۰', 'به\\u200cطور', 'مشخص', 'در', 'مورد', 'ویکی\\u200cپدیای', 'فارسی', 'انجام', 'شد', 'نشان', 'داد', 'که', 'انگیزه\\u200cهای', 'مالی', 'نقشی', 'در', 'همکاری', 'کاربران', 'با', 'ویکی\\u200cپدیا', 'ندارند.', 'قوی\\u200cترین', 'انگیزه', 'برای', 'آغاز', 'همکاری', 'کاربران', 'تازه\\u200cوارد،', 'انگیزه\\u200cهای', 'فردی', 'از', 'جمله', 'کنجکاوی', 'و', 'یافتن', 'اطلاعات', 'مشخص', 'شد.']\n",
            "['پژوهش', 'سال', '۱۳۹۰', 'به\\u200cطور', 'ویکی\\u200cپدیای', 'فارسی', 'انجام', 'نشان', 'انگیزه\\u200cهای', 'مالی', 'نقشی', 'همکاری', 'کاربران', 'ویکی\\u200cپدیا', 'ندارند.', 'قوی\\u200cترین', 'انگیزه', 'آغاز', 'همکاری', 'کاربران', 'تازه\\u200cوارد،', 'انگیزه\\u200cهای', 'جمله', 'کنجکاوی', 'یافتن', 'اطلاعات', 'شد.']\n"
          ]
        }
      ]
    },
    {
      "cell_type": "code",
      "source": [
        "from nltk.stem import PorterStemmer, LancasterStemmer\n",
        "from hazm import Stemmer\n",
        "stemmer = Stemmer()\n",
        "Porter = PorterStemmer()\n",
        "Lancaster = LancasterStemmer()\n",
        "stemmed_en = [(Porter.stem(word), Lancaster.stem(word)) for word in tweet_no_stop_words] \n",
        "stemmed_fa = [stemmer.stem(word) for word in tweet2_no_stop_words]\n",
        "print(stemmed_en)\n",
        "print(stemmed_fa)"
      ],
      "metadata": {
        "colab": {
          "base_uri": "https://localhost:8080/"
        },
        "id": "wTbFVzWUPZ9L",
        "outputId": "eb56d3e1-baa5-4af2-d9d8-7d03cd80e234"
      },
      "execution_count": null,
      "outputs": [
        {
          "output_type": "stream",
          "name": "stdout",
          "text": [
            "[('rememb', 'rememb'), ('keep', 'keep'), ('quot', 'quot'), ('short', 'short'), ('enough', 'enough'), ('fit', 'fit'), ('easili', 'easy'), ('140', '140'), ('charact', 'charact'), ('(or', '(or'), ('type', 'typ'), ('portion', 'port'), ('quot', 'quot'), ('bodi', 'body'), ('tweet', 'tweet'), ('use', 'us'), ('ellipses).', 'ellipses).'), ('quot', 'quot'), ('tweet', 'tweet'), ('bring', 'bring'), ('engag', 'eng'), ('abbrevi', 'abbrevy'), ('word', 'word'), ('bodi', 'body'), ('tweet.', 'tweet.')]\n",
            "['پژوه', 'سال', '۱۳۹۰', 'به\\u200cطور', 'ویکی\\u200cپدیا', 'فارس', 'انجا', 'ن', 'انگیزه', 'مال', 'نقش', 'همکار', 'کاربر', 'ویکی\\u200cپدیا', 'ندارند.', 'قوی', 'انگیزه', 'آغاز', 'همکار', 'کاربر', 'تازه\\u200cوارد،', 'انگیزه', 'جمله', 'کنجکاو', 'یافتن', 'اطلاع', 'شد.']\n"
          ]
        }
      ]
    },
    {
      "cell_type": "code",
      "source": [
        "nltk.download('wordnet')\n",
        "nltk.download('omw-1.4')"
      ],
      "metadata": {
        "id": "Z4PYuDORXQ9r",
        "colab": {
          "base_uri": "https://localhost:8080/"
        },
        "outputId": "5a5ea865-4d36-4612-ebfe-0e60e1e3a5c3"
      },
      "execution_count": null,
      "outputs": [
        {
          "output_type": "stream",
          "name": "stderr",
          "text": [
            "[nltk_data] Downloading package wordnet to /root/nltk_data...\n",
            "[nltk_data]   Package wordnet is already up-to-date!\n",
            "[nltk_data] Downloading package omw-1.4 to /root/nltk_data...\n"
          ]
        },
        {
          "output_type": "execute_result",
          "data": {
            "text/plain": [
              "True"
            ]
          },
          "metadata": {},
          "execution_count": 15
        }
      ]
    },
    {
      "cell_type": "code",
      "source": [
        "words = ['amazed', 'amazing']\n",
        "from nltk.stem import WordNetLemmatizer\n",
        "from nltk.corpus import wordnet\n",
        "Lemmatizer = WordNetLemmatizer()\n",
        "print([Lemmatizer.lemmatize(word) for word  in  words])\n",
        "print([Lemmatizer.lemmatize(word,wordnet.VERB) for word  in  words])"
      ],
      "metadata": {
        "colab": {
          "base_uri": "https://localhost:8080/"
        },
        "id": "odXR6zD13TkP",
        "outputId": "5ac36534-2007-4ee4-a7ca-e73952b479c9"
      },
      "execution_count": null,
      "outputs": [
        {
          "output_type": "stream",
          "name": "stdout",
          "text": [
            "['amazed', 'amazing']\n",
            "['amaze', 'amaze']\n"
          ]
        }
      ]
    },
    {
      "cell_type": "code",
      "source": [
        "import unicodedata\n",
        "c_with_cedilla = \"\\u00C7\"\n",
        "c_plus_cedilla = \"\\u0043\\u0327\""
      ],
      "metadata": {
        "id": "dseXRZy04mUw"
      },
      "execution_count": null,
      "outputs": []
    },
    {
      "cell_type": "code",
      "source": [
        "unicodedata.normalize('NFKC',c_with_cedilla) == unicodedata.normalize('NFKC',c_plus_cedilla)"
      ],
      "metadata": {
        "colab": {
          "base_uri": "https://localhost:8080/"
        },
        "id": "REpfy47qEwRT",
        "outputId": "44cb1811-a0f5-4507-8b5e-80e47ea3fb34"
      },
      "execution_count": null,
      "outputs": [
        {
          "output_type": "execute_result",
          "data": {
            "text/plain": [
              "True"
            ]
          },
          "metadata": {},
          "execution_count": 22
        }
      ]
    },
    {
      "cell_type": "code",
      "source": [],
      "metadata": {
        "id": "rOfWr1e_Eitr"
      },
      "execution_count": null,
      "outputs": []
    }
  ]
}